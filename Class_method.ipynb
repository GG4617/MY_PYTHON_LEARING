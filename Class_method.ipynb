{
 "cells": [
  {
   "cell_type": "code",
   "execution_count": 1,
   "id": "44f6edab",
   "metadata": {},
   "outputs": [],
   "source": [
    "class pwskills:\n",
    "    def __init__(self,name,email):\n",
    "        self.name =name\n",
    "        self.email = email\n",
    "#         for accesing name and email\n",
    "    def students_details(self):\n",
    "        print(self.name,self.email)\n",
    "    "
   ]
  },
  {
   "cell_type": "code",
   "execution_count": 2,
   "id": "1b7b0307",
   "metadata": {},
   "outputs": [],
   "source": [
    "# create an object of pwskills#\n",
    "pw = pwskills(\"Ganesh\",\"ganeshgupta4617@gmail.com\")"
   ]
  },
  {
   "cell_type": "code",
   "execution_count": 3,
   "id": "0b420b58",
   "metadata": {},
   "outputs": [],
   "source": [
    "# for acessing we can access with the help of an object which have been created#"
   ]
  },
  {
   "cell_type": "code",
   "execution_count": 4,
   "id": "2938e154",
   "metadata": {},
   "outputs": [
    {
     "data": {
      "text/plain": [
       "'Ganesh'"
      ]
     },
     "execution_count": 4,
     "metadata": {},
     "output_type": "execute_result"
    }
   ],
   "source": [
    "pw.name"
   ]
  },
  {
   "cell_type": "code",
   "execution_count": 5,
   "id": "7f552790",
   "metadata": {},
   "outputs": [
    {
     "data": {
      "text/plain": [
       "'ganeshgupta4617@gmail.com'"
      ]
     },
     "execution_count": 5,
     "metadata": {},
     "output_type": "execute_result"
    }
   ],
   "source": [
    "pw.email"
   ]
  },
  {
   "cell_type": "code",
   "execution_count": 6,
   "id": "e37e184a",
   "metadata": {},
   "outputs": [
    {
     "name": "stdout",
     "output_type": "stream",
     "text": [
      "Ganesh ganeshgupta4617@gmail.com\n"
     ]
    }
   ],
   "source": [
    "pw.students_details()"
   ]
  },
  {
   "cell_type": "code",
   "execution_count": 7,
   "id": "eacecda1",
   "metadata": {},
   "outputs": [],
   "source": [
    "# Now see in the different method #\n",
    "# class method ek aisa tarika hai jisse ham def __init  function ko overload kar sakte hai #"
   ]
  },
  {
   "cell_type": "code",
   "execution_count": 8,
   "id": "c934753f",
   "metadata": {},
   "outputs": [],
   "source": [
    "# python mei direct overloading ka concept avialble nhi hai but ham class method ki help se isse kar sakte hai #"
   ]
  },
  {
   "cell_type": "code",
   "execution_count": 9,
   "id": "f6097154",
   "metadata": {},
   "outputs": [],
   "source": [
    "class pwskills1:\n",
    "    def __init__(self,name,email):\n",
    "        self.name =name\n",
    "        self.email = email\n",
    "    @classmethod  \n",
    "    def details(cls,name,email):\n",
    "        return cls(name,email)\n",
    "    \n",
    "#         for accesing name and email\n",
    "    def students_details(self):\n",
    "        print(self.name,self.email)\n",
    "    "
   ]
  },
  {
   "cell_type": "code",
   "execution_count": 10,
   "id": "967ecab5",
   "metadata": {},
   "outputs": [],
   "source": [
    "# bina object create kiye bhi data pass kiya ja sakta hai ? let's see how?"
   ]
  },
  {
   "cell_type": "code",
   "execution_count": 11,
   "id": "9842433b",
   "metadata": {},
   "outputs": [],
   "source": [
    "pw1 = pwskills1.details(\"Ganesh\",\"ganeshgupta4617@gmail.com\")"
   ]
  },
  {
   "cell_type": "code",
   "execution_count": 12,
   "id": "28c0b528",
   "metadata": {},
   "outputs": [
    {
     "data": {
      "text/plain": [
       "'Ganesh'"
      ]
     },
     "execution_count": 12,
     "metadata": {},
     "output_type": "execute_result"
    }
   ],
   "source": [
    "pw1.name"
   ]
  },
  {
   "cell_type": "code",
   "execution_count": 13,
   "id": "e7668f60",
   "metadata": {},
   "outputs": [],
   "source": [
    "# overload kar diya hamne #"
   ]
  },
  {
   "cell_type": "code",
   "execution_count": 14,
   "id": "e1dc4c31",
   "metadata": {},
   "outputs": [
    {
     "data": {
      "text/plain": [
       "'ganeshgupta4617@gmail.com'"
      ]
     },
     "execution_count": 14,
     "metadata": {},
     "output_type": "execute_result"
    }
   ],
   "source": [
    "pw1.email"
   ]
  },
  {
   "cell_type": "code",
   "execution_count": 15,
   "id": "50349171",
   "metadata": {},
   "outputs": [
    {
     "name": "stdout",
     "output_type": "stream",
     "text": [
      "Ganesh ganeshgupta4617@gmail.com\n"
     ]
    }
   ],
   "source": [
    "pw1.students_details()"
   ]
  },
  {
   "cell_type": "code",
   "execution_count": 16,
   "id": "5ed8d7ae",
   "metadata": {},
   "outputs": [],
   "source": [
    "# Examples:\n",
    "class pwskills2:\n",
    "#     create a variable and define mobi no.\n",
    "    mobiID_num = 8408972289\n",
    "    def __init__(self,name,email):\n",
    "        self.name =name\n",
    "        self.email = email\n",
    "        \n",
    "    @classmethod  \n",
    "    def details(cls,name,email):\n",
    "        return cls(name,email)\n",
    "    \n",
    "#         for accesing name and email\n",
    "    def students_details(self):\n",
    "        print(self.name,self.email)\n",
    "    "
   ]
  },
  {
   "cell_type": "code",
   "execution_count": 17,
   "id": "d2afc6dd",
   "metadata": {},
   "outputs": [],
   "source": [
    "# class variable ko access karna hai toh class name ki help se usse access kar sakte hai #"
   ]
  },
  {
   "cell_type": "code",
   "execution_count": 18,
   "id": "7416bd8f",
   "metadata": {},
   "outputs": [
    {
     "data": {
      "text/plain": [
       "8408972289"
      ]
     },
     "execution_count": 18,
     "metadata": {},
     "output_type": "execute_result"
    }
   ],
   "source": [
    "pwskills2.mobiID_num"
   ]
  },
  {
   "cell_type": "code",
   "execution_count": 19,
   "id": "f64ee609",
   "metadata": {},
   "outputs": [],
   "source": [
    "# isko ham access kar sakte hai even inside a class method # let's see how ?"
   ]
  },
  {
   "cell_type": "code",
   "execution_count": 20,
   "id": "38785403",
   "metadata": {},
   "outputs": [],
   "source": [
    "class pwskills2:\n",
    "#     create a variable and define mobi no.\n",
    "    mobiID_num = 8408972289\n",
    "    \n",
    "    def __init__(self,name,email):\n",
    "        \n",
    "        self.name =name\n",
    "        self.email = email\n",
    "        \n",
    "    @classmethod\n",
    "    def chang_no(cls,mobile):\n",
    "        pwskills2.mobile_num = mobile\n",
    "        \n",
    "    @classmethod  \n",
    "    def details(cls,name,email):\n",
    "        return cls(name,email)\n",
    "    \n",
    "#         for accesing name and email\n",
    "    def students_details(self):\n",
    "        print(self.name,self.email,pwskills2.mobiID_num)\n",
    "    "
   ]
  },
  {
   "cell_type": "code",
   "execution_count": 21,
   "id": "43383ccc",
   "metadata": {},
   "outputs": [],
   "source": [
    "# create an object and access\n",
    "pw_obj = pwskills2(\"Ganesh\",\"ganeshgupta4617@gmail.com\")"
   ]
  },
  {
   "cell_type": "code",
   "execution_count": 22,
   "id": "12b2429d",
   "metadata": {},
   "outputs": [
    {
     "name": "stdout",
     "output_type": "stream",
     "text": [
      "Ganesh ganeshgupta4617@gmail.com 8408972289\n"
     ]
    }
   ],
   "source": [
    "pw_obj.students_details()"
   ]
  },
  {
   "cell_type": "code",
   "execution_count": 23,
   "id": "1487e6a6",
   "metadata": {},
   "outputs": [],
   "source": [
    "# class method ke through #\n",
    "pw = pwskills2.details(\"Roni\",\"Ronigupta@gmail,com\")"
   ]
  },
  {
   "cell_type": "code",
   "execution_count": 24,
   "id": "3a264bc7",
   "metadata": {},
   "outputs": [
    {
     "name": "stdout",
     "output_type": "stream",
     "text": [
      "Roni Ronigupta@gmail,com 8408972289\n"
     ]
    }
   ],
   "source": [
    "pw.students_details()"
   ]
  },
  {
   "cell_type": "code",
   "execution_count": 25,
   "id": "d3cd753d",
   "metadata": {},
   "outputs": [
    {
     "data": {
      "text/plain": [
       "8408972289"
      ]
     },
     "execution_count": 25,
     "metadata": {},
     "output_type": "execute_result"
    }
   ],
   "source": [
    "pwskills2.mobiID_num"
   ]
  },
  {
   "cell_type": "code",
   "execution_count": 26,
   "id": "aeebdef4",
   "metadata": {},
   "outputs": [],
   "source": [
    "pwskills2.chang_no(9326531989)"
   ]
  },
  {
   "cell_type": "code",
   "execution_count": 27,
   "id": "713cc175",
   "metadata": {},
   "outputs": [
    {
     "data": {
      "text/plain": [
       "9326531989"
      ]
     },
     "execution_count": 27,
     "metadata": {},
     "output_type": "execute_result"
    }
   ],
   "source": [
    "pwskills2.mobile_num"
   ]
  },
  {
   "cell_type": "code",
   "execution_count": 28,
   "id": "eb14a4a1",
   "metadata": {},
   "outputs": [],
   "source": [
    "# ham basically init ko overload kar rahe hai by using class method #"
   ]
  },
  {
   "cell_type": "code",
   "execution_count": 29,
   "id": "ebeeaa75",
   "metadata": {},
   "outputs": [],
   "source": [
    "class pwskills3:\n",
    "#     create a variable and define mobi no.\n",
    "    mobiID_num = 8408972289\n",
    "    \n",
    "    def __init__(self,name,email):\n",
    "        \n",
    "        self.name =name\n",
    "        self.email = email\n",
    "        \n",
    "    @classmethod\n",
    "    def chang_no(cls,mobile):\n",
    "        pwskills2.mobile_num = mobile\n",
    "        \n",
    "    @classmethod  \n",
    "    def details(cls,name,email):\n",
    "        return cls(name,email)\n",
    "    \n",
    "#         for accesing name and email\n",
    "    def students_details(self):\n",
    "        print(self.name,self.email,pwskills2.mobiID_num)\n",
    "    "
   ]
  },
  {
   "cell_type": "code",
   "execution_count": 30,
   "id": "12a9577b",
   "metadata": {},
   "outputs": [],
   "source": [
    "def course_detail(cls,course_name):\n",
    "    print(\"course name is\",course_name)\n",
    "# external function which is not a part of class and add it in the class#"
   ]
  },
  {
   "cell_type": "code",
   "execution_count": 31,
   "id": "dae4f186",
   "metadata": {},
   "outputs": [],
   "source": [
    "# now add it in the pwskills3 HOW?\n",
    "# see "
   ]
  },
  {
   "cell_type": "code",
   "execution_count": 32,
   "id": "2a05d290",
   "metadata": {},
   "outputs": [],
   "source": [
    "pwskills3.course_detail = classmethod(course_detail)"
   ]
  },
  {
   "cell_type": "code",
   "execution_count": 33,
   "id": "4c8e5f10",
   "metadata": {},
   "outputs": [
    {
     "name": "stdout",
     "output_type": "stream",
     "text": [
      "course name is DATA SCIENCE MASTERS\n"
     ]
    }
   ],
   "source": [
    "pwskills3.course_detail(\"DATA SCIENCE MASTERS\")"
   ]
  },
  {
   "cell_type": "code",
   "execution_count": 34,
   "id": "7deda4ce",
   "metadata": {},
   "outputs": [],
   "source": [
    "def mentor(cls,list_of_mentor):\n",
    "    print(list_of_mentor)"
   ]
  },
  {
   "cell_type": "code",
   "execution_count": 35,
   "id": "e69c147a",
   "metadata": {},
   "outputs": [],
   "source": [
    "pwskills3.mentor = classmethod(mentor)"
   ]
  },
  {
   "cell_type": "code",
   "execution_count": 36,
   "id": "754cbd0a",
   "metadata": {},
   "outputs": [
    {
     "name": "stdout",
     "output_type": "stream",
     "text": [
      "['Sudanshu', 'Krish naik']\n"
     ]
    }
   ],
   "source": [
    "pwskills3.mentor([\"Sudanshu\",\"Krish naik\"])"
   ]
  },
  {
   "cell_type": "code",
   "execution_count": 37,
   "id": "6c92d0a0",
   "metadata": {},
   "outputs": [],
   "source": [
    "# in this way we can add the external function in the existing classes using the class method #"
   ]
  },
  {
   "cell_type": "code",
   "execution_count": 38,
   "id": "2d8be909",
   "metadata": {},
   "outputs": [],
   "source": [
    "class pwskills4:\n",
    "#     create a variable and define mobi no.\n",
    "    mobiID_num = 8408972289\n",
    "    \n",
    "    def __init__(self,name,email):\n",
    "        \n",
    "        self.name =name\n",
    "        self.email = email\n",
    "        \n",
    "    @classmethod\n",
    "    def chang_no(cls,mobile):\n",
    "        pwskills2.mobile_num = mobile\n",
    "        \n",
    "    @classmethod  \n",
    "    def details(cls,name,email):\n",
    "        return cls(name,email)\n",
    "    \n",
    "#         for accesing name and email\n",
    "    def students_details(self):\n",
    "        print(self.name,self.email,pwskills2.mobiID_num)\n",
    "    "
   ]
  },
  {
   "cell_type": "code",
   "execution_count": 39,
   "id": "a281be32",
   "metadata": {},
   "outputs": [],
   "source": [
    "# mujhe function ko deactivate karna hai basically delete karna hai let's suppose change_no ko koi access na kar pay#"
   ]
  },
  {
   "cell_type": "code",
   "execution_count": 40,
   "id": "5cb4d27c",
   "metadata": {},
   "outputs": [],
   "source": [
    "del pwskills4.chang_no"
   ]
  },
  {
   "cell_type": "code",
   "execution_count": 41,
   "id": "6836a419",
   "metadata": {},
   "outputs": [],
   "source": [
    "# abhi ham chang_num ko access nhi kar skate hai #"
   ]
  },
  {
   "cell_type": "code",
   "execution_count": 42,
   "id": "c42480e3",
   "metadata": {},
   "outputs": [],
   "source": [
    "delattr(pwskills4,\"details\")"
   ]
  },
  {
   "cell_type": "code",
   "execution_count": 43,
   "id": "c5632412",
   "metadata": {},
   "outputs": [],
   "source": [
    "delattr(pwskills4,\"mobiID_num\")"
   ]
  },
  {
   "cell_type": "code",
   "execution_count": null,
   "id": "0f342a88",
   "metadata": {},
   "outputs": [],
   "source": []
  },
  {
   "cell_type": "code",
   "execution_count": null,
   "id": "75b3e026",
   "metadata": {},
   "outputs": [],
   "source": []
  }
 ],
 "metadata": {
  "kernelspec": {
   "display_name": "Python 3 (ipykernel)",
   "language": "python",
   "name": "python3"
  },
  "language_info": {
   "codemirror_mode": {
    "name": "ipython",
    "version": 3
   },
   "file_extension": ".py",
   "mimetype": "text/x-python",
   "name": "python",
   "nbconvert_exporter": "python",
   "pygments_lexer": "ipython3",
   "version": "3.11.5"
  }
 },
 "nbformat": 4,
 "nbformat_minor": 5
}
