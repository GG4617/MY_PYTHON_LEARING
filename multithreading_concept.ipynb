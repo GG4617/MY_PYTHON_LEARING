{
 "cells": [
  {
   "cell_type": "code",
   "execution_count": 1,
   "id": "a94c96b5",
   "metadata": {},
   "outputs": [],
   "source": [
    "# ek core ke andar hame program chalana hai its means ki ham multiple thread create karenge ....python ke andar do libraray hai ek thread(absolute) hai and other one is threading "
   ]
  },
  {
   "cell_type": "code",
   "execution_count": 2,
   "id": "8c432498",
   "metadata": {},
   "outputs": [],
   "source": [
    "# program \n",
    "# import threading library \n",
    "import threading"
   ]
  },
  {
   "cell_type": "code",
   "execution_count": 10,
   "id": "2403430b",
   "metadata": {},
   "outputs": [],
   "source": [
    "def test(id):\n",
    "    print(\"prog start %d\" %id)\n",
    "#     placeholder pass kara hai %"
   ]
  },
  {
   "cell_type": "code",
   "execution_count": 11,
   "id": "1ac2a329",
   "metadata": {},
   "outputs": [],
   "source": [
    "# input lekar pass karwa rha hai"
   ]
  },
  {
   "cell_type": "code",
   "execution_count": 12,
   "id": "7e4f883d",
   "metadata": {},
   "outputs": [
    {
     "name": "stdout",
     "output_type": "stream",
     "text": [
      "prog start 34\n"
     ]
    }
   ],
   "source": [
    "test(34)"
   ]
  },
  {
   "cell_type": "code",
   "execution_count": 14,
   "id": "1799cd30",
   "metadata": {},
   "outputs": [],
   "source": [
    "thread=[threading.Thread(target=test,args=(i,))for i in range(10)]"
   ]
  },
  {
   "cell_type": "code",
   "execution_count": 15,
   "id": "bbd8cc44",
   "metadata": {},
   "outputs": [],
   "source": [
    "# ek single core ke andar ye saare 10 program run karana hai with different arguments"
   ]
  },
  {
   "cell_type": "code",
   "execution_count": 16,
   "id": "0711ba23",
   "metadata": {},
   "outputs": [
    {
     "name": "stdout",
     "output_type": "stream",
     "text": [
      "prog start 0\n",
      "prog start 1\n",
      "prog start 2\n",
      "prog start 3\n",
      "prog start 4\n",
      "prog start 5\n",
      "prog start 6\n",
      "prog start 7\n",
      "prog start 8\n",
      "prog start 9\n"
     ]
    }
   ],
   "source": [
    "for t in thread :\n",
    "    t.start()"
   ]
  },
  {
   "cell_type": "code",
   "execution_count": 17,
   "id": "195e68b6",
   "metadata": {},
   "outputs": [],
   "source": [
    "# range 10 ka matlab ye hoga ki uske ham list ke andar rakhenge toh range produce karega 0 se 9 tak ."
   ]
  },
  {
   "cell_type": "code",
   "execution_count": 18,
   "id": "d6170b80",
   "metadata": {},
   "outputs": [
    {
     "data": {
      "text/plain": [
       "[0, 1, 2, 3, 4, 5, 6, 7, 8, 9]"
      ]
     },
     "execution_count": 18,
     "metadata": {},
     "output_type": "execute_result"
    }
   ],
   "source": [
    "list(range(10))"
   ]
  },
  {
   "cell_type": "code",
   "execution_count": 19,
   "id": "5e78cb3a",
   "metadata": {},
   "outputs": [
    {
     "data": {
      "text/plain": [
       "[<Thread(Thread-5 (test), stopped 684)>,\n",
       " <Thread(Thread-6 (test), stopped 5128)>,\n",
       " <Thread(Thread-7 (test), stopped 3156)>,\n",
       " <Thread(Thread-8 (test), stopped 7800)>,\n",
       " <Thread(Thread-9 (test), stopped 1912)>,\n",
       " <Thread(Thread-10 (test), stopped 1760)>,\n",
       " <Thread(Thread-11 (test), stopped 12688)>,\n",
       " <Thread(Thread-12 (test), stopped 20000)>,\n",
       " <Thread(Thread-13 (test), stopped 11524)>,\n",
       " <Thread(Thread-14 (test), stopped 14972)>]"
      ]
     },
     "execution_count": 19,
     "metadata": {},
     "output_type": "execute_result"
    }
   ],
   "source": [
    "thread"
   ]
  },
  {
   "cell_type": "code",
   "execution_count": 20,
   "id": "76b8a6c0",
   "metadata": {},
   "outputs": [
    {
     "data": {
      "text/plain": [
       "2379258426816"
      ]
     },
     "execution_count": 20,
     "metadata": {},
     "output_type": "execute_result"
    }
   ],
   "source": [
    "id(thread)"
   ]
  },
  {
   "cell_type": "code",
   "execution_count": 21,
   "id": "7749b6f5",
   "metadata": {},
   "outputs": [],
   "source": [
    "# program for multiple file store in multiple files"
   ]
  },
  {
   "cell_type": "code",
   "execution_count": 22,
   "id": "1bcc7f2f",
   "metadata": {},
   "outputs": [],
   "source": [
    "import threading\n",
    "import urllib.request"
   ]
  },
  {
   "cell_type": "code",
   "execution_count": 23,
   "id": "2cca0043",
   "metadata": {},
   "outputs": [],
   "source": [
    "# apne github ke alag alag file ko fetch karne ka program which can be open in a different tabs"
   ]
  },
  {
   "cell_type": "code",
   "execution_count": 27,
   "id": "46c72fe1",
   "metadata": {},
   "outputs": [],
   "source": [
    "def file_download(url ,filename) :\n",
    "    urllib.request.urlretrieve(url,filename)\n",
    "# url ko fetch karna hai and data ko store karna hai apke local mei or folder mei \n",
    "    "
   ]
  },
  {
   "cell_type": "code",
   "execution_count": 28,
   "id": "6f8ae6ae",
   "metadata": {},
   "outputs": [],
   "source": [
    "# for fetching separtely\n",
    "file_download('https://github.com/GG4617/FIle_sample/blob/main/sample1.txt',\"test.txt\")"
   ]
  },
  {
   "cell_type": "code",
   "execution_count": 29,
   "id": "2fcdfeed",
   "metadata": {},
   "outputs": [],
   "source": [
    "url_list = [\"https://github.com/GG4617/FIle_sample/blob/main/sample1.txt\",\"https://github.com/GG4617/FIle_sample/blob/main/sample2.txt\",\"https://github.com/GG4617/FIle_sample/blob/main/sample3.txt\"]"
   ]
  },
  {
   "cell_type": "code",
   "execution_count": 30,
   "id": "ca173d22",
   "metadata": {},
   "outputs": [
    {
     "data": {
      "text/plain": [
       "['https://github.com/GG4617/FIle_sample/blob/main/sample1.txt',\n",
       " 'https://github.com/GG4617/FIle_sample/blob/main/sample2.txt',\n",
       " 'https://github.com/GG4617/FIle_sample/blob/main/sample3.txt']"
      ]
     },
     "execution_count": 30,
     "metadata": {},
     "output_type": "execute_result"
    }
   ],
   "source": [
    "url_list"
   ]
  },
  {
   "cell_type": "code",
   "execution_count": 31,
   "id": "5cc803e7",
   "metadata": {},
   "outputs": [],
   "source": [
    "file_name_list =[\"data1.txt\",\"data2.txt\",\"data3.txt\"]"
   ]
  },
  {
   "cell_type": "code",
   "execution_count": 33,
   "id": "3ce98042",
   "metadata": {},
   "outputs": [],
   "source": [
    " ther = [threading.Thread(target=file_download,args=(url_list[i],file_name_list[i])) for i in range(len(url_list))]"
   ]
  },
  {
   "cell_type": "code",
   "execution_count": 34,
   "id": "6347553b",
   "metadata": {},
   "outputs": [
    {
     "data": {
      "text/plain": [
       "[<Thread(Thread-15 (file_download), initial)>,\n",
       " <Thread(Thread-16 (file_download), initial)>,\n",
       " <Thread(Thread-17 (file_download), initial)>]"
      ]
     },
     "execution_count": 34,
     "metadata": {},
     "output_type": "execute_result"
    }
   ],
   "source": [
    "ther\n"
   ]
  },
  {
   "cell_type": "code",
   "execution_count": 35,
   "id": "8f9bd9d7",
   "metadata": {},
   "outputs": [],
   "source": [
    "# file_downlaod ke 3 thread banakar de rha hai (sequential thread)"
   ]
  },
  {
   "cell_type": "code",
   "execution_count": 36,
   "id": "b3affd77",
   "metadata": {},
   "outputs": [],
   "source": [
    "for t in  ther :\n",
    "    t.start()"
   ]
  },
  {
   "cell_type": "code",
   "execution_count": 37,
   "id": "6715b6cf",
   "metadata": {},
   "outputs": [],
   "source": [
    "# function lega then aruguments pass karega then execute its a process for executing"
   ]
  },
  {
   "cell_type": "code",
   "execution_count": 38,
   "id": "caa59711",
   "metadata": {},
   "outputs": [
    {
     "data": {
      "text/plain": [
       "[<Thread(Thread-15 (file_download), stopped 2936)>,\n",
       " <Thread(Thread-16 (file_download), stopped 1648)>,\n",
       " <Thread(Thread-17 (file_download), stopped 3052)>]"
      ]
     },
     "execution_count": 38,
     "metadata": {},
     "output_type": "execute_result"
    }
   ],
   "source": [
    "ther"
   ]
  },
  {
   "cell_type": "code",
   "execution_count": 39,
   "id": "2c8aa4d5",
   "metadata": {},
   "outputs": [],
   "source": [
    "import time "
   ]
  },
  {
   "cell_type": "code",
   "execution_count": 71,
   "id": "8588a6f8",
   "metadata": {},
   "outputs": [],
   "source": [
    "def test1(id):\n",
    "    for i in range(10):\n",
    "        print(\"test1 %d printing %d %s\"%(id,i,time.ctime()))\n",
    "        time.sleep(1)"
   ]
  },
  {
   "cell_type": "code",
   "execution_count": 72,
   "id": "07edadb1",
   "metadata": {},
   "outputs": [
    {
     "name": "stdout",
     "output_type": "stream",
     "text": [
      "test1 0 printing 0 Mon May  6 12:46:17 2024\n",
      "test1 0 printing 1 Mon May  6 12:46:18 2024\n",
      "test1 0 printing 2 Mon May  6 12:46:19 2024\n",
      "test1 0 printing 3 Mon May  6 12:46:20 2024\n",
      "test1 0 printing 4 Mon May  6 12:46:21 2024\n",
      "test1 0 printing 5 Mon May  6 12:46:22 2024\n",
      "test1 0 printing 6 Mon May  6 12:46:23 2024\n",
      "test1 0 printing 7 Mon May  6 12:46:24 2024\n",
      "test1 0 printing 8 Mon May  6 12:46:26 2024\n",
      "test1 0 printing 9 Mon May  6 12:46:27 2024\n"
     ]
    }
   ],
   "source": [
    "test1(0)"
   ]
  },
  {
   "cell_type": "code",
   "execution_count": 73,
   "id": "3286578b",
   "metadata": {},
   "outputs": [],
   "source": [
    "# benefit for time.sleep :multiplr ids ke liyr print karo smaple program becomes3 times"
   ]
  },
  {
   "cell_type": "code",
   "execution_count": 74,
   "id": "1b79f162",
   "metadata": {},
   "outputs": [],
   "source": [
    "thread1=[threading.Thread(target=test1,args=(i,)) for i in range(3)]"
   ]
  },
  {
   "cell_type": "code",
   "execution_count": 75,
   "id": "6d5e4ec3",
   "metadata": {},
   "outputs": [
    {
     "name": "stdout",
     "output_type": "stream",
     "text": [
      "test1 0 printing 0 Mon May  6 12:46:32 2024\n",
      "test1 1 printing 0 Mon May  6 12:46:32 2024\n",
      "test1 2 printing 0 Mon May  6 12:46:32 2024\n",
      "test1 0 printing 1 Mon May  6 12:46:33 2024test1 1 printing 1 Mon May  6 12:46:33 2024\n",
      "\n",
      "test1 2 printing 1 Mon May  6 12:46:33 2024\n",
      "test1 0 printing 2 Mon May  6 12:46:34 2024test1 1 printing 2 Mon May  6 12:46:34 2024\n",
      "\n",
      "test1 2 printing 2 Mon May  6 12:46:34 2024\n",
      "test1 1 printing 3 Mon May  6 12:46:35 2024\n",
      "test1 2 printing 3 Mon May  6 12:46:35 2024\n",
      "test1 0 printing 3 Mon May  6 12:46:35 2024\n",
      "test1 1 printing 4 Mon May  6 12:46:36 2024test1 2 printing 4 Mon May  6 12:46:36 2024\n",
      "\n",
      "test1 0 printing 4 Mon May  6 12:46:36 2024\n",
      "test1 2 printing 5 Mon May  6 12:46:37 2024\n",
      "test1 1 printing 5 Mon May  6 12:46:37 2024\n",
      "test1 0 printing 5 Mon May  6 12:46:37 2024\n",
      "test1 0 printing 6 Mon May  6 12:46:38 2024test1 2 printing 6 Mon May  6 12:46:38 2024\n",
      "test1 1 printing 6 Mon May  6 12:46:38 2024\n",
      "\n",
      "test1 2 printing 7 Mon May  6 12:46:39 2024\n",
      "test1 1 printing 7 Mon May  6 12:46:39 2024\n",
      "test1 0 printing 7 Mon May  6 12:46:39 2024\n",
      "test1 1 printing 8 Mon May  6 12:46:40 2024\n",
      "test1 2 printing 8 Mon May  6 12:46:40 2024\n",
      "test1 0 printing 8 Mon May  6 12:46:40 2024\n",
      "test1 1 printing 9 Mon May  6 12:46:41 2024\n",
      "test1 0 printing 9 Mon May  6 12:46:41 2024\n",
      "test1 2 printing 9 Mon May  6 12:46:41 2024\n"
     ]
    }
   ],
   "source": [
    "for t in thread1:\n",
    "    t.start()"
   ]
  },
  {
   "cell_type": "code",
   "execution_count": 55,
   "id": "6145e1de",
   "metadata": {},
   "outputs": [
    {
     "name": "stdout",
     "output_type": "stream",
     "text": [
      "test1 0 printing 0\n",
      "test1 0 printing 1\n",
      "test1 0 printing 2\n",
      "test1 0 printing 3\n",
      "test1 0 printing 4\n",
      "test1 0 printing 5\n",
      "test1 0 printing 6\n",
      "test1 0 printing 7\n",
      "test1 0 printing 8\n",
      "test1 0 printing 9\n"
     ]
    }
   ],
   "source": [
    "test1(0)"
   ]
  },
  {
   "cell_type": "code",
   "execution_count": 76,
   "id": "b2d6ff67",
   "metadata": {},
   "outputs": [],
   "source": [
    "# baki time underutilized hota hai"
   ]
  },
  {
   "cell_type": "code",
   "execution_count": 77,
   "id": "2a1e4aba",
   "metadata": {},
   "outputs": [],
   "source": [
    "# resource utilization efficiently done in this process"
   ]
  },
  {
   "cell_type": "code",
   "execution_count": 78,
   "id": "94619ffb",
   "metadata": {},
   "outputs": [],
   "source": [
    "# program ek hi resource hai saare program try karnege update karne ka "
   ]
  },
  {
   "cell_type": "code",
   "execution_count": 87,
   "id": "63f0e969",
   "metadata": {},
   "outputs": [],
   "source": [
    "shared_var = 0\n",
    "lock_var = threading.Lock()\n"
   ]
  },
  {
   "cell_type": "code",
   "execution_count": 102,
   "id": "dae14e15",
   "metadata": {},
   "outputs": [],
   "source": [
    "def test2(id):\n",
    "    global shared_var\n",
    "    with lock_var :\n",
    "        shared_var = shared_var+1\n",
    "        print(\"test2 is %d has increased the shared variable by %d \"%(id,shared_var))"
   ]
  },
  {
   "cell_type": "code",
   "execution_count": 103,
   "id": "3cd9a7c3",
   "metadata": {},
   "outputs": [],
   "source": [
    "ther3=[threading.Thread(target = test2,args=(id,)) for i in range(3)]"
   ]
  },
  {
   "cell_type": "code",
   "execution_count": 104,
   "id": "14b96f44",
   "metadata": {},
   "outputs": [
    {
     "data": {
      "text/plain": [
       "[<Thread(Thread-57 (test2), initial)>,\n",
       " <Thread(Thread-58 (test2), initial)>,\n",
       " <Thread(Thread-59 (test2), initial)>]"
      ]
     },
     "execution_count": 104,
     "metadata": {},
     "output_type": "execute_result"
    }
   ],
   "source": [
    "ther3"
   ]
  },
  {
   "cell_type": "code",
   "execution_count": 105,
   "id": "973eaba7",
   "metadata": {},
   "outputs": [
    {
     "name": "stderr",
     "output_type": "stream",
     "text": [
      "Exception in thread Thread-57 (test2):\n",
      "Traceback (most recent call last):\n",
      "  File \"C:\\Users\\GANESH GUPTA\\anaconda3\\Lib\\threading.py\", line 1038, in _bootstrap_inner\n",
      "Exception in thread Thread-58 (test2):\n",
      "Traceback (most recent call last):\n",
      "  File \"C:\\Users\\GANESH GUPTA\\anaconda3\\Lib\\threading.py\", line 1038, in _bootstrap_inner\n",
      "Exception in thread Thread-59 (test2):\n",
      "Traceback (most recent call last):\n",
      "  File \"C:\\Users\\GANESH GUPTA\\anaconda3\\Lib\\threading.py\", line 1038, in _bootstrap_inner\n",
      "    self.run()\n",
      "  File \"C:\\Users\\GANESH GUPTA\\anaconda3\\Lib\\threading.py\", line 975, in run\n",
      "    self.run()\n",
      "  File \"C:\\Users\\GANESH GUPTA\\anaconda3\\Lib\\threading.py\", line 975, in run\n",
      "    self.run()\n",
      "  File \"C:\\Users\\GANESH GUPTA\\anaconda3\\Lib\\threading.py\", line 975, in run\n",
      "    self._target(*self._args, **self._kwargs)\n",
      "  File \"C:\\Users\\GANESH GUPTA\\AppData\\Local\\Temp\\ipykernel_4748\\146676832.py\", line 5, in test2\n",
      "    self._target(*self._args, **self._kwargs)\n",
      "  File \"C:\\Users\\GANESH GUPTA\\AppData\\Local\\Temp\\ipykernel_4748\\146676832.py\", line 5, in test2\n",
      "    self._target(*self._args, **self._kwargs)\n",
      "  File \"C:\\Users\\GANESH GUPTA\\AppData\\Local\\Temp\\ipykernel_4748\\146676832.py\", line 5, in test2\n",
      "TypeError: %d format: a real number is required, not builtin_function_or_method\n",
      "TypeError: %d format: a real number is required, not builtin_function_or_method\n",
      "TypeError: %d format: a real number is required, not builtin_function_or_method\n"
     ]
    }
   ],
   "source": [
    "for t in ther3:\n",
    "    t.start()"
   ]
  },
  {
   "cell_type": "code",
   "execution_count": 106,
   "id": "0a1af296",
   "metadata": {},
   "outputs": [
    {
     "name": "stderr",
     "output_type": "stream",
     "text": [
      "Exception in thread Thread-60 (test2):\n",
      "Traceback (most recent call last):\n",
      "  File \"C:\\Users\\GANESH GUPTA\\anaconda3\\Lib\\threading.py\", line 1038, in _bootstrap_inner\n",
      "Exception in thread Thread-61 (test2):\n",
      "Traceback (most recent call last):\n",
      "  File \"C:\\Users\\GANESH GUPTA\\anaconda3\\Lib\\threading.py\", line 1038, in _bootstrap_inner\n",
      "Exception in thread Thread-62 (test2):\n",
      "Traceback (most recent call last):\n",
      "  File \"C:\\Users\\GANESH GUPTA\\anaconda3\\Lib\\threading.py\", line 1038, in _bootstrap_inner\n",
      "    self.run()\n",
      "  File \"C:\\Users\\GANESH GUPTA\\anaconda3\\Lib\\threading.py\", line 975, in run\n",
      "    self.run()\n",
      "  File \"C:\\Users\\GANESH GUPTA\\anaconda3\\Lib\\threading.py\", line 975, in run\n",
      "    self.run()\n",
      "  File \"C:\\Users\\GANESH GUPTA\\anaconda3\\Lib\\threading.py\", line 975, in run\n",
      "    self._target(*self._args, **self._kwargs)\n",
      "  File \"C:\\Users\\GANESH GUPTA\\AppData\\Local\\Temp\\ipykernel_4748\\1109681377.py\", line 7, in test2\n",
      "TypeError: %d format: a real number is required, not builtin_function_or_method\n",
      "    self._target(*self._args, **self._kwargs)\n",
      "  File \"C:\\Users\\GANESH GUPTA\\AppData\\Local\\Temp\\ipykernel_4748\\1109681377.py\", line 7, in test2\n",
      "    self._target(*self._args, **self._kwargs)\n",
      "  File \"C:\\Users\\GANESH GUPTA\\AppData\\Local\\Temp\\ipykernel_4748\\1109681377.py\", line 7, in test2\n",
      "TypeError: %d format: a real number is required, not builtin_function_or_method\n",
      "TypeError: %d format: a real number is required, not builtin_function_or_method\n"
     ]
    }
   ],
   "source": [
    "shared_var = 0\n",
    "lock_var = threading.Lock()\n",
    "def test2(id):\n",
    "    global shared_var\n",
    "    with lock_var :\n",
    "        shared_var = shared_var+1\n",
    "        print(\"test2 is %d has increased the shared variable by %d \" %(id,shared_var))\n",
    "        time.sleep(1)\n",
    "ther3=[threading.Thread(target = test2,args=(id,)) for i in range(3)]\n",
    "for t in ther3:\n",
    "    t.start()"
   ]
  },
  {
   "cell_type": "code",
   "execution_count": null,
   "id": "7c930fc0",
   "metadata": {},
   "outputs": [],
   "source": []
  },
  {
   "cell_type": "code",
   "execution_count": null,
   "id": "37d22b69",
   "metadata": {},
   "outputs": [],
   "source": []
  }
 ],
 "metadata": {
  "kernelspec": {
   "display_name": "Python 3 (ipykernel)",
   "language": "python",
   "name": "python3"
  },
  "language_info": {
   "codemirror_mode": {
    "name": "ipython",
    "version": 3
   },
   "file_extension": ".py",
   "mimetype": "text/x-python",
   "name": "python",
   "nbconvert_exporter": "python",
   "pygments_lexer": "ipython3",
   "version": "3.11.5"
  }
 },
 "nbformat": 4,
 "nbformat_minor": 5
}
