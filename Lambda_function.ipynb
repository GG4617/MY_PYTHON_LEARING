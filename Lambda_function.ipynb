{
 "cells": [
  {
   "cell_type": "code",
   "execution_count": 1,
   "id": "08c9b4d1",
   "metadata": {},
   "outputs": [],
   "source": [
    "n = 3\n",
    "p=2"
   ]
  },
  {
   "cell_type": "code",
   "execution_count": 2,
   "id": "a32d555b",
   "metadata": {},
   "outputs": [
    {
     "data": {
      "text/plain": [
       "9"
      ]
     },
     "execution_count": 2,
     "metadata": {},
     "output_type": "execute_result"
    }
   ],
   "source": [
    "n**p"
   ]
  },
  {
   "cell_type": "code",
   "execution_count": 3,
   "id": "75e35436",
   "metadata": {},
   "outputs": [],
   "source": [
    "def prac(n,p):\n",
    "    return n**p"
   ]
  },
  {
   "cell_type": "code",
   "execution_count": 4,
   "id": "180abaea",
   "metadata": {},
   "outputs": [
    {
     "data": {
      "text/plain": [
       "8"
      ]
     },
     "execution_count": 4,
     "metadata": {},
     "output_type": "execute_result"
    }
   ],
   "source": [
    "prac(2,3)"
   ]
  },
  {
   "cell_type": "code",
   "execution_count": 5,
   "id": "64e87de0",
   "metadata": {},
   "outputs": [],
   "source": [
    "# same in lambda format #"
   ]
  },
  {
   "cell_type": "code",
   "execution_count": 6,
   "id": "d65a51be",
   "metadata": {},
   "outputs": [],
   "source": [
    " g = lambda a,b : a**b"
   ]
  },
  {
   "cell_type": "code",
   "execution_count": 7,
   "id": "af936522",
   "metadata": {},
   "outputs": [
    {
     "data": {
      "text/plain": [
       "8"
      ]
     },
     "execution_count": 7,
     "metadata": {},
     "output_type": "execute_result"
    }
   ],
   "source": [
    "g(2,3)"
   ]
  },
  {
   "cell_type": "code",
   "execution_count": 8,
   "id": "7b8a4ac7",
   "metadata": {},
   "outputs": [],
   "source": [
    "# addition function create #"
   ]
  },
  {
   "cell_type": "code",
   "execution_count": 9,
   "id": "f4d129dc",
   "metadata": {},
   "outputs": [],
   "source": [
    "add  = lambda x,y :x+y"
   ]
  },
  {
   "cell_type": "code",
   "execution_count": 10,
   "id": "f71169f0",
   "metadata": {},
   "outputs": [
    {
     "data": {
      "text/plain": [
       "7"
      ]
     },
     "execution_count": 10,
     "metadata": {},
     "output_type": "execute_result"
    }
   ],
   "source": [
    "add(3,4)"
   ]
  },
  {
   "cell_type": "code",
   "execution_count": 11,
   "id": "68053348",
   "metadata": {},
   "outputs": [],
   "source": [
    "# convert celsius to farhenite  #"
   ]
  },
  {
   "cell_type": "code",
   "execution_count": 12,
   "id": "94c048c5",
   "metadata": {},
   "outputs": [],
   "source": [
    "c_to_f = lambda c:(9/5)*c + 12"
   ]
  },
  {
   "cell_type": "code",
   "execution_count": 13,
   "id": "0e65b263",
   "metadata": {},
   "outputs": [
    {
     "data": {
      "text/plain": [
       "17.4"
      ]
     },
     "execution_count": 13,
     "metadata": {},
     "output_type": "execute_result"
    }
   ],
   "source": [
    "c_to_f(3)"
   ]
  },
  {
   "cell_type": "code",
   "execution_count": 14,
   "id": "212cafae",
   "metadata": {},
   "outputs": [],
   "source": [
    "# finding a maximum of two number using lambda function  #"
   ]
  },
  {
   "cell_type": "code",
   "execution_count": 15,
   "id": "0a4a8af3",
   "metadata": {},
   "outputs": [],
   "source": [
    "find_max = lambda x,y :x if x>y else y"
   ]
  },
  {
   "cell_type": "code",
   "execution_count": 16,
   "id": "0b5e4510",
   "metadata": {},
   "outputs": [
    {
     "data": {
      "text/plain": [
       "5"
      ]
     },
     "execution_count": 16,
     "metadata": {},
     "output_type": "execute_result"
    }
   ],
   "source": [
    "find_max(3,5)"
   ]
  },
  {
   "cell_type": "code",
   "execution_count": 17,
   "id": "e5d52fa4",
   "metadata": {},
   "outputs": [],
   "source": [
    " s = \"pwskills\"\n",
    "#     wwrite a lamdba function which return the length of a string #"
   ]
  },
  {
   "cell_type": "code",
   "execution_count": 18,
   "id": "df0de06e",
   "metadata": {},
   "outputs": [],
   "source": [
    "find_len = lambda s :len(s)"
   ]
  },
  {
   "cell_type": "code",
   "execution_count": 19,
   "id": "b6bf39c9",
   "metadata": {},
   "outputs": [
    {
     "data": {
      "text/plain": [
       "8"
      ]
     },
     "execution_count": 19,
     "metadata": {},
     "output_type": "execute_result"
    }
   ],
   "source": [
    "find_len(s)"
   ]
  },
  {
   "cell_type": "code",
   "execution_count": 20,
   "id": "88be80c0",
   "metadata": {},
   "outputs": [],
   "source": [
    "# lambda function is a function without a name  #"
   ]
  },
  {
   "cell_type": "code",
   "execution_count": null,
   "id": "90926941",
   "metadata": {},
   "outputs": [],
   "source": []
  }
 ],
 "metadata": {
  "kernelspec": {
   "display_name": "Python 3 (ipykernel)",
   "language": "python",
   "name": "python3"
  },
  "language_info": {
   "codemirror_mode": {
    "name": "ipython",
    "version": 3
   },
   "file_extension": ".py",
   "mimetype": "text/x-python",
   "name": "python",
   "nbconvert_exporter": "python",
   "pygments_lexer": "ipython3",
   "version": "3.11.5"
  }
 },
 "nbformat": 4,
 "nbformat_minor": 5
}
