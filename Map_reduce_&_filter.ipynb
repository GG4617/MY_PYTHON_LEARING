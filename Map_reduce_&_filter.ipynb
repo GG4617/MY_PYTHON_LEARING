{
 "cells": [
  {
   "cell_type": "code",
   "execution_count": 1,
   "id": "8a8c7f5b",
   "metadata": {},
   "outputs": [],
   "source": [
    "l = [4,556,56,32,67,434,234,434]"
   ]
  },
  {
   "cell_type": "code",
   "execution_count": 2,
   "id": "64223ba1",
   "metadata": {},
   "outputs": [],
   "source": [
    "# perform operations with the below dataset avialble in the list l #"
   ]
  },
  {
   "cell_type": "code",
   "execution_count": 3,
   "id": "e5ac59bc",
   "metadata": {},
   "outputs": [],
   "source": [
    "# square of the above number #"
   ]
  },
  {
   "cell_type": "code",
   "execution_count": 4,
   "id": "04fa613f",
   "metadata": {},
   "outputs": [],
   "source": [
    "def prac(l):\n",
    "    l1 =[] \n",
    "    for i in l:\n",
    "        l1.append(i**2)\n",
    "    return l1"
   ]
  },
  {
   "cell_type": "code",
   "execution_count": 5,
   "id": "814f4acc",
   "metadata": {},
   "outputs": [
    {
     "data": {
      "text/plain": [
       "[16, 309136, 3136, 1024, 4489, 188356, 54756, 188356]"
      ]
     },
     "execution_count": 5,
     "metadata": {},
     "output_type": "execute_result"
    }
   ],
   "source": [
    "prac(l)"
   ]
  },
  {
   "cell_type": "code",
   "execution_count": 6,
   "id": "cb221766",
   "metadata": {},
   "outputs": [],
   "source": [
    "# one by one parallelilly maped which th input given us with the iterable #"
   ]
  },
  {
   "cell_type": "code",
   "execution_count": 7,
   "id": "952b2af3",
   "metadata": {},
   "outputs": [],
   "source": [
    "def sq(x):\n",
    "    return x**2"
   ]
  },
  {
   "cell_type": "code",
   "execution_count": 8,
   "id": "4abacdb7",
   "metadata": {},
   "outputs": [
    {
     "data": {
      "text/plain": [
       "[16, 309136, 3136, 1024, 4489, 188356, 54756, 188356]"
      ]
     },
     "execution_count": 8,
     "metadata": {},
     "output_type": "execute_result"
    }
   ],
   "source": [
    "list(map(sq,l))"
   ]
  },
  {
   "cell_type": "code",
   "execution_count": 9,
   "id": "18cb3516",
   "metadata": {},
   "outputs": [],
   "source": [
    "# we given the external function as sq  #"
   ]
  },
  {
   "cell_type": "code",
   "execution_count": 10,
   "id": "1d4f2306",
   "metadata": {},
   "outputs": [],
   "source": [
    "# now lets write with lambda function #"
   ]
  },
  {
   "cell_type": "code",
   "execution_count": 11,
   "id": "f12b9ae8",
   "metadata": {},
   "outputs": [
    {
     "data": {
      "text/plain": [
       "[16, 309136, 3136, 1024, 4489, 188356, 54756, 188356]"
      ]
     },
     "execution_count": 11,
     "metadata": {},
     "output_type": "execute_result"
    }
   ],
   "source": [
    "list(map(lambda x:x**2,l))"
   ]
  },
  {
   "cell_type": "code",
   "execution_count": 12,
   "id": "a39880ab",
   "metadata": {},
   "outputs": [],
   "source": [
    "# ex :2 \n",
    "l1 = [4,5,6,7]\n",
    "l2 = [5,6,3,3]\n",
    "# map in the format of indexing of l1 and l2 : addition"
   ]
  },
  {
   "cell_type": "code",
   "execution_count": 13,
   "id": "d6cca93d",
   "metadata": {},
   "outputs": [
    {
     "data": {
      "text/plain": [
       "[9, 11, 9, 10]"
      ]
     },
     "execution_count": 13,
     "metadata": {},
     "output_type": "execute_result"
    }
   ],
   "source": [
    "list(map(lambda x,y : x+y,l1,l2))"
   ]
  },
  {
   "cell_type": "code",
   "execution_count": 14,
   "id": "3406d02e",
   "metadata": {},
   "outputs": [
    {
     "data": {
      "text/plain": [
       "22"
      ]
     },
     "execution_count": 14,
     "metadata": {},
     "output_type": "execute_result"
    }
   ],
   "source": [
    "sum(l1)"
   ]
  },
  {
   "cell_type": "code",
   "execution_count": 15,
   "id": "a4a80417",
   "metadata": {},
   "outputs": [
    {
     "data": {
      "text/plain": [
       "17"
      ]
     },
     "execution_count": 15,
     "metadata": {},
     "output_type": "execute_result"
    }
   ],
   "source": [
    "sum(l2)"
   ]
  },
  {
   "cell_type": "code",
   "execution_count": 16,
   "id": "b29bdff6",
   "metadata": {},
   "outputs": [],
   "source": [
    "# let's write with the lambda function #"
   ]
  },
  {
   "cell_type": "code",
   "execution_count": 17,
   "id": "63ba61c4",
   "metadata": {},
   "outputs": [],
   "source": [
    "def add(x,y):\n",
    "    return x+y"
   ]
  },
  {
   "cell_type": "code",
   "execution_count": 18,
   "id": "a31ceed6",
   "metadata": {},
   "outputs": [
    {
     "data": {
      "text/plain": [
       "[9, 11, 9, 10]"
      ]
     },
     "execution_count": 18,
     "metadata": {},
     "output_type": "execute_result"
    }
   ],
   "source": [
    "list(map(add,l1,l2))"
   ]
  },
  {
   "cell_type": "code",
   "execution_count": 19,
   "id": "defdb36d",
   "metadata": {},
   "outputs": [],
   "source": [
    "s = \"pwskills\""
   ]
  },
  {
   "cell_type": "code",
   "execution_count": 20,
   "id": "d7a360d5",
   "metadata": {},
   "outputs": [],
   "source": [
    "# convert the charcter in the uppercase # using mapper"
   ]
  },
  {
   "cell_type": "code",
   "execution_count": 21,
   "id": "eae48789",
   "metadata": {},
   "outputs": [
    {
     "data": {
      "text/plain": [
       "['P', 'W', 'S', 'K', 'I', 'L', 'L', 'S']"
      ]
     },
     "execution_count": 21,
     "metadata": {},
     "output_type": "execute_result"
    }
   ],
   "source": [
    "list(map(lambda s:s.upper(),s))"
   ]
  },
  {
   "cell_type": "markdown",
   "id": "c9c4f8f2",
   "metadata": {},
   "source": [
    "# REDUCE_FUNCTION"
   ]
  },
  {
   "cell_type": "code",
   "execution_count": 22,
   "id": "50af419c",
   "metadata": {},
   "outputs": [],
   "source": [
    "# bydefault not available we need to call them from the library #"
   ]
  },
  {
   "cell_type": "code",
   "execution_count": 23,
   "id": "497b7265",
   "metadata": {},
   "outputs": [],
   "source": [
    "from functools import reduce"
   ]
  },
  {
   "cell_type": "code",
   "execution_count": 24,
   "id": "103b4230",
   "metadata": {},
   "outputs": [],
   "source": [
    "l = [4,5,3,5,3,5,6]"
   ]
  },
  {
   "cell_type": "code",
   "execution_count": 25,
   "id": "0e8a3363",
   "metadata": {},
   "outputs": [],
   "source": [
    "# summation of element of a list #"
   ]
  },
  {
   "cell_type": "code",
   "execution_count": 26,
   "id": "188c67c8",
   "metadata": {},
   "outputs": [],
   "source": [
    "# collapse and give the result #"
   ]
  },
  {
   "cell_type": "code",
   "execution_count": 27,
   "id": "42bceb58",
   "metadata": {},
   "outputs": [
    {
     "data": {
      "text/plain": [
       "31"
      ]
     },
     "execution_count": 27,
     "metadata": {},
     "output_type": "execute_result"
    }
   ],
   "source": [
    "reduce(lambda x,y : x+y ,l)"
   ]
  },
  {
   "cell_type": "code",
   "execution_count": 28,
   "id": "102633b0",
   "metadata": {},
   "outputs": [
    {
     "data": {
      "text/plain": [
       "31"
      ]
     },
     "execution_count": 28,
     "metadata": {},
     "output_type": "execute_result"
    }
   ],
   "source": [
    "sum(l)"
   ]
  },
  {
   "cell_type": "code",
   "execution_count": 29,
   "id": "f06e7663",
   "metadata": {},
   "outputs": [],
   "source": [
    "# reduce function reduce the element and given in a single  format result #"
   ]
  },
  {
   "cell_type": "code",
   "execution_count": 30,
   "id": "d75a2a1d",
   "metadata": {},
   "outputs": [],
   "source": [
    "# reduce function cannot introduce 3 paramters such as x,y,z"
   ]
  },
  {
   "cell_type": "code",
   "execution_count": 31,
   "id": "5156de0f",
   "metadata": {},
   "outputs": [
    {
     "data": {
      "text/plain": [
       "1"
      ]
     },
     "execution_count": 31,
     "metadata": {},
     "output_type": "execute_result"
    }
   ],
   "source": [
    "# exceptional case :\n",
    "reduce(lambda x,y : x+y ,[1])"
   ]
  },
  {
   "cell_type": "code",
   "execution_count": 32,
   "id": "a038ab79",
   "metadata": {},
   "outputs": [
    {
     "data": {
      "text/plain": [
       "[4, 5, 3, 5, 3, 5, 6]"
      ]
     },
     "execution_count": 32,
     "metadata": {},
     "output_type": "execute_result"
    }
   ],
   "source": [
    "l"
   ]
  },
  {
   "cell_type": "code",
   "execution_count": 33,
   "id": "699e874b",
   "metadata": {},
   "outputs": [],
   "source": [
    "# find the highest number #"
   ]
  },
  {
   "cell_type": "code",
   "execution_count": 34,
   "id": "674cf297",
   "metadata": {},
   "outputs": [
    {
     "data": {
      "text/plain": [
       "6"
      ]
     },
     "execution_count": 34,
     "metadata": {},
     "output_type": "execute_result"
    }
   ],
   "source": [
    "reduce(lambda x,y : x if x >y else y,l)"
   ]
  },
  {
   "cell_type": "code",
   "execution_count": 35,
   "id": "a42670f1",
   "metadata": {},
   "outputs": [],
   "source": [
    "# multiplication of number #"
   ]
  },
  {
   "cell_type": "code",
   "execution_count": 36,
   "id": "bed9b3a5",
   "metadata": {},
   "outputs": [
    {
     "data": {
      "text/plain": [
       "27000"
      ]
     },
     "execution_count": 36,
     "metadata": {},
     "output_type": "execute_result"
    }
   ],
   "source": [
    "reduce(lambda x,y : x*y ,l)"
   ]
  },
  {
   "cell_type": "code",
   "execution_count": 37,
   "id": "8bd7b1d9",
   "metadata": {},
   "outputs": [
    {
     "data": {
      "text/plain": [
       "[4, 5, 3, 5, 3, 5, 6]"
      ]
     },
     "execution_count": 37,
     "metadata": {},
     "output_type": "execute_result"
    }
   ],
   "source": [
    "l"
   ]
  },
  {
   "cell_type": "code",
   "execution_count": 38,
   "id": "c0fec822",
   "metadata": {},
   "outputs": [],
   "source": [
    "# find the even number from the above lsit # usinf filter #"
   ]
  },
  {
   "cell_type": "code",
   "execution_count": 39,
   "id": "543476e1",
   "metadata": {},
   "outputs": [
    {
     "data": {
      "text/plain": [
       "[4, 6]"
      ]
     },
     "execution_count": 39,
     "metadata": {},
     "output_type": "execute_result"
    }
   ],
   "source": [
    "list(filter(lambda x : x%2 ==0,l))"
   ]
  },
  {
   "cell_type": "code",
   "execution_count": 40,
   "id": "7d2c8b48",
   "metadata": {},
   "outputs": [],
   "source": [
    "# for odd number #"
   ]
  },
  {
   "cell_type": "code",
   "execution_count": 41,
   "id": "f61e3676",
   "metadata": {},
   "outputs": [
    {
     "data": {
      "text/plain": [
       "[5, 3, 5, 3, 5]"
      ]
     },
     "execution_count": 41,
     "metadata": {},
     "output_type": "execute_result"
    }
   ],
   "source": [
    "list(filter(lambda x:x%2 !=0 ,l))"
   ]
  },
  {
   "cell_type": "code",
   "execution_count": 42,
   "id": "91beebaf",
   "metadata": {},
   "outputs": [
    {
     "data": {
      "text/plain": [
       "[4, 5, 6, 7]"
      ]
     },
     "execution_count": 42,
     "metadata": {},
     "output_type": "execute_result"
    }
   ],
   "source": [
    "l1"
   ]
  },
  {
   "cell_type": "code",
   "execution_count": 43,
   "id": "d36f339f",
   "metadata": {},
   "outputs": [],
   "source": [
    "l2 =[4,5,3,7,8,-6,-4]"
   ]
  },
  {
   "cell_type": "code",
   "execution_count": 44,
   "id": "e06b294a",
   "metadata": {},
   "outputs": [],
   "source": [
    "# find the -ve number from the above #"
   ]
  },
  {
   "cell_type": "code",
   "execution_count": 45,
   "id": "ba004247",
   "metadata": {},
   "outputs": [
    {
     "data": {
      "text/plain": [
       "[-6, -4]"
      ]
     },
     "execution_count": 45,
     "metadata": {},
     "output_type": "execute_result"
    }
   ],
   "source": [
    "list(filter(lambda x:x<0,l2))"
   ]
  },
  {
   "cell_type": "code",
   "execution_count": 46,
   "id": "afaf7bbb",
   "metadata": {},
   "outputs": [],
   "source": [
    "l3  =[\"gan\",\"fre\",\"rgvvr\",\"efds\",\"efssd\",\"sdfgdfd\",\"dssfefd\"]"
   ]
  },
  {
   "cell_type": "code",
   "execution_count": 47,
   "id": "26947545",
   "metadata": {},
   "outputs": [],
   "source": [
    "# find the str which has length less than 6 #"
   ]
  },
  {
   "cell_type": "code",
   "execution_count": 48,
   "id": "a7a4b057",
   "metadata": {},
   "outputs": [
    {
     "data": {
      "text/plain": [
       "['gan', 'fre', 'rgvvr', 'efds', 'efssd']"
      ]
     },
     "execution_count": 48,
     "metadata": {},
     "output_type": "execute_result"
    }
   ],
   "source": [
    "list(filter(lambda x :len(x)<6,l3))"
   ]
  },
  {
   "cell_type": "code",
   "execution_count": null,
   "id": "f78dab23",
   "metadata": {},
   "outputs": [],
   "source": []
  },
  {
   "cell_type": "code",
   "execution_count": null,
   "id": "d2f1e5e1",
   "metadata": {},
   "outputs": [],
   "source": []
  },
  {
   "cell_type": "code",
   "execution_count": null,
   "id": "3a350af0",
   "metadata": {},
   "outputs": [],
   "source": []
  }
 ],
 "metadata": {
  "kernelspec": {
   "display_name": "Python 3 (ipykernel)",
   "language": "python",
   "name": "python3"
  },
  "language_info": {
   "codemirror_mode": {
    "name": "ipython",
    "version": 3
   },
   "file_extension": ".py",
   "mimetype": "text/x-python",
   "name": "python",
   "nbconvert_exporter": "python",
   "pygments_lexer": "ipython3",
   "version": "3.11.5"
  }
 },
 "nbformat": 4,
 "nbformat_minor": 5
}
