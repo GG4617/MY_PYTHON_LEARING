{
 "cells": [
  {
   "cell_type": "code",
   "execution_count": 2,
   "id": "ec973e14",
   "metadata": {},
   "outputs": [],
   "source": [
    "# python support scripting as well as oops concept"
   ]
  },
  {
   "cell_type": "code",
   "execution_count": 3,
   "id": "5fa90804",
   "metadata": {},
   "outputs": [
    {
     "data": {
      "text/plain": [
       "-1"
      ]
     },
     "execution_count": 3,
     "metadata": {},
     "output_type": "execute_result"
    }
   ],
   "source": [
    "6-7"
   ]
  },
  {
   "cell_type": "code",
   "execution_count": 4,
   "id": "888e7f04",
   "metadata": {},
   "outputs": [
    {
     "data": {
      "text/plain": [
       "4"
      ]
     },
     "execution_count": 4,
     "metadata": {},
     "output_type": "execute_result"
    }
   ],
   "source": [
    "2*2"
   ]
  },
  {
   "cell_type": "code",
   "execution_count": 5,
   "id": "c1e389a1",
   "metadata": {},
   "outputs": [],
   "source": [
    "a = 3 \n",
    "# here \"a\" is called as variable and we store data in a form of integer"
   ]
  },
  {
   "cell_type": "code",
   "execution_count": 6,
   "id": "36810a38",
   "metadata": {},
   "outputs": [
    {
     "data": {
      "text/plain": [
       "3"
      ]
     },
     "execution_count": 6,
     "metadata": {},
     "output_type": "execute_result"
    }
   ],
   "source": [
    "a\n",
    "# execute or invoke a #"
   ]
  },
  {
   "cell_type": "code",
   "execution_count": 7,
   "id": "8d7b2eb0",
   "metadata": {},
   "outputs": [],
   "source": [
    "gan = 45"
   ]
  },
  {
   "cell_type": "code",
   "execution_count": 8,
   "id": "6c602b43",
   "metadata": {},
   "outputs": [
    {
     "data": {
      "text/plain": [
       "45"
      ]
     },
     "execution_count": 8,
     "metadata": {},
     "output_type": "execute_result"
    }
   ],
   "source": [
    "gan"
   ]
  },
  {
   "cell_type": "code",
   "execution_count": 9,
   "id": "783be964",
   "metadata": {},
   "outputs": [
    {
     "data": {
      "text/plain": [
       "48"
      ]
     },
     "execution_count": 9,
     "metadata": {},
     "output_type": "execute_result"
    }
   ],
   "source": [
    "a  + gan"
   ]
  },
  {
   "cell_type": "code",
   "execution_count": 10,
   "id": "2f0c7e65",
   "metadata": {},
   "outputs": [],
   "source": [
    "# python is a self type language # it means \"data ka type  pechan lege\" #"
   ]
  },
  {
   "cell_type": "code",
   "execution_count": 11,
   "id": "5cb67e04",
   "metadata": {},
   "outputs": [
    {
     "data": {
      "text/plain": [
       "int"
      ]
     },
     "execution_count": 11,
     "metadata": {},
     "output_type": "execute_result"
    }
   ],
   "source": [
    "type(gan)"
   ]
  },
  {
   "cell_type": "code",
   "execution_count": 12,
   "id": "02e9b635",
   "metadata": {},
   "outputs": [
    {
     "data": {
      "text/plain": [
       "int"
      ]
     },
     "execution_count": 12,
     "metadata": {},
     "output_type": "execute_result"
    }
   ],
   "source": [
    "type(a)"
   ]
  },
  {
   "cell_type": "code",
   "execution_count": 13,
   "id": "b4d34596",
   "metadata": {},
   "outputs": [],
   "source": [
    "# integer is whole number or numeric value #"
   ]
  },
  {
   "cell_type": "code",
   "execution_count": 14,
   "id": "2bcfe839",
   "metadata": {},
   "outputs": [],
   "source": [
    "r = 4.67\n",
    "# floating point numbers #"
   ]
  },
  {
   "cell_type": "code",
   "execution_count": 15,
   "id": "fb6077de",
   "metadata": {},
   "outputs": [
    {
     "data": {
      "text/plain": [
       "float"
      ]
     },
     "execution_count": 15,
     "metadata": {},
     "output_type": "execute_result"
    }
   ],
   "source": [
    "type(r)"
   ]
  },
  {
   "cell_type": "code",
   "execution_count": 16,
   "id": "6daac9d6",
   "metadata": {},
   "outputs": [],
   "source": [
    "R = 45.45"
   ]
  },
  {
   "cell_type": "code",
   "execution_count": 17,
   "id": "06dab7e9",
   "metadata": {},
   "outputs": [
    {
     "data": {
      "text/plain": [
       "float"
      ]
     },
     "execution_count": 17,
     "metadata": {},
     "output_type": "execute_result"
    }
   ],
   "source": [
    "type(R)"
   ]
  },
  {
   "cell_type": "code",
   "execution_count": 18,
   "id": "cc167fb7",
   "metadata": {},
   "outputs": [],
   "source": [
    "R = \"this is my first technical lecture\"\n",
    "# it is a string #"
   ]
  },
  {
   "cell_type": "code",
   "execution_count": 19,
   "id": "aa406162",
   "metadata": {},
   "outputs": [
    {
     "data": {
      "text/plain": [
       "str"
      ]
     },
     "execution_count": 19,
     "metadata": {},
     "output_type": "execute_result"
    }
   ],
   "source": [
    "type(R)"
   ]
  },
  {
   "cell_type": "code",
   "execution_count": 20,
   "id": "efc7ac44",
   "metadata": {},
   "outputs": [],
   "source": [
    "n = True\n",
    "# It is a boolean variable #"
   ]
  },
  {
   "cell_type": "code",
   "execution_count": 21,
   "id": "03bf2c1b",
   "metadata": {
    "scrolled": true
   },
   "outputs": [
    {
     "data": {
      "text/plain": [
       "bool"
      ]
     },
     "execution_count": 21,
     "metadata": {},
     "output_type": "execute_result"
    }
   ],
   "source": [
    "type(n)"
   ]
  },
  {
   "cell_type": "code",
   "execution_count": 22,
   "id": "25559afd",
   "metadata": {},
   "outputs": [],
   "source": [
    "m = False "
   ]
  },
  {
   "cell_type": "code",
   "execution_count": 23,
   "id": "0a2f146f",
   "metadata": {},
   "outputs": [
    {
     "data": {
      "text/plain": [
       "1"
      ]
     },
     "execution_count": 23,
     "metadata": {},
     "output_type": "execute_result"
    }
   ],
   "source": [
    "m + n"
   ]
  },
  {
   "cell_type": "code",
   "execution_count": 24,
   "id": "257d1ec3",
   "metadata": {},
   "outputs": [
    {
     "data": {
      "text/plain": [
       "1"
      ]
     },
     "execution_count": 24,
     "metadata": {},
     "output_type": "execute_result"
    }
   ],
   "source": [
    "True * True"
   ]
  },
  {
   "cell_type": "code",
   "execution_count": 25,
   "id": "d762a90e",
   "metadata": {},
   "outputs": [
    {
     "data": {
      "text/plain": [
       "0"
      ]
     },
     "execution_count": 25,
     "metadata": {},
     "output_type": "execute_result"
    }
   ],
   "source": [
    "False * False"
   ]
  },
  {
   "cell_type": "code",
   "execution_count": 26,
   "id": "86ff6033",
   "metadata": {},
   "outputs": [
    {
     "data": {
      "text/plain": [
       "0"
      ]
     },
     "execution_count": 26,
     "metadata": {},
     "output_type": "execute_result"
    }
   ],
   "source": [
    "True * False"
   ]
  },
  {
   "cell_type": "code",
   "execution_count": 27,
   "id": "96158558",
   "metadata": {},
   "outputs": [
    {
     "data": {
      "text/plain": [
       "0.0"
      ]
     },
     "execution_count": 27,
     "metadata": {},
     "output_type": "execute_result"
    }
   ],
   "source": [
    "False/True"
   ]
  },
  {
   "cell_type": "code",
   "execution_count": 28,
   "id": "a127d2b4",
   "metadata": {},
   "outputs": [],
   "source": [
    "# True/False = Error\n",
    "# It defined as wrong bcz the value turns to infinity python shows error while numpt is amodule of python which defined the same problem as infinity as \"inf\" #"
   ]
  },
  {
   "cell_type": "code",
   "execution_count": 29,
   "id": "356e752c",
   "metadata": {},
   "outputs": [],
   "source": [
    "# complex number is a mixture of real and imaginary component __\"j\" is donated for imaginary component \n",
    "gan = 5+8j"
   ]
  },
  {
   "cell_type": "code",
   "execution_count": 30,
   "id": "e0e4d65d",
   "metadata": {},
   "outputs": [
    {
     "data": {
      "text/plain": [
       "complex"
      ]
     },
     "execution_count": 30,
     "metadata": {},
     "output_type": "execute_result"
    }
   ],
   "source": [
    "type(gan)"
   ]
  },
  {
   "cell_type": "code",
   "execution_count": 31,
   "id": "e32d10af",
   "metadata": {},
   "outputs": [
    {
     "data": {
      "text/plain": [
       "8.0"
      ]
     },
     "execution_count": 31,
     "metadata": {},
     "output_type": "execute_result"
    }
   ],
   "source": [
    "gan.imag"
   ]
  },
  {
   "cell_type": "code",
   "execution_count": 32,
   "id": "f70cf8d4",
   "metadata": {},
   "outputs": [
    {
     "data": {
      "text/plain": [
       "5.0"
      ]
     },
     "execution_count": 32,
     "metadata": {},
     "output_type": "execute_result"
    }
   ],
   "source": [
    "gan.real"
   ]
  },
  {
   "cell_type": "code",
   "execution_count": 33,
   "id": "87875182",
   "metadata": {},
   "outputs": [
    {
     "data": {
      "text/plain": [
       "<function complex.conjugate>"
      ]
     },
     "execution_count": 33,
     "metadata": {},
     "output_type": "execute_result"
    }
   ],
   "source": [
    "gan.conjugate"
   ]
  },
  {
   "cell_type": "code",
   "execution_count": 34,
   "id": "e7b740bf",
   "metadata": {},
   "outputs": [
    {
     "data": {
      "text/plain": [
       "(5+8j)"
      ]
     },
     "execution_count": 34,
     "metadata": {},
     "output_type": "execute_result"
    }
   ],
   "source": [
    "gan"
   ]
  },
  {
   "cell_type": "code",
   "execution_count": 35,
   "id": "b2b9ef17",
   "metadata": {},
   "outputs": [
    {
     "name": "stdout",
     "output_type": "stream",
     "text": [
      "(5+8j)\n"
     ]
    }
   ],
   "source": [
    "print(gan)"
   ]
  },
  {
   "cell_type": "code",
   "execution_count": 36,
   "id": "8e2a9bec",
   "metadata": {},
   "outputs": [],
   "source": [
    "# () it is called as console #"
   ]
  },
  {
   "cell_type": "code",
   "execution_count": 37,
   "id": "68e1a117",
   "metadata": {},
   "outputs": [
    {
     "name": "stdout",
     "output_type": "stream",
     "text": [
      "this is my laptop\n"
     ]
    }
   ],
   "source": [
    "print(\"this is my laptop\")"
   ]
  },
  {
   "cell_type": "code",
   "execution_count": 38,
   "id": "d543d6a8",
   "metadata": {},
   "outputs": [
    {
     "name": "stdout",
     "output_type": "stream",
     "text": [
      "3\n"
     ]
    }
   ],
   "source": [
    "print(a)"
   ]
  },
  {
   "cell_type": "code",
   "execution_count": 39,
   "id": "aa32c553",
   "metadata": {},
   "outputs": [],
   "source": [
    "R = \"Roni\""
   ]
  },
  {
   "cell_type": "code",
   "execution_count": 40,
   "id": "53efb3fa",
   "metadata": {},
   "outputs": [
    {
     "data": {
      "text/plain": [
       "str"
      ]
     },
     "execution_count": 40,
     "metadata": {},
     "output_type": "execute_result"
    }
   ],
   "source": [
    "type(R)"
   ]
  },
  {
   "cell_type": "code",
   "execution_count": 41,
   "id": "19a4f8dc",
   "metadata": {},
   "outputs": [],
   "source": [
    "# string is a combination of chararcter #"
   ]
  },
  {
   "cell_type": "code",
   "execution_count": 42,
   "id": "2a6c4f1e",
   "metadata": {},
   "outputs": [],
   "source": [
    "#  INDEXING CONCEPT #"
   ]
  },
  {
   "cell_type": "code",
   "execution_count": 43,
   "id": "6bb56d5a",
   "metadata": {},
   "outputs": [
    {
     "data": {
      "text/plain": [
       "'i'"
      ]
     },
     "execution_count": 43,
     "metadata": {},
     "output_type": "execute_result"
    }
   ],
   "source": [
    "R[3]"
   ]
  },
  {
   "cell_type": "code",
   "execution_count": 44,
   "id": "549650d9",
   "metadata": {},
   "outputs": [
    {
     "data": {
      "text/plain": [
       "'n'"
      ]
     },
     "execution_count": 44,
     "metadata": {},
     "output_type": "execute_result"
    }
   ],
   "source": [
    "R[2]"
   ]
  },
  {
   "cell_type": "code",
   "execution_count": 45,
   "id": "32d6818e",
   "metadata": {},
   "outputs": [
    {
     "data": {
      "text/plain": [
       "'R'"
      ]
     },
     "execution_count": 45,
     "metadata": {},
     "output_type": "execute_result"
    }
   ],
   "source": [
    "R[0]"
   ]
  },
  {
   "cell_type": "code",
   "execution_count": 46,
   "id": "5c9ae155",
   "metadata": {},
   "outputs": [],
   "source": [
    "#  Forward indexses of a string start from zeroth position #"
   ]
  },
  {
   "cell_type": "code",
   "execution_count": 47,
   "id": "bd502803",
   "metadata": {},
   "outputs": [],
   "source": [
    "#  Backward indexses start with -1 #"
   ]
  },
  {
   "cell_type": "code",
   "execution_count": 48,
   "id": "389f1104",
   "metadata": {},
   "outputs": [
    {
     "data": {
      "text/plain": [
       "'i'"
      ]
     },
     "execution_count": 48,
     "metadata": {},
     "output_type": "execute_result"
    }
   ],
   "source": [
    "R[-1]"
   ]
  },
  {
   "cell_type": "code",
   "execution_count": 49,
   "id": "e06cb39f",
   "metadata": {},
   "outputs": [
    {
     "data": {
      "text/plain": [
       "'R'"
      ]
     },
     "execution_count": 49,
     "metadata": {},
     "output_type": "execute_result"
    }
   ],
   "source": [
    "R[-4]"
   ]
  },
  {
   "cell_type": "code",
   "execution_count": 50,
   "id": "deadc9f7",
   "metadata": {},
   "outputs": [
    {
     "data": {
      "text/plain": [
       "'Roni'"
      ]
     },
     "execution_count": 50,
     "metadata": {},
     "output_type": "execute_result"
    }
   ],
   "source": [
    "R[0:4]\n",
    "# it is a slicing operation based on indexing #"
   ]
  },
  {
   "cell_type": "code",
   "execution_count": 51,
   "id": "afb9c8f3",
   "metadata": {},
   "outputs": [],
   "source": [
    "# data gives upperbound-1 #"
   ]
  },
  {
   "cell_type": "code",
   "execution_count": 52,
   "id": "4e501580",
   "metadata": {},
   "outputs": [],
   "source": [
    "H = \"Hrithik\""
   ]
  },
  {
   "cell_type": "code",
   "execution_count": 53,
   "id": "de0f577c",
   "metadata": {},
   "outputs": [
    {
     "data": {
      "text/plain": [
       "'Hrithik'"
      ]
     },
     "execution_count": 53,
     "metadata": {},
     "output_type": "execute_result"
    }
   ],
   "source": [
    "H"
   ]
  },
  {
   "cell_type": "code",
   "execution_count": 54,
   "id": "708f146d",
   "metadata": {},
   "outputs": [],
   "source": [
    "# slice in a alternate order H_I_H_K #"
   ]
  },
  {
   "cell_type": "code",
   "execution_count": 55,
   "id": "bf0a0dba",
   "metadata": {},
   "outputs": [
    {
     "data": {
      "text/plain": [
       "'Hihk'"
      ]
     },
     "execution_count": 55,
     "metadata": {},
     "output_type": "execute_result"
    }
   ],
   "source": [
    "H[0:7:2]\n",
    "# jumped of 2 #"
   ]
  },
  {
   "cell_type": "code",
   "execution_count": 56,
   "id": "312883e4",
   "metadata": {},
   "outputs": [
    {
     "data": {
      "text/plain": [
       "'Hihk'"
      ]
     },
     "execution_count": 56,
     "metadata": {},
     "output_type": "execute_result"
    }
   ],
   "source": [
    "H[::2]"
   ]
  },
  {
   "cell_type": "code",
   "execution_count": 57,
   "id": "755897fb",
   "metadata": {},
   "outputs": [
    {
     "data": {
      "text/plain": [
       "'kihtirH'"
      ]
     },
     "execution_count": 57,
     "metadata": {},
     "output_type": "execute_result"
    }
   ],
   "source": [
    "H[::-1]\n",
    "# print in a reverse direction #"
   ]
  },
  {
   "cell_type": "code",
   "execution_count": 58,
   "id": "c2521683",
   "metadata": {},
   "outputs": [
    {
     "data": {
      "text/plain": [
       "''"
      ]
     },
     "execution_count": 58,
     "metadata": {},
     "output_type": "execute_result"
    }
   ],
   "source": [
    "H[2:7:-1] \n",
    "#  it is based on scaling technique # here conflict may arise therfore it is blank"
   ]
  },
  {
   "cell_type": "code",
   "execution_count": 60,
   "id": "a00c0ae6",
   "metadata": {},
   "outputs": [
    {
     "data": {
      "text/plain": [
       "''"
      ]
     },
     "execution_count": 60,
     "metadata": {},
     "output_type": "execute_result"
    }
   ],
   "source": [
    "H[7:0]"
   ]
  },
  {
   "cell_type": "code",
   "execution_count": 61,
   "id": "f8a7eef0",
   "metadata": {},
   "outputs": [
    {
     "data": {
      "text/plain": [
       "''"
      ]
     },
     "execution_count": 61,
     "metadata": {},
     "output_type": "execute_result"
    }
   ],
   "source": [
    "H[5:0]"
   ]
  },
  {
   "cell_type": "code",
   "execution_count": 76,
   "id": "4f7667ac",
   "metadata": {},
   "outputs": [
    {
     "data": {
      "text/plain": [
       "'kihtirH'"
      ]
     },
     "execution_count": 76,
     "metadata": {},
     "output_type": "execute_result"
    }
   ],
   "source": [
    "H[7::-1]"
   ]
  },
  {
   "cell_type": "code",
   "execution_count": 67,
   "id": "ee6e5a04",
   "metadata": {},
   "outputs": [],
   "source": [
    "# H not comes bcoz upperbound-1 #"
   ]
  },
  {
   "cell_type": "code",
   "execution_count": 69,
   "id": "2f542be0",
   "metadata": {},
   "outputs": [
    {
     "data": {
      "text/plain": [
       "''"
      ]
     },
     "execution_count": 69,
     "metadata": {},
     "output_type": "execute_result"
    }
   ],
   "source": [
    "H[-2:-8:1]"
   ]
  },
  {
   "cell_type": "code",
   "execution_count": 74,
   "id": "712632d4",
   "metadata": {},
   "outputs": [
    {
     "data": {
      "text/plain": [
       "'ihtir'"
      ]
     },
     "execution_count": 74,
     "metadata": {},
     "output_type": "execute_result"
    }
   ],
   "source": [
    "H[-2:-7:-1]"
   ]
  },
  {
   "cell_type": "code",
   "execution_count": 75,
   "id": "cdee969f",
   "metadata": {},
   "outputs": [
    {
     "data": {
      "text/plain": [
       "'ihtirH'"
      ]
     },
     "execution_count": 75,
     "metadata": {},
     "output_type": "execute_result"
    }
   ],
   "source": [
    "H[-2: :-1]"
   ]
  },
  {
   "cell_type": "code",
   "execution_count": 81,
   "id": "dde64fd5",
   "metadata": {},
   "outputs": [
    {
     "data": {
      "text/plain": [
       "'kihtirH'"
      ]
     },
     "execution_count": 81,
     "metadata": {},
     "output_type": "execute_result"
    }
   ],
   "source": [
    "H[::-1]\n",
    "# its follow reverse direction #"
   ]
  },
  {
   "cell_type": "code",
   "execution_count": 83,
   "id": "407a2e8b",
   "metadata": {},
   "outputs": [
    {
     "data": {
      "text/plain": [
       "'kihtir'"
      ]
     },
     "execution_count": 83,
     "metadata": {},
     "output_type": "execute_result"
    }
   ],
   "source": [
    "H[:-7:-1]\n",
    "# H not comes bcoz upperbound-1 #"
   ]
  },
  {
   "cell_type": "code",
   "execution_count": 86,
   "id": "4410a3e3",
   "metadata": {},
   "outputs": [
    {
     "data": {
      "text/plain": [
       "'kihtir'"
      ]
     },
     "execution_count": 86,
     "metadata": {},
     "output_type": "execute_result"
    }
   ],
   "source": [
    "H[-1:-7:-1]"
   ]
  },
  {
   "cell_type": "code",
   "execution_count": 87,
   "id": "4d0f4c25",
   "metadata": {},
   "outputs": [
    {
     "data": {
      "text/plain": [
       "''"
      ]
     },
     "execution_count": 87,
     "metadata": {},
     "output_type": "execute_result"
    }
   ],
   "source": [
    "H[:-90:]"
   ]
  },
  {
   "cell_type": "code",
   "execution_count": 90,
   "id": "31dd3bc5",
   "metadata": {},
   "outputs": [
    {
     "data": {
      "text/plain": [
       "'kihtirH'"
      ]
     },
     "execution_count": 90,
     "metadata": {},
     "output_type": "execute_result"
    }
   ],
   "source": [
    "H[:-90:-1]\n",
    "#  in case of slicing upperbound does'nt matter # while in case of indexing the postion of a element does not exist"
   ]
  },
  {
   "cell_type": "code",
   "execution_count": 96,
   "id": "aa5b62cc",
   "metadata": {},
   "outputs": [],
   "source": [
    "C = 300 \n",
    "# 300 is a whole object it is not a seprate -seprate integer #"
   ]
  },
  {
   "cell_type": "code",
   "execution_count": 95,
   "id": "c98849c4",
   "metadata": {},
   "outputs": [],
   "source": [
    "# c[0]  its give an error #"
   ]
  },
  {
   "cell_type": "code",
   "execution_count": 97,
   "id": "d7cd52b9",
   "metadata": {},
   "outputs": [],
   "source": [
    "# similarly for complex number and also for floating point number"
   ]
  },
  {
   "cell_type": "code",
   "execution_count": 98,
   "id": "e587fc79",
   "metadata": {},
   "outputs": [],
   "source": [
    "s1 = \"this is my python code\""
   ]
  },
  {
   "cell_type": "code",
   "execution_count": 101,
   "id": "7be0d088",
   "metadata": {},
   "outputs": [
    {
     "data": {
      "text/plain": [
       "23"
      ]
     },
     "execution_count": 101,
     "metadata": {},
     "output_type": "execute_result"
    }
   ],
   "source": [
    "len(s1)"
   ]
  },
  {
   "cell_type": "code",
   "execution_count": 104,
   "id": "de75c8fb",
   "metadata": {},
   "outputs": [
    {
     "data": {
      "text/plain": [
       "3"
      ]
     },
     "execution_count": 104,
     "metadata": {},
     "output_type": "execute_result"
    }
   ],
   "source": [
    "s1.find(\"s\")\n",
    "# its give the first index position of \"s\"#"
   ]
  },
  {
   "cell_type": "code",
   "execution_count": 105,
   "id": "cbc935d0",
   "metadata": {},
   "outputs": [
    {
     "data": {
      "text/plain": [
       "2"
      ]
     },
     "execution_count": 105,
     "metadata": {},
     "output_type": "execute_result"
    }
   ],
   "source": [
    "s1.find(\"i\")"
   ]
  },
  {
   "cell_type": "code",
   "execution_count": 108,
   "id": "3baefbd5",
   "metadata": {},
   "outputs": [
    {
     "data": {
      "text/plain": [
       "2"
      ]
     },
     "execution_count": 108,
     "metadata": {},
     "output_type": "execute_result"
    }
   ],
   "source": [
    "s1.find(\"is\")\n",
    "# its give the first index position of a character"
   ]
  },
  {
   "cell_type": "code",
   "execution_count": 109,
   "id": "24a2d9f8",
   "metadata": {},
   "outputs": [],
   "source": [
    "# if we need to find the second index position of an then we used custom "
   ]
  },
  {
   "cell_type": "code",
   "execution_count": 111,
   "id": "3dcbc892",
   "metadata": {},
   "outputs": [
    {
     "data": {
      "text/plain": [
       "-1"
      ]
     },
     "execution_count": 111,
     "metadata": {},
     "output_type": "execute_result"
    }
   ],
   "source": [
    "s1.find(\"IS\")"
   ]
  },
  {
   "cell_type": "code",
   "execution_count": 112,
   "id": "f5f8bf38",
   "metadata": {},
   "outputs": [],
   "source": [
    "# its give -1 if they did'nt find any string object while using find function #"
   ]
  },
  {
   "cell_type": "code",
   "execution_count": 113,
   "id": "b70422dc",
   "metadata": {},
   "outputs": [
    {
     "data": {
      "text/plain": [
       "'THIS IS MY PYTHON CODE '"
      ]
     },
     "execution_count": 113,
     "metadata": {},
     "output_type": "execute_result"
    }
   ],
   "source": [
    "s1.upper()"
   ]
  },
  {
   "cell_type": "code",
   "execution_count": 114,
   "id": "ee3521ef",
   "metadata": {},
   "outputs": [
    {
     "data": {
      "text/plain": [
       "2"
      ]
     },
     "execution_count": 114,
     "metadata": {},
     "output_type": "execute_result"
    }
   ],
   "source": [
    "s1.count(\"s\")"
   ]
  },
  {
   "cell_type": "code",
   "execution_count": 116,
   "id": "63bd58e0",
   "metadata": {},
   "outputs": [
    {
     "data": {
      "text/plain": [
       "2"
      ]
     },
     "execution_count": 116,
     "metadata": {},
     "output_type": "execute_result"
    }
   ],
   "source": [
    "s1.count(\"is\")"
   ]
  },
  {
   "cell_type": "code",
   "execution_count": 117,
   "id": "c5a356e0",
   "metadata": {},
   "outputs": [
    {
     "data": {
      "text/plain": [
       "2"
      ]
     },
     "execution_count": 117,
     "metadata": {},
     "output_type": "execute_result"
    }
   ],
   "source": [
    "s1.count(\"th\")"
   ]
  },
  {
   "cell_type": "code",
   "execution_count": 144,
   "id": "575a4e63",
   "metadata": {},
   "outputs": [],
   "source": [
    "s = s1"
   ]
  },
  {
   "cell_type": "code",
   "execution_count": 145,
   "id": "cea08241",
   "metadata": {},
   "outputs": [
    {
     "data": {
      "text/plain": [
       "'this is my laptop'"
      ]
     },
     "execution_count": 145,
     "metadata": {},
     "output_type": "execute_result"
    }
   ],
   "source": [
    "s"
   ]
  },
  {
   "cell_type": "code",
   "execution_count": 146,
   "id": "2a07f3d0",
   "metadata": {},
   "outputs": [
    {
     "data": {
      "text/plain": [
       "'this is my laptop'"
      ]
     },
     "execution_count": 146,
     "metadata": {},
     "output_type": "execute_result"
    }
   ],
   "source": [
    "s1"
   ]
  },
  {
   "cell_type": "code",
   "execution_count": 147,
   "id": "110a4ab1",
   "metadata": {},
   "outputs": [
    {
     "data": {
      "text/plain": [
       "'This Is My Laptop'"
      ]
     },
     "execution_count": 147,
     "metadata": {},
     "output_type": "execute_result"
    }
   ],
   "source": [
    "s1.title()"
   ]
  },
  {
   "cell_type": "code",
   "execution_count": 148,
   "id": "0c38d97f",
   "metadata": {},
   "outputs": [
    {
     "data": {
      "text/plain": [
       "'This is my laptop'"
      ]
     },
     "execution_count": 148,
     "metadata": {},
     "output_type": "execute_result"
    }
   ],
   "source": [
    "s1.capitalize()"
   ]
  },
  {
   "cell_type": "code",
   "execution_count": 149,
   "id": "2780af9f",
   "metadata": {},
   "outputs": [],
   "source": [
    "# H + 1 concatenation process occur only str to str"
   ]
  },
  {
   "cell_type": "code",
   "execution_count": 150,
   "id": "fe2fb12a",
   "metadata": {},
   "outputs": [
    {
     "data": {
      "text/plain": [
       "'Hrithik kumar'"
      ]
     },
     "execution_count": 150,
     "metadata": {},
     "output_type": "execute_result"
    }
   ],
   "source": [
    "H + \" kumar\" \n",
    "# it is a concetenate"
   ]
  },
  {
   "cell_type": "code",
   "execution_count": 151,
   "id": "c02555ef",
   "metadata": {},
   "outputs": [
    {
     "data": {
      "text/plain": [
       "'Hrithik1'"
      ]
     },
     "execution_count": 151,
     "metadata": {},
     "output_type": "execute_result"
    }
   ],
   "source": [
    "H + str(1)"
   ]
  },
  {
   "cell_type": "code",
   "execution_count": 152,
   "id": "53138a3d",
   "metadata": {},
   "outputs": [
    {
     "data": {
      "text/plain": [
       "'HrithikHrithik'"
      ]
     },
     "execution_count": 152,
     "metadata": {},
     "output_type": "execute_result"
    }
   ],
   "source": [
    "H *  2"
   ]
  },
  {
   "cell_type": "code",
   "execution_count": 153,
   "id": "51d19937",
   "metadata": {},
   "outputs": [
    {
     "data": {
      "text/plain": [
       "'gangan'"
      ]
     },
     "execution_count": 153,
     "metadata": {},
     "output_type": "execute_result"
    }
   ],
   "source": [
    "\"gan\"*2"
   ]
  },
  {
   "cell_type": "code",
   "execution_count": 154,
   "id": "e89c76dd",
   "metadata": {},
   "outputs": [],
   "source": [
    "# \"gan/2\"  its give an error "
   ]
  },
  {
   "cell_type": "code",
   "execution_count": 155,
   "id": "598d84c5",
   "metadata": {},
   "outputs": [
    {
     "data": {
      "text/plain": [
       "\"don't used pen while writing in laptop\""
      ]
     },
     "execution_count": 155,
     "metadata": {},
     "output_type": "execute_result"
    }
   ],
   "source": [
    " \"don't used pen while writing in laptop\""
   ]
  },
  {
   "cell_type": "code",
   "execution_count": 156,
   "id": "47650a01",
   "metadata": {},
   "outputs": [
    {
     "data": {
      "text/plain": [
       "'this is my hp laptop which is gaming'"
      ]
     },
     "execution_count": 156,
     "metadata": {},
     "output_type": "execute_result"
    }
   ],
   "source": [
    "\"\"\"this is my hp laptop which is gaming\"\"\""
   ]
  },
  {
   "cell_type": "code",
   "execution_count": 157,
   "id": "32a885c5",
   "metadata": {},
   "outputs": [],
   "source": [
    " s = \"pwskills\""
   ]
  },
  {
   "cell_type": "code",
   "execution_count": 158,
   "id": "0b43085e",
   "metadata": {},
   "outputs": [
    {
     "data": {
      "text/plain": [
       "'llikswp'"
      ]
     },
     "execution_count": 158,
     "metadata": {},
     "output_type": "execute_result"
    }
   ],
   "source": [
    "s[-2::-1]"
   ]
  },
  {
   "cell_type": "code",
   "execution_count": 159,
   "id": "5d4f79f7",
   "metadata": {},
   "outputs": [],
   "source": [
    "s1 = \"\"\"this is my laptop\"\"\""
   ]
  },
  {
   "cell_type": "code",
   "execution_count": 160,
   "id": "227b72d9",
   "metadata": {},
   "outputs": [
    {
     "data": {
      "text/plain": [
       "'this is my laptop'"
      ]
     },
     "execution_count": 160,
     "metadata": {},
     "output_type": "execute_result"
    }
   ],
   "source": [
    "s1"
   ]
  },
  {
   "cell_type": "code",
   "execution_count": 165,
   "id": "832f93b3",
   "metadata": {},
   "outputs": [],
   "source": [
    "s=\"myskill\""
   ]
  },
  {
   "cell_type": "code",
   "execution_count": 166,
   "id": "2edc8b3e",
   "metadata": {},
   "outputs": [
    {
     "data": {
      "text/plain": [
       "'liksym'"
      ]
     },
     "execution_count": 166,
     "metadata": {},
     "output_type": "execute_result"
    }
   ],
   "source": [
    "s[-2::-1]"
   ]
  },
  {
   "cell_type": "code",
   "execution_count": null,
   "id": "50300605",
   "metadata": {},
   "outputs": [],
   "source": []
  },
  {
   "cell_type": "code",
   "execution_count": null,
   "id": "c6654717",
   "metadata": {},
   "outputs": [],
   "source": []
  }
 ],
 "metadata": {
  "kernelspec": {
   "display_name": "Python 3 (ipykernel)",
   "language": "python",
   "name": "python3"
  },
  "language_info": {
   "codemirror_mode": {
    "name": "ipython",
    "version": 3
   },
   "file_extension": ".py",
   "mimetype": "text/x-python",
   "name": "python",
   "nbconvert_exporter": "python",
   "pygments_lexer": "ipython3",
   "version": "3.9.13"
  }
 },
 "nbformat": 4,
 "nbformat_minor": 5
}
