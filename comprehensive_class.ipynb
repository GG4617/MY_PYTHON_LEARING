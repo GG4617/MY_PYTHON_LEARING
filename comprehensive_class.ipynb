{
 "cells": [
  {
   "cell_type": "code",
   "execution_count": 1,
   "id": "0e74b9ce",
   "metadata": {},
   "outputs": [],
   "source": [
    "l =[4,56,343,44,23,34]\n",
    "# comprehension is also called as loop #"
   ]
  },
  {
   "cell_type": "code",
   "execution_count": 2,
   "id": "6bd9f07b",
   "metadata": {},
   "outputs": [
    {
     "data": {
      "text/plain": [
       "[4, 56, 343, 44, 23, 34]"
      ]
     },
     "execution_count": 2,
     "metadata": {},
     "output_type": "execute_result"
    }
   ],
   "source": [
    "l"
   ]
  },
  {
   "cell_type": "code",
   "execution_count": 3,
   "id": "7aba4852",
   "metadata": {},
   "outputs": [],
   "source": [
    "l1 =[]\n",
    "for i in l:\n",
    "    l1.append(i**2)"
   ]
  },
  {
   "cell_type": "code",
   "execution_count": 4,
   "id": "8c109ca3",
   "metadata": {},
   "outputs": [
    {
     "data": {
      "text/plain": [
       "[16, 3136, 117649, 1936, 529, 1156]"
      ]
     },
     "execution_count": 4,
     "metadata": {},
     "output_type": "execute_result"
    }
   ],
   "source": [
    "l1"
   ]
  },
  {
   "cell_type": "code",
   "execution_count": 5,
   "id": "f17a7d95",
   "metadata": {},
   "outputs": [],
   "source": [
    "# generate a square of the number #"
   ]
  },
  {
   "cell_type": "code",
   "execution_count": 6,
   "id": "aadbfe4e",
   "metadata": {},
   "outputs": [
    {
     "data": {
      "text/plain": [
       "[4, 56, 343, 44, 23, 34]"
      ]
     },
     "execution_count": 6,
     "metadata": {},
     "output_type": "execute_result"
    }
   ],
   "source": [
    "# let's write above code in comprehension way #\n",
    "l"
   ]
  },
  {
   "cell_type": "code",
   "execution_count": 7,
   "id": "afcfcc7d",
   "metadata": {},
   "outputs": [
    {
     "data": {
      "text/plain": [
       "[16, 3136, 117649, 1936, 529, 1156]"
      ]
     },
     "execution_count": 7,
     "metadata": {},
     "output_type": "execute_result"
    }
   ],
   "source": [
    "[i**2 for i in l]"
   ]
  },
  {
   "cell_type": "code",
   "execution_count": 8,
   "id": "36c8378c",
   "metadata": {},
   "outputs": [],
   "source": [
    "# genearte even number for the  list l#"
   ]
  },
  {
   "cell_type": "code",
   "execution_count": 9,
   "id": "e8f69c58",
   "metadata": {},
   "outputs": [
    {
     "data": {
      "text/plain": [
       "[4, 56, 44, 34]"
      ]
     },
     "execution_count": 9,
     "metadata": {},
     "output_type": "execute_result"
    }
   ],
   "source": [
    "[ i for i in l if i%2==0]"
   ]
  },
  {
   "cell_type": "code",
   "execution_count": 10,
   "id": "3c337a37",
   "metadata": {},
   "outputs": [],
   "source": [
    "# jisko written karna hai use phele likhna hai #"
   ]
  },
  {
   "cell_type": "code",
   "execution_count": 11,
   "id": "8ef5d731",
   "metadata": {},
   "outputs": [],
   "source": [
    "l1 =[\"mercedes\",\"BMW\",\"Maruti suzuki\"]"
   ]
  },
  {
   "cell_type": "code",
   "execution_count": 12,
   "id": "2e9128bc",
   "metadata": {},
   "outputs": [],
   "source": [
    "# outcome as a list and print all str in the upper case #"
   ]
  },
  {
   "cell_type": "code",
   "execution_count": 13,
   "id": "cec02e30",
   "metadata": {},
   "outputs": [
    {
     "data": {
      "text/plain": [
       "['MERCEDES', 'BMW', 'MARUTI SUZUKI']"
      ]
     },
     "execution_count": 13,
     "metadata": {},
     "output_type": "execute_result"
    }
   ],
   "source": [
    "[i.upper() for i in l1]"
   ]
  },
  {
   "cell_type": "markdown",
   "id": "3e88a22d",
   "metadata": {},
   "source": [
    "TUPLE comprehension"
   ]
  },
  {
   "cell_type": "code",
   "execution_count": 14,
   "id": "1495f49e",
   "metadata": {},
   "outputs": [
    {
     "data": {
      "text/plain": [
       "[4, 56, 343, 44, 23, 34]"
      ]
     },
     "execution_count": 14,
     "metadata": {},
     "output_type": "execute_result"
    }
   ],
   "source": [
    "l"
   ]
  },
  {
   "cell_type": "code",
   "execution_count": 15,
   "id": "8ce64fdb",
   "metadata": {},
   "outputs": [
    {
     "data": {
      "text/plain": [
       "[16, 3136, 117649, 1936, 529, 1156]"
      ]
     },
     "execution_count": 15,
     "metadata": {},
     "output_type": "execute_result"
    }
   ],
   "source": [
    "list(i**2 for  i in l)"
   ]
  },
  {
   "cell_type": "markdown",
   "id": "2c35721e",
   "metadata": {},
   "source": [
    "DICTIONARIES comprehension"
   ]
  },
  {
   "cell_type": "code",
   "execution_count": 16,
   "id": "0f1dc9ff",
   "metadata": {},
   "outputs": [],
   "source": [
    "D = {\"Name\":\"Ganesh\",\"class\":\"T.E\",\"Branch\":\"AIML\"}"
   ]
  },
  {
   "cell_type": "code",
   "execution_count": 17,
   "id": "4d23b161",
   "metadata": {},
   "outputs": [],
   "source": [
    "# q: written values in uppercase #"
   ]
  },
  {
   "cell_type": "code",
   "execution_count": 18,
   "id": "82127279",
   "metadata": {},
   "outputs": [
    {
     "data": {
      "text/plain": [
       "dict_items([('Name', 'Ganesh'), ('class', 'T.E'), ('Branch', 'AIML')])"
      ]
     },
     "execution_count": 18,
     "metadata": {},
     "output_type": "execute_result"
    }
   ],
   "source": [
    "D.items()"
   ]
  },
  {
   "cell_type": "code",
   "execution_count": 19,
   "id": "2dd38022",
   "metadata": {},
   "outputs": [
    {
     "data": {
      "text/plain": [
       "{'Name': 'Ganesh', 'class': 'T.E', 'Branch': 'AIML'}"
      ]
     },
     "execution_count": 19,
     "metadata": {},
     "output_type": "execute_result"
    }
   ],
   "source": [
    "{k:v for k,v in D.items()}"
   ]
  },
  {
   "cell_type": "code",
   "execution_count": 20,
   "id": "69caf2d9",
   "metadata": {},
   "outputs": [],
   "source": [
    "# ex:2\n",
    "d = {\"key1\":2,\"key2\":7,\"key3\":5}"
   ]
  },
  {
   "cell_type": "code",
   "execution_count": 21,
   "id": "af180ab0",
   "metadata": {},
   "outputs": [
    {
     "data": {
      "text/plain": [
       "{'key1': 2, 'key2': 7, 'key3': 5}"
      ]
     },
     "execution_count": 21,
     "metadata": {},
     "output_type": "execute_result"
    }
   ],
   "source": [
    "d"
   ]
  },
  {
   "cell_type": "code",
   "execution_count": 22,
   "id": "eca10fa2",
   "metadata": {},
   "outputs": [
    {
     "data": {
      "text/plain": [
       "{'key1': 4, 'key2': 14, 'key3': 10}"
      ]
     },
     "execution_count": 22,
     "metadata": {},
     "output_type": "execute_result"
    }
   ],
   "source": [
    "{k:v*2 for k,v in d.items()}"
   ]
  },
  {
   "cell_type": "code",
   "execution_count": 23,
   "id": "d6ab6e7c",
   "metadata": {},
   "outputs": [
    {
     "data": {
      "text/plain": [
       "{'key1': 2, 'key2': 7, 'key3': 5}"
      ]
     },
     "execution_count": 23,
     "metadata": {},
     "output_type": "execute_result"
    }
   ],
   "source": [
    "d"
   ]
  },
  {
   "cell_type": "code",
   "execution_count": 24,
   "id": "ba366506",
   "metadata": {},
   "outputs": [
    {
     "data": {
      "text/plain": [
       "{'key1': 2, 'key2': 7, 'key3': 5}"
      ]
     },
     "execution_count": 24,
     "metadata": {},
     "output_type": "execute_result"
    }
   ],
   "source": [
    "{k:v for k,v in d.items() if v > 1}"
   ]
  },
  {
   "cell_type": "code",
   "execution_count": null,
   "id": "ead43518",
   "metadata": {},
   "outputs": [],
   "source": []
  }
 ],
 "metadata": {
  "kernelspec": {
   "display_name": "Python 3 (ipykernel)",
   "language": "python",
   "name": "python3"
  },
  "language_info": {
   "codemirror_mode": {
    "name": "ipython",
    "version": 3
   },
   "file_extension": ".py",
   "mimetype": "text/x-python",
   "name": "python",
   "nbconvert_exporter": "python",
   "pygments_lexer": "ipython3",
   "version": "3.11.5"
  }
 },
 "nbformat": 4,
 "nbformat_minor": 5
}
