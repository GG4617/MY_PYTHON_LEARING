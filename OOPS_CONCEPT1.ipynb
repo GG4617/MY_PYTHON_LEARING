{
 "cells": [
  {
   "cell_type": "markdown",
   "id": "886a474a",
   "metadata": {},
   "source": [
    "object oriented programming,"
   ]
  },
  {
   "cell_type": "code",
   "execution_count": 1,
   "id": "38861571",
   "metadata": {},
   "outputs": [],
   "source": [
    "a = 1"
   ]
  },
  {
   "cell_type": "code",
   "execution_count": 2,
   "id": "e1dd8b05",
   "metadata": {},
   "outputs": [
    {
     "name": "stdout",
     "output_type": "stream",
     "text": [
      "<class 'int'>\n"
     ]
    }
   ],
   "source": [
    "print(type(a))"
   ]
  },
  {
   "cell_type": "code",
   "execution_count": 3,
   "id": "d00a7dec",
   "metadata": {},
   "outputs": [
    {
     "name": "stdout",
     "output_type": "stream",
     "text": [
      "<class 'str'>\n"
     ]
    }
   ],
   "source": [
    "b = print(type(\"pwskill\"))"
   ]
  },
  {
   "cell_type": "code",
   "execution_count": 4,
   "id": "97e4604d",
   "metadata": {},
   "outputs": [],
   "source": [
    "# what is class ? class is nothing but blueprint or a skeleton class is defined overall thing in case of programming "
   ]
  },
  {
   "cell_type": "code",
   "execution_count": 9,
   "id": "f70f67b9",
   "metadata": {},
   "outputs": [],
   "source": [
    "# classification of real world entity  = class or cateroization in a lemom term it is a blueprint"
   ]
  },
  {
   "cell_type": "code",
   "execution_count": 10,
   "id": "cacc9c06",
   "metadata": {},
   "outputs": [],
   "source": [
    "# object is a real world entity or it is aclled as variable or instance #"
   ]
  },
  {
   "cell_type": "code",
   "execution_count": 11,
   "id": "48d7a8fb",
   "metadata": {},
   "outputs": [],
   "source": [
    "class sak :\n",
    "    pass"
   ]
  },
  {
   "cell_type": "code",
   "execution_count": 12,
   "id": "ad2e5f45",
   "metadata": {},
   "outputs": [],
   "source": [
    "# why do we create class in a programming language ? when we create a project e create a different module ....so we create a clss for different class for differrent module ...class enhanced the coding capability and do in a structured way "
   ]
  },
  {
   "cell_type": "code",
   "execution_count": 13,
   "id": "77466d46",
   "metadata": {},
   "outputs": [],
   "source": [
    "# class = {variable,function or method} # likh sakte hai"
   ]
  },
  {
   "cell_type": "code",
   "execution_count": 14,
   "id": "cf16f374",
   "metadata": {},
   "outputs": [],
   "source": [
    "b = sak()"
   ]
  },
  {
   "cell_type": "code",
   "execution_count": 15,
   "id": "44167bbd",
   "metadata": {},
   "outputs": [
    {
     "data": {
      "text/plain": [
       "__main__.sak"
      ]
     },
     "execution_count": 15,
     "metadata": {},
     "output_type": "execute_result"
    }
   ],
   "source": [
    "type(b)"
   ]
  },
  {
   "cell_type": "code",
   "execution_count": 16,
   "id": "c8413250",
   "metadata": {},
   "outputs": [
    {
     "name": "stdout",
     "output_type": "stream",
     "text": [
      "<class '__main__.sak'>\n"
     ]
    }
   ],
   "source": [
    "print(type(b))"
   ]
  },
  {
   "cell_type": "code",
   "execution_count": 17,
   "id": "d5bc0d58",
   "metadata": {},
   "outputs": [],
   "source": [
    "class pwskills:\n",
    "    def welcome_msg(self):\n",
    "        print(\"Welcome to PWskills\")\n",
    "#         jo  bhi method aap class ke andar defined karte ho usko bind karawana hai class se "
   ]
  },
  {
   "cell_type": "code",
   "execution_count": 18,
   "id": "b3252a44",
   "metadata": {},
   "outputs": [],
   "source": [
    "A = pwskills()"
   ]
  },
  {
   "cell_type": "code",
   "execution_count": 19,
   "id": "e9461836",
   "metadata": {},
   "outputs": [
    {
     "name": "stdout",
     "output_type": "stream",
     "text": [
      "<class '__main__.pwskills'>\n"
     ]
    }
   ],
   "source": [
    "print(type(A))"
   ]
  },
  {
   "cell_type": "code",
   "execution_count": 29,
   "id": "75b5d9d4",
   "metadata": {},
   "outputs": [
    {
     "name": "stdout",
     "output_type": "stream",
     "text": [
      "Welcome to PWskills\n"
     ]
    }
   ],
   "source": [
    "A.welcome_msg()"
   ]
  },
  {
   "cell_type": "code",
   "execution_count": 20,
   "id": "23813d20",
   "metadata": {},
   "outputs": [],
   "source": [
    "B = pwskills()"
   ]
  },
  {
   "cell_type": "code",
   "execution_count": 21,
   "id": "ffaae014",
   "metadata": {},
   "outputs": [
    {
     "name": "stdout",
     "output_type": "stream",
     "text": [
      "Welcome to PWskills\n"
     ]
    }
   ],
   "source": [
    "B.welcome_msg()"
   ]
  },
  {
   "cell_type": "code",
   "execution_count": 23,
   "id": "b7bd8b1d",
   "metadata": {},
   "outputs": [],
   "source": [
    "C = pwskills()"
   ]
  },
  {
   "cell_type": "code",
   "execution_count": 24,
   "id": "472a80a3",
   "metadata": {},
   "outputs": [
    {
     "name": "stdout",
     "output_type": "stream",
     "text": [
      "Welcome to PWskills\n"
     ]
    }
   ],
   "source": [
    "C.welcome_msg()"
   ]
  },
  {
   "cell_type": "code",
   "execution_count": 27,
   "id": "75a89176",
   "metadata": {},
   "outputs": [],
   "source": [
    "# code for student details:#\n",
    "# init isa constructor # double underscore is called as initilization"
   ]
  },
  {
   "cell_type": "code",
   "execution_count": 28,
   "id": "033a04b7",
   "metadata": {},
   "outputs": [],
   "source": [
    "class stud_Detail:\n",
    "    def __init__(self,Phone_no,Email_id,Student_id):\n",
    "        self.Phone_no = Phone_no\n",
    "        self.Email_id = Email_id\n",
    "        self.Student_id = Student_id\n",
    "\n",
    "    def return_student_detail(self):\n",
    "        return self.Student_id,self.Phone_no,self.Email_id"
   ]
  },
  {
   "cell_type": "code",
   "execution_count": 30,
   "id": "c2001ebb",
   "metadata": {},
   "outputs": [],
   "source": [
    "# generic class and generic method and generic function totally called generic skeleton"
   ]
  },
  {
   "cell_type": "code",
   "execution_count": 34,
   "id": "ff8b1223",
   "metadata": {},
   "outputs": [],
   "source": [
    "Ganesh = stud_Detail(9326531989,\"ganeshgupta4617@gamil.com\",234)"
   ]
  },
  {
   "cell_type": "code",
   "execution_count": 35,
   "id": "7a3ab762",
   "metadata": {},
   "outputs": [
    {
     "data": {
      "text/plain": [
       "<__main__.stud_Detail at 0x2376c5eb590>"
      ]
     },
     "execution_count": 35,
     "metadata": {},
     "output_type": "execute_result"
    }
   ],
   "source": [
    "Ganesh"
   ]
  },
  {
   "cell_type": "code",
   "execution_count": 46,
   "id": "b4c7836f",
   "metadata": {},
   "outputs": [
    {
     "data": {
      "text/plain": [
       "<bound method stud_Detail.return_student_detail of <__main__.stud_Detail object at 0x000002376C5EB590>>"
      ]
     },
     "execution_count": 46,
     "metadata": {},
     "output_type": "execute_result"
    }
   ],
   "source": [
    "Ganesh.return_student_detail"
   ]
  },
  {
   "cell_type": "code",
   "execution_count": 41,
   "id": "5acd89a0",
   "metadata": {},
   "outputs": [
    {
     "data": {
      "text/plain": [
       "9326531989"
      ]
     },
     "execution_count": 41,
     "metadata": {},
     "output_type": "execute_result"
    }
   ],
   "source": [
    "Ganesh.Phone_no"
   ]
  },
  {
   "cell_type": "code",
   "execution_count": 42,
   "id": "0781dbb2",
   "metadata": {},
   "outputs": [
    {
     "data": {
      "text/plain": [
       "'ganeshgupta4617@gamil.com'"
      ]
     },
     "execution_count": 42,
     "metadata": {},
     "output_type": "execute_result"
    }
   ],
   "source": [
    "Ganesh.Email_id"
   ]
  },
  {
   "cell_type": "code",
   "execution_count": 45,
   "id": "84a2ca69",
   "metadata": {},
   "outputs": [],
   "source": [
    "# self is a pointer.reference provide karega class ke through #"
   ]
  },
  {
   "cell_type": "code",
   "execution_count": 47,
   "id": "65da2d94",
   "metadata": {},
   "outputs": [
    {
     "data": {
      "text/plain": [
       "(234, 9326531989, 'ganeshgupta4617@gamil.com')"
      ]
     },
     "execution_count": 47,
     "metadata": {},
     "output_type": "execute_result"
    }
   ],
   "source": [
    "Ganesh.return_student_detail()"
   ]
  },
  {
   "cell_type": "code",
   "execution_count": 50,
   "id": "5ef4408c",
   "metadata": {},
   "outputs": [],
   "source": [
    "Gaurav = stud_Detail(8408972289,\"Gaurav45@gmail.com\",\"24AB\")"
   ]
  },
  {
   "cell_type": "code",
   "execution_count": 51,
   "id": "f3fe2f73",
   "metadata": {},
   "outputs": [
    {
     "data": {
      "text/plain": [
       "('24AB', 8408972289, 'Gaurav45@gmail.com')"
      ]
     },
     "execution_count": 51,
     "metadata": {},
     "output_type": "execute_result"
    }
   ],
   "source": [
    "Gaurav.return_student_detail()"
   ]
  },
  {
   "cell_type": "code",
   "execution_count": 59,
   "id": "68053369",
   "metadata": {},
   "outputs": [],
   "source": [
    "class stud_Detail1:\n",
    "    def __init__(self,Phone_no,Email_id,Student_id):\n",
    "        self.Phone_no1= Phone_no\n",
    "        self.Email_id1= Email_id\n",
    "        self.Student_id1 = Student_id\n",
    "\n",
    "    def return_student_detail(self):\n",
    "        return self.Student_id1,self.Phone_no1,self.Email_id1"
   ]
  },
  {
   "cell_type": "code",
   "execution_count": 60,
   "id": "97c7a7b0",
   "metadata": {},
   "outputs": [],
   "source": [
    "Roni = stud_Detail1(476437,\"gshaf@sjj\",2432)"
   ]
  },
  {
   "cell_type": "code",
   "execution_count": 61,
   "id": "90088f9a",
   "metadata": {},
   "outputs": [
    {
     "data": {
      "text/plain": [
       "476437"
      ]
     },
     "execution_count": 61,
     "metadata": {},
     "output_type": "execute_result"
    }
   ],
   "source": [
    "Roni.Phone_no1"
   ]
  },
  {
   "cell_type": "code",
   "execution_count": 63,
   "id": "0461a7ed",
   "metadata": {},
   "outputs": [
    {
     "data": {
      "text/plain": [
       "(2432, 476437, 'gshaf@sjj')"
      ]
     },
     "execution_count": 63,
     "metadata": {},
     "output_type": "execute_result"
    }
   ],
   "source": [
    "Roni.return_student_detail()"
   ]
  },
  {
   "cell_type": "code",
   "execution_count": 64,
   "id": "c2c288f3",
   "metadata": {},
   "outputs": [],
   "source": [
    "# init object specific data lega #"
   ]
  },
  {
   "cell_type": "code",
   "execution_count": 65,
   "id": "9f78ad72",
   "metadata": {},
   "outputs": [],
   "source": [
    "# self is not a reserved keyword we can used any other keyword instead of self #"
   ]
  },
  {
   "cell_type": "code",
   "execution_count": 66,
   "id": "49ab6b24",
   "metadata": {},
   "outputs": [],
   "source": [
    "class stud_Detail1:\n",
    "    def __init__(gx,Phone_no,Email_id,Student_id):\n",
    "        gx.Phone_no1= Phone_no\n",
    "        gx.Email_id1= Email_id\n",
    "        gx.Student_id1 = Student_id\n",
    "\n",
    "    def return_student_detail(gx):\n",
    "        return gx.Student_id1,gx.Phone_no1,gx.Email_id1"
   ]
  },
  {
   "cell_type": "code",
   "execution_count": 67,
   "id": "3daae1ef",
   "metadata": {},
   "outputs": [],
   "source": [
    "Roni = stud_Detail1(8408972289,\"Roni45@gmail,com\",\"456sd\")"
   ]
  },
  {
   "cell_type": "code",
   "execution_count": 68,
   "id": "46b1df73",
   "metadata": {},
   "outputs": [
    {
     "data": {
      "text/plain": [
       "('456sd', 8408972289, 'Roni45@gmail,com')"
      ]
     },
     "execution_count": 68,
     "metadata": {},
     "output_type": "execute_result"
    }
   ],
   "source": [
    "Roni.return_student_detail()"
   ]
  },
  {
   "cell_type": "code",
   "execution_count": null,
   "id": "41c493fb",
   "metadata": {},
   "outputs": [],
   "source": []
  }
 ],
 "metadata": {
  "kernelspec": {
   "display_name": "Python 3 (ipykernel)",
   "language": "python",
   "name": "python3"
  },
  "language_info": {
   "codemirror_mode": {
    "name": "ipython",
    "version": 3
   },
   "file_extension": ".py",
   "mimetype": "text/x-python",
   "name": "python",
   "nbconvert_exporter": "python",
   "pygments_lexer": "ipython3",
   "version": "3.11.5"
  }
 },
 "nbformat": 4,
 "nbformat_minor": 5
}
