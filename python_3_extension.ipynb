{
 "cells": [
  {
   "cell_type": "markdown",
   "id": "c8bd686f",
   "metadata": {},
   "source": [
    "Dictionaries "
   ]
  },
  {
   "cell_type": "code",
   "execution_count": 1,
   "id": "3ca408d0",
   "metadata": {},
   "outputs": [],
   "source": [
    "A = {4,56,33,2,78,\"Roni\",5+6j,True,False}"
   ]
  },
  {
   "cell_type": "code",
   "execution_count": 2,
   "id": "3aa26eef",
   "metadata": {},
   "outputs": [
    {
     "data": {
      "text/plain": [
       "{(5+6j), 2, 33, 4, 56, 78, False, 'Roni', True}"
      ]
     },
     "execution_count": 2,
     "metadata": {},
     "output_type": "execute_result"
    }
   ],
   "source": [
    "A"
   ]
  },
  {
   "cell_type": "code",
   "execution_count": 3,
   "id": "32b06605",
   "metadata": {},
   "outputs": [
    {
     "data": {
      "text/plain": [
       "set"
      ]
     },
     "execution_count": 3,
     "metadata": {},
     "output_type": "execute_result"
    }
   ],
   "source": [
    "type(A)"
   ]
  },
  {
   "cell_type": "code",
   "execution_count": 4,
   "id": "c92c02ea",
   "metadata": {},
   "outputs": [],
   "source": [
    "d={}"
   ]
  },
  {
   "cell_type": "code",
   "execution_count": 5,
   "id": "b5975a55",
   "metadata": {},
   "outputs": [
    {
     "data": {
      "text/plain": [
       "dict"
      ]
     },
     "execution_count": 5,
     "metadata": {},
     "output_type": "execute_result"
    }
   ],
   "source": [
    "type(d)"
   ]
  },
  {
   "cell_type": "code",
   "execution_count": 6,
   "id": "a0a4570a",
   "metadata": {},
   "outputs": [],
   "source": [
    "# dictionaries allows key and value pair #\n",
    "d1 ={'key':\"Roni\"}"
   ]
  },
  {
   "cell_type": "code",
   "execution_count": 7,
   "id": "b51a2e57",
   "metadata": {},
   "outputs": [
    {
     "data": {
      "text/plain": [
       "{'key': 'Roni'}"
      ]
     },
     "execution_count": 7,
     "metadata": {},
     "output_type": "execute_result"
    }
   ],
   "source": [
    "d1"
   ]
  },
  {
   "cell_type": "code",
   "execution_count": 8,
   "id": "276d024c",
   "metadata": {},
   "outputs": [],
   "source": [
    "d2={\"Name\":\"Roni\"}"
   ]
  },
  {
   "cell_type": "code",
   "execution_count": 9,
   "id": "d5bedbf0",
   "metadata": {},
   "outputs": [
    {
     "data": {
      "text/plain": [
       "{'Name': 'Roni'}"
      ]
     },
     "execution_count": 9,
     "metadata": {},
     "output_type": "execute_result"
    }
   ],
   "source": [
    "d2"
   ]
  },
  {
   "cell_type": "code",
   "execution_count": 10,
   "id": "a4f53845",
   "metadata": {},
   "outputs": [],
   "source": [
    "d2 = {'name':\"Roni\",\"Email id \":\"Roni45@gmail.com\"}"
   ]
  },
  {
   "cell_type": "code",
   "execution_count": 11,
   "id": "409d3b26",
   "metadata": {},
   "outputs": [
    {
     "data": {
      "text/plain": [
       "{'name': 'Roni', 'Email id ': 'Roni45@gmail.com'}"
      ]
     },
     "execution_count": 11,
     "metadata": {},
     "output_type": "execute_result"
    }
   ],
   "source": [
    "d2"
   ]
  },
  {
   "cell_type": "code",
   "execution_count": 12,
   "id": "3be0283c",
   "metadata": {},
   "outputs": [],
   "source": [
    "# special characters and underscore is not allowed while creating key for the dictionaries # but it is in the double coats or single coats it is right"
   ]
  },
  {
   "cell_type": "code",
   "execution_count": 13,
   "id": "c173125d",
   "metadata": {},
   "outputs": [],
   "source": [
    "d1 ={78:\"Roni\",\"#f\":\"67\",True:\"Gupta\"}"
   ]
  },
  {
   "cell_type": "code",
   "execution_count": 14,
   "id": "3c7c0611",
   "metadata": {},
   "outputs": [
    {
     "data": {
      "text/plain": [
       "{78: 'Roni', '#f': '67', True: 'Gupta'}"
      ]
     },
     "execution_count": 14,
     "metadata": {},
     "output_type": "execute_result"
    }
   ],
   "source": [
    "d1"
   ]
  },
  {
   "cell_type": "code",
   "execution_count": 15,
   "id": "f16351f5",
   "metadata": {},
   "outputs": [
    {
     "data": {
      "text/plain": [
       "'Gupta'"
      ]
     },
     "execution_count": 15,
     "metadata": {},
     "output_type": "execute_result"
    }
   ],
   "source": [
    "d1[True]"
   ]
  },
  {
   "cell_type": "code",
   "execution_count": 16,
   "id": "e7a222b8",
   "metadata": {},
   "outputs": [
    {
     "data": {
      "text/plain": [
       "'Gupta'"
      ]
     },
     "execution_count": 16,
     "metadata": {},
     "output_type": "execute_result"
    }
   ],
   "source": [
    "d1[1]\n",
    "# by using logic gate and "
   ]
  },
  {
   "cell_type": "code",
   "execution_count": 17,
   "id": "18305745",
   "metadata": {},
   "outputs": [],
   "source": [
    "d5 ={\"Name\":\"Roni\",\"Email id\":\"Roni@gmail.com\",\"Name\":\"RONI\"}"
   ]
  },
  {
   "cell_type": "code",
   "execution_count": 18,
   "id": "e4651c79",
   "metadata": {},
   "outputs": [
    {
     "data": {
      "text/plain": [
       "'RONI'"
      ]
     },
     "execution_count": 18,
     "metadata": {},
     "output_type": "execute_result"
    }
   ],
   "source": [
    "d5[\"Name\"]\n",
    "# last value overright hoga because key should be unique # final outcome : last value"
   ]
  },
  {
   "cell_type": "code",
   "execution_count": 19,
   "id": "73d546ca",
   "metadata": {},
   "outputs": [],
   "source": [
    "d6={\"company\":\"PWSKILL\",\"course\":[\"web dev\",\"data science\",\"java with system design\"]}"
   ]
  },
  {
   "cell_type": "code",
   "execution_count": 20,
   "id": "7d0add95",
   "metadata": {},
   "outputs": [
    {
     "data": {
      "text/plain": [
       "{'company': 'PWSKILL',\n",
       " 'course': ['web dev', 'data science', 'java with system design']}"
      ]
     },
     "execution_count": 20,
     "metadata": {},
     "output_type": "execute_result"
    }
   ],
   "source": [
    "d6"
   ]
  },
  {
   "cell_type": "code",
   "execution_count": 21,
   "id": "387db26f",
   "metadata": {},
   "outputs": [
    {
     "data": {
      "text/plain": [
       "['web dev', 'data science', 'java with system design']"
      ]
     },
     "execution_count": 21,
     "metadata": {},
     "output_type": "execute_result"
    }
   ],
   "source": [
    "d6[\"course\"]"
   ]
  },
  {
   "cell_type": "code",
   "execution_count": 22,
   "id": "13358b0b",
   "metadata": {},
   "outputs": [
    {
     "data": {
      "text/plain": [
       "'data science'"
      ]
     },
     "execution_count": 22,
     "metadata": {},
     "output_type": "execute_result"
    }
   ],
   "source": [
    "d6[\"course\"][1]"
   ]
  },
  {
   "cell_type": "code",
   "execution_count": 23,
   "id": "93f300ee",
   "metadata": {},
   "outputs": [],
   "source": [
    "d7={\"number\":[4,55,66,23,5],\"assigment\":(3,32,54,67),\"launch date\":{23,12,22},\"class_timing\":{\"web dev\":8,\"data science\":\"2\",\"java\":\"45\"}}"
   ]
  },
  {
   "cell_type": "code",
   "execution_count": 24,
   "id": "f017a247",
   "metadata": {},
   "outputs": [
    {
     "data": {
      "text/plain": [
       "{'number': [4, 55, 66, 23, 5],\n",
       " 'assigment': (3, 32, 54, 67),\n",
       " 'launch date': {12, 22, 23},\n",
       " 'class_timing': {'web dev': 8, 'data science': '2', 'java': '45'}}"
      ]
     },
     "execution_count": 24,
     "metadata": {},
     "output_type": "execute_result"
    }
   ],
   "source": [
    "d7"
   ]
  },
  {
   "cell_type": "code",
   "execution_count": 25,
   "id": "cf39b45e",
   "metadata": {},
   "outputs": [
    {
     "data": {
      "text/plain": [
       "{'web dev': 8, 'data science': '2', 'java': '45'}"
      ]
     },
     "execution_count": 25,
     "metadata": {},
     "output_type": "execute_result"
    }
   ],
   "source": [
    "d7[\"class_timing\"]"
   ]
  },
  {
   "cell_type": "code",
   "execution_count": 26,
   "id": "5d4e0125",
   "metadata": {},
   "outputs": [
    {
     "data": {
      "text/plain": [
       "'45'"
      ]
     },
     "execution_count": 26,
     "metadata": {},
     "output_type": "execute_result"
    }
   ],
   "source": [
    "d7[\"class_timing\"][\"java\"]"
   ]
  },
  {
   "cell_type": "code",
   "execution_count": 27,
   "id": "e0caf2c3",
   "metadata": {},
   "outputs": [
    {
     "data": {
      "text/plain": [
       "{'number': [4, 55, 66, 23, 5],\n",
       " 'assigment': (3, 32, 54, 67),\n",
       " 'launch date': {12, 22, 23},\n",
       " 'class_timing': {'web dev': 8, 'data science': '2', 'java': '45'}}"
      ]
     },
     "execution_count": 27,
     "metadata": {},
     "output_type": "execute_result"
    }
   ],
   "source": [
    "d7"
   ]
  },
  {
   "cell_type": "code",
   "execution_count": 28,
   "id": "5be802c5",
   "metadata": {},
   "outputs": [],
   "source": [
    "# Add new key in the above dictonary : #\n",
    "d7[\"mentor\"]=[\"rakesh\",\"krish\",\"Sudhanshu\"]"
   ]
  },
  {
   "cell_type": "code",
   "execution_count": 29,
   "id": "335ac7ec",
   "metadata": {},
   "outputs": [
    {
     "data": {
      "text/plain": [
       "{'number': [4, 55, 66, 23, 5],\n",
       " 'assigment': (3, 32, 54, 67),\n",
       " 'launch date': {12, 22, 23},\n",
       " 'class_timing': {'web dev': 8, 'data science': '2', 'java': '45'},\n",
       " 'mentor': ['rakesh', 'krish', 'Sudhanshu']}"
      ]
     },
     "execution_count": 29,
     "metadata": {},
     "output_type": "execute_result"
    }
   ],
   "source": [
    "d7"
   ]
  },
  {
   "cell_type": "code",
   "execution_count": 30,
   "id": "817d1e5e",
   "metadata": {},
   "outputs": [
    {
     "data": {
      "text/plain": [
       "dict_keys(['number', 'assigment', 'launch date', 'class_timing', 'mentor'])"
      ]
     },
     "execution_count": 30,
     "metadata": {},
     "output_type": "execute_result"
    }
   ],
   "source": [
    "d7.keys()"
   ]
  },
  {
   "cell_type": "code",
   "execution_count": 31,
   "id": "38baa13c",
   "metadata": {},
   "outputs": [
    {
     "data": {
      "text/plain": [
       "['number', 'assigment', 'launch date', 'class_timing', 'mentor']"
      ]
     },
     "execution_count": 31,
     "metadata": {},
     "output_type": "execute_result"
    }
   ],
   "source": [
    "list(d7.keys())"
   ]
  },
  {
   "cell_type": "code",
   "execution_count": 32,
   "id": "ac2972cc",
   "metadata": {},
   "outputs": [
    {
     "data": {
      "text/plain": [
       "dict_values([[4, 55, 66, 23, 5], (3, 32, 54, 67), {12, 22, 23}, {'web dev': 8, 'data science': '2', 'java': '45'}, ['rakesh', 'krish', 'Sudhanshu']])"
      ]
     },
     "execution_count": 32,
     "metadata": {},
     "output_type": "execute_result"
    }
   ],
   "source": [
    "d7.values()"
   ]
  },
  {
   "cell_type": "code",
   "execution_count": 33,
   "id": "e92a2497",
   "metadata": {},
   "outputs": [
    {
     "data": {
      "text/plain": [
       "[[4, 55, 66, 23, 5],\n",
       " (3, 32, 54, 67),\n",
       " {12, 22, 23},\n",
       " {'web dev': 8, 'data science': '2', 'java': '45'},\n",
       " ['rakesh', 'krish', 'Sudhanshu']]"
      ]
     },
     "execution_count": 33,
     "metadata": {},
     "output_type": "execute_result"
    }
   ],
   "source": [
    "list(d7.values())"
   ]
  },
  {
   "cell_type": "code",
   "execution_count": 34,
   "id": "6dc84461",
   "metadata": {},
   "outputs": [],
   "source": [
    "# if we want to put out both either it is value or key then we used a function called as items #"
   ]
  },
  {
   "cell_type": "code",
   "execution_count": 35,
   "id": "bd6375e2",
   "metadata": {},
   "outputs": [
    {
     "data": {
      "text/plain": [
       "dict_items([('number', [4, 55, 66, 23, 5]), ('assigment', (3, 32, 54, 67)), ('launch date', {12, 22, 23}), ('class_timing', {'web dev': 8, 'data science': '2', 'java': '45'}), ('mentor', ['rakesh', 'krish', 'Sudhanshu'])])"
      ]
     },
     "execution_count": 35,
     "metadata": {},
     "output_type": "execute_result"
    }
   ],
   "source": [
    "d7.items()"
   ]
  },
  {
   "cell_type": "code",
   "execution_count": 36,
   "id": "f1e89d37",
   "metadata": {},
   "outputs": [
    {
     "data": {
      "text/plain": [
       "[('number', [4, 55, 66, 23, 5]),\n",
       " ('assigment', (3, 32, 54, 67)),\n",
       " ('launch date', {12, 22, 23}),\n",
       " ('class_timing', {'web dev': 8, 'data science': '2', 'java': '45'}),\n",
       " ('mentor', ['rakesh', 'krish', 'Sudhanshu'])]"
      ]
     },
     "execution_count": 36,
     "metadata": {},
     "output_type": "execute_result"
    }
   ],
   "source": [
    "list(d7.items())"
   ]
  },
  {
   "cell_type": "code",
   "execution_count": 37,
   "id": "0e9c1058",
   "metadata": {},
   "outputs": [
    {
     "data": {
      "text/plain": [
       "(3, 32, 54, 67)"
      ]
     },
     "execution_count": 37,
     "metadata": {},
     "output_type": "execute_result"
    }
   ],
   "source": [
    "d7.pop(\"assigment\")"
   ]
  },
  {
   "cell_type": "code",
   "execution_count": 38,
   "id": "5597c48c",
   "metadata": {},
   "outputs": [
    {
     "data": {
      "text/plain": [
       "{'number': [4, 55, 66, 23, 5],\n",
       " 'launch date': {12, 22, 23},\n",
       " 'class_timing': {'web dev': 8, 'data science': '2', 'java': '45'},\n",
       " 'mentor': ['rakesh', 'krish', 'Sudhanshu']}"
      ]
     },
     "execution_count": 38,
     "metadata": {},
     "output_type": "execute_result"
    }
   ],
   "source": [
    "d7"
   ]
  },
  {
   "cell_type": "code",
   "execution_count": 39,
   "id": "2a68e170",
   "metadata": {},
   "outputs": [],
   "source": [
    "# it is done permanently from the data #"
   ]
  },
  {
   "cell_type": "markdown",
   "id": "a9f20b88",
   "metadata": {},
   "source": [
    "# CONTROL FLOW CONCEPT "
   ]
  },
  {
   "cell_type": "code",
   "execution_count": 40,
   "id": "f01a2f08",
   "metadata": {},
   "outputs": [],
   "source": [
    "# Basically called as decision making statement : if else ,elif ..."
   ]
  },
  {
   "cell_type": "code",
   "execution_count": 41,
   "id": "c6c5bb74",
   "metadata": {},
   "outputs": [],
   "source": [
    "# suppose if a student score good marks it will on the batch 1 and ....let's see on the basis of code\n",
    "#  python follow indentation :"
   ]
  },
  {
   "cell_type": "code",
   "execution_count": 42,
   "id": "8e063145",
   "metadata": {},
   "outputs": [
    {
     "name": "stdout",
     "output_type": "stream",
     "text": [
      "Enter your marks \n"
     ]
    },
    {
     "ename": "ValueError",
     "evalue": "invalid literal for int() with base 10: ''",
     "output_type": "error",
     "traceback": [
      "\u001b[1;31m---------------------------------------------------------------------------\u001b[0m",
      "\u001b[1;31mValueError\u001b[0m                                Traceback (most recent call last)",
      "\u001b[1;32m~\\AppData\\Local\\Temp\\ipykernel_11512\\1626355179.py\u001b[0m in \u001b[0;36m<module>\u001b[1;34m\u001b[0m\n\u001b[1;32m----> 1\u001b[1;33m \u001b[0mmarks\u001b[0m \u001b[1;33m=\u001b[0m \u001b[0mint\u001b[0m\u001b[1;33m(\u001b[0m\u001b[0minput\u001b[0m\u001b[1;33m(\u001b[0m\u001b[1;34m\"Enter your marks \"\u001b[0m\u001b[1;33m)\u001b[0m\u001b[1;33m)\u001b[0m\u001b[1;33m\u001b[0m\u001b[1;33m\u001b[0m\u001b[0m\n\u001b[0m\u001b[0;32m      2\u001b[0m \u001b[1;32mif\u001b[0m \u001b[0mmarks\u001b[0m \u001b[1;33m>=\u001b[0m\u001b[1;36m80\u001b[0m \u001b[1;33m:\u001b[0m\u001b[1;33m\u001b[0m\u001b[1;33m\u001b[0m\u001b[0m\n\u001b[0;32m      3\u001b[0m     \u001b[0mprint\u001b[0m\u001b[1;33m(\u001b[0m\u001b[1;34m\"part of super 10 batch\"\u001b[0m\u001b[1;33m)\u001b[0m\u001b[1;33m\u001b[0m\u001b[1;33m\u001b[0m\u001b[0m\n\u001b[0;32m      4\u001b[0m \u001b[1;32melif\u001b[0m \u001b[0mmarks\u001b[0m \u001b[1;33m>=\u001b[0m\u001b[1;36m60\u001b[0m \u001b[1;32mand\u001b[0m  \u001b[0mmarks\u001b[0m \u001b[1;33m<\u001b[0m\u001b[1;36m80\u001b[0m\u001b[1;33m:\u001b[0m\u001b[1;33m\u001b[0m\u001b[1;33m\u001b[0m\u001b[0m\n\u001b[0;32m      5\u001b[0m     \u001b[0mprint\u001b[0m\u001b[1;33m(\u001b[0m\u001b[1;34m\"part of super 20 batch\"\u001b[0m\u001b[1;33m)\u001b[0m\u001b[1;33m\u001b[0m\u001b[1;33m\u001b[0m\u001b[0m\n",
      "\u001b[1;31mValueError\u001b[0m: invalid literal for int() with base 10: ''"
     ]
    }
   ],
   "source": [
    "marks = int(input(\"Enter your marks \"))\n",
    "if marks >=80 :\n",
    "    print(\"part of super 10 batch\")\n",
    "elif marks >=60 and  marks <80:\n",
    "    print(\"part of super 20 batch\")\n",
    "elif marks >=40 and marks <60:\n",
    "    print(\"part of super 30 batch\")\n",
    "else:\n",
    "    print(\"part of regular batch\")"
   ]
  },
  {
   "cell_type": "code",
   "execution_count": null,
   "id": "743921cf",
   "metadata": {},
   "outputs": [],
   "source": [
    "# let's write the above code on the basis of user input #"
   ]
  },
  {
   "cell_type": "code",
   "execution_count": null,
   "id": "a9b9335f",
   "metadata": {},
   "outputs": [],
   "source": [
    "marks = int(input(\"Enter your marks\"))"
   ]
  },
  {
   "cell_type": "code",
   "execution_count": null,
   "id": "8eb7ec6e",
   "metadata": {},
   "outputs": [],
   "source": [
    "marks"
   ]
  },
  {
   "cell_type": "code",
   "execution_count": null,
   "id": "941efbcc",
   "metadata": {},
   "outputs": [],
   "source": [
    "type(marks)"
   ]
  },
  {
   "cell_type": "code",
   "execution_count": null,
   "id": "8c2a6229",
   "metadata": {},
   "outputs": [],
   "source": [
    "# input basically string ke format mei ayega isliye ham use type casting karenge #"
   ]
  },
  {
   "cell_type": "code",
   "execution_count": null,
   "id": "4aee63bd",
   "metadata": {},
   "outputs": [],
   "source": [
    "price =int(input(\"Enter your price \"))\n",
    "if price >1000:\n",
    "    print(\"I will not purchased\")\n",
    "else :\n",
    "    print(\"I will purchased \")"
   ]
  },
  {
   "cell_type": "code",
   "execution_count": 43,
   "id": "c2faee10",
   "metadata": {},
   "outputs": [
    {
     "name": "stdout",
     "output_type": "stream",
     "text": [
      "Enter your price \n"
     ]
    },
    {
     "ename": "ValueError",
     "evalue": "invalid literal for int() with base 10: ''",
     "output_type": "error",
     "traceback": [
      "\u001b[1;31m---------------------------------------------------------------------------\u001b[0m",
      "\u001b[1;31mValueError\u001b[0m                                Traceback (most recent call last)",
      "\u001b[1;32m~\\AppData\\Local\\Temp\\ipykernel_11512\\896590414.py\u001b[0m in \u001b[0;36m<module>\u001b[1;34m\u001b[0m\n\u001b[1;32m----> 1\u001b[1;33m \u001b[0mprice\u001b[0m \u001b[1;33m=\u001b[0m\u001b[0mint\u001b[0m\u001b[1;33m(\u001b[0m\u001b[0minput\u001b[0m\u001b[1;33m(\u001b[0m\u001b[1;34m\"Enter your price \"\u001b[0m\u001b[1;33m)\u001b[0m\u001b[1;33m)\u001b[0m\u001b[1;33m\u001b[0m\u001b[1;33m\u001b[0m\u001b[0m\n\u001b[0m\u001b[0;32m      2\u001b[0m \u001b[1;32mif\u001b[0m \u001b[0mprice\u001b[0m \u001b[1;33m>\u001b[0m\u001b[1;36m1000\u001b[0m\u001b[1;33m:\u001b[0m\u001b[1;33m\u001b[0m\u001b[1;33m\u001b[0m\u001b[0m\n\u001b[0;32m      3\u001b[0m     \u001b[0mprint\u001b[0m\u001b[1;33m(\u001b[0m\u001b[1;34m\"I will not purchased\"\u001b[0m\u001b[1;33m)\u001b[0m\u001b[1;33m\u001b[0m\u001b[1;33m\u001b[0m\u001b[0m\n\u001b[0;32m      4\u001b[0m     \u001b[1;32mif\u001b[0m \u001b[0mprice\u001b[0m \u001b[1;33m>\u001b[0m\u001b[1;36m5000\u001b[0m\u001b[1;33m:\u001b[0m\u001b[1;33m\u001b[0m\u001b[1;33m\u001b[0m\u001b[0m\n\u001b[0;32m      5\u001b[0m         \u001b[0mprint\u001b[0m\u001b[1;33m(\u001b[0m\u001b[1;34m\"This is too much\"\u001b[0m\u001b[1;33m)\u001b[0m\u001b[1;33m\u001b[0m\u001b[1;33m\u001b[0m\u001b[0m\n",
      "\u001b[1;31mValueError\u001b[0m: invalid literal for int() with base 10: ''"
     ]
    }
   ],
   "source": [
    "price =int(input(\"Enter your price \"))\n",
    "if price >1000:\n",
    "    print(\"I will not purchased\")\n",
    "    if price >5000:\n",
    "        print(\"This is too much\")\n",
    "#         nested loop #\n",
    "    elif price <2000:\n",
    "        print(\"its ok\")\n",
    "elif price <1000:\n",
    "        print(\"I will purchased \")\n",
    "else :\n",
    "    (\"not intersed\")"
   ]
  },
  {
   "cell_type": "markdown",
   "id": "4135afb1",
   "metadata": {},
   "source": [
    "# LOOP  CONCEPT #"
   ]
  },
  {
   "cell_type": "code",
   "execution_count": 44,
   "id": "e75717eb",
   "metadata": {},
   "outputs": [],
   "source": [
    "l = [4,6,3,5,7,4,5,7]"
   ]
  },
  {
   "cell_type": "code",
   "execution_count": 45,
   "id": "3aef80ee",
   "metadata": {},
   "outputs": [],
   "source": [
    "# add +1 in all the element of the above list #"
   ]
  },
  {
   "cell_type": "code",
   "execution_count": 46,
   "id": "ee5311f9",
   "metadata": {},
   "outputs": [
    {
     "data": {
      "text/plain": [
       "5"
      ]
     },
     "execution_count": 46,
     "metadata": {},
     "output_type": "execute_result"
    }
   ],
   "source": [
    "l[0] +1"
   ]
  },
  {
   "cell_type": "code",
   "execution_count": 47,
   "id": "4a3539b0",
   "metadata": {},
   "outputs": [],
   "source": [
    "# defined a list as l1 and append the element with +1  in it."
   ]
  },
  {
   "cell_type": "code",
   "execution_count": 48,
   "id": "8a091f80",
   "metadata": {},
   "outputs": [],
   "source": [
    "l1=[]"
   ]
  },
  {
   "cell_type": "code",
   "execution_count": 49,
   "id": "2310bb9d",
   "metadata": {},
   "outputs": [],
   "source": [
    "l1.append(l[0]+1)"
   ]
  },
  {
   "cell_type": "code",
   "execution_count": 50,
   "id": "f8430930",
   "metadata": {},
   "outputs": [
    {
     "data": {
      "text/plain": [
       "[5]"
      ]
     },
     "execution_count": 50,
     "metadata": {},
     "output_type": "execute_result"
    }
   ],
   "source": [
    "l1"
   ]
  },
  {
   "cell_type": "code",
   "execution_count": 51,
   "id": "4da5fa23",
   "metadata": {},
   "outputs": [
    {
     "data": {
      "text/plain": [
       "[4, 6, 3, 5, 7, 4, 5, 7]"
      ]
     },
     "execution_count": 51,
     "metadata": {},
     "output_type": "execute_result"
    }
   ],
   "source": [
    "l"
   ]
  },
  {
   "cell_type": "code",
   "execution_count": 52,
   "id": "66066821",
   "metadata": {},
   "outputs": [
    {
     "name": "stdout",
     "output_type": "stream",
     "text": [
      "5\n",
      "7\n",
      "4\n",
      "6\n",
      "8\n",
      "5\n",
      "6\n",
      "8\n"
     ]
    },
    {
     "data": {
      "text/plain": [
       "[5, 7, 4, 6, 8, 5, 6, 8]"
      ]
     },
     "execution_count": 52,
     "metadata": {},
     "output_type": "execute_result"
    }
   ],
   "source": [
    "# for loop iterable value must be extract indexes wise #\n",
    "l1=[]\n",
    "for a in l:\n",
    "    print(a+1)\n",
    "    l1.append(a+1)\n",
    "l1"
   ]
  },
  {
   "cell_type": "code",
   "execution_count": 53,
   "id": "1394305a",
   "metadata": {},
   "outputs": [],
   "source": [
    "# a is called as the temporary memory for storing the extracting data #"
   ]
  },
  {
   "cell_type": "code",
   "execution_count": 54,
   "id": "054f863b",
   "metadata": {},
   "outputs": [
    {
     "data": {
      "text/plain": [
       "[4, 6, 3, 5, 7, 4, 5, 7]"
      ]
     },
     "execution_count": 54,
     "metadata": {},
     "output_type": "execute_result"
    }
   ],
   "source": [
    "l"
   ]
  },
  {
   "cell_type": "code",
   "execution_count": 55,
   "id": "1248ce74",
   "metadata": {},
   "outputs": [],
   "source": [
    "l =[\"ice-cream\",\"samosa\",\"jalebi\"]"
   ]
  },
  {
   "cell_type": "code",
   "execution_count": 56,
   "id": "e37561b6",
   "metadata": {},
   "outputs": [
    {
     "name": "stdout",
     "output_type": "stream",
     "text": [
      "ice-cream\n",
      "samosa\n",
      "jalebi\n"
     ]
    }
   ],
   "source": [
    "l1=[]\n",
    "for i in l:\n",
    "    print(i)\n",
    "    l1.append(i.upper())"
   ]
  },
  {
   "cell_type": "code",
   "execution_count": 57,
   "id": "915645c5",
   "metadata": {},
   "outputs": [
    {
     "data": {
      "text/plain": [
       "['ICE-CREAM', 'SAMOSA', 'JALEBI']"
      ]
     },
     "execution_count": 57,
     "metadata": {},
     "output_type": "execute_result"
    }
   ],
   "source": [
    "l1"
   ]
  },
  {
   "cell_type": "code",
   "execution_count": 58,
   "id": "438deede",
   "metadata": {},
   "outputs": [],
   "source": [
    "lg =[\"pizza\",4,\"burger\",56.8]"
   ]
  },
  {
   "cell_type": "code",
   "execution_count": 59,
   "id": "09f36f41",
   "metadata": {},
   "outputs": [
    {
     "data": {
      "text/plain": [
       "['pizza', 4, 'burger', 56.8]"
      ]
     },
     "execution_count": 59,
     "metadata": {},
     "output_type": "execute_result"
    }
   ],
   "source": [
    "lg"
   ]
  },
  {
   "cell_type": "code",
   "execution_count": 60,
   "id": "e0789ff4",
   "metadata": {},
   "outputs": [],
   "source": [
    "# make two separate list which contain str and int #"
   ]
  },
  {
   "cell_type": "code",
   "execution_count": 61,
   "id": "c17d8fd9",
   "metadata": {},
   "outputs": [],
   "source": [
    "lg =[\"pizza\",4,\"burger\",56.8]\n",
    "l1_num=[]\n",
    "l2_str=[]\n",
    "for i in lg:\n",
    "    if type(i) ==int or type(i) ==float :\n",
    "        l1_num.append(i)\n",
    "    else:\n",
    "        l2_str.append(i)"
   ]
  },
  {
   "cell_type": "code",
   "execution_count": 62,
   "id": "4244d33c",
   "metadata": {},
   "outputs": [
    {
     "data": {
      "text/plain": [
       "[4, 56.8]"
      ]
     },
     "execution_count": 62,
     "metadata": {},
     "output_type": "execute_result"
    }
   ],
   "source": [
    "l1_num"
   ]
  },
  {
   "cell_type": "code",
   "execution_count": 64,
   "id": "564b3a0e",
   "metadata": {},
   "outputs": [
    {
     "data": {
      "text/plain": [
       "['pizza', 'burger']"
      ]
     },
     "execution_count": 64,
     "metadata": {},
     "output_type": "execute_result"
    }
   ],
   "source": [
    "l2_str"
   ]
  },
  {
   "cell_type": "code",
   "execution_count": null,
   "id": "07211ad4",
   "metadata": {},
   "outputs": [],
   "source": []
  }
 ],
 "metadata": {
  "kernelspec": {
   "display_name": "Python 3 (ipykernel)",
   "language": "python",
   "name": "python3"
  },
  "language_info": {
   "codemirror_mode": {
    "name": "ipython",
    "version": 3
   },
   "file_extension": ".py",
   "mimetype": "text/x-python",
   "name": "python",
   "nbconvert_exporter": "python",
   "pygments_lexer": "ipython3",
   "version": "3.9.13"
  }
 },
 "nbformat": 4,
 "nbformat_minor": 5
}
