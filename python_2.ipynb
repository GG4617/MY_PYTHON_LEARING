{
 "cells": [
  {
   "cell_type": "code",
   "execution_count": 1,
   "id": "bfbe3a40",
   "metadata": {},
   "outputs": [],
   "source": [
    "# list #"
   ]
  },
  {
   "cell_type": "code",
   "execution_count": 2,
   "id": "bce943c9",
   "metadata": {},
   "outputs": [],
   "source": [
    "G =[4.5,5,4,6,\"Ganesh\",True,4+7j,]"
   ]
  },
  {
   "cell_type": "code",
   "execution_count": 3,
   "id": "1dd51bea",
   "metadata": {},
   "outputs": [
    {
     "data": {
      "text/plain": [
       "[4.5, 5, 4, 6, 'Ganesh', True, (4+7j)]"
      ]
     },
     "execution_count": 3,
     "metadata": {},
     "output_type": "execute_result"
    }
   ],
   "source": [
    "G"
   ]
  },
  {
   "cell_type": "code",
   "execution_count": 4,
   "id": "f5703df3",
   "metadata": {},
   "outputs": [
    {
     "data": {
      "text/plain": [
       "list"
      ]
     },
     "execution_count": 4,
     "metadata": {},
     "output_type": "execute_result"
    }
   ],
   "source": [
    "type(G)"
   ]
  },
  {
   "cell_type": "code",
   "execution_count": 5,
   "id": "cd6fdb4c",
   "metadata": {},
   "outputs": [],
   "source": [
    "# list available in the square bracket #"
   ]
  },
  {
   "cell_type": "code",
   "execution_count": 6,
   "id": "372c0a37",
   "metadata": {},
   "outputs": [
    {
     "data": {
      "text/plain": [
       "4.5"
      ]
     },
     "execution_count": 6,
     "metadata": {},
     "output_type": "execute_result"
    }
   ],
   "source": [
    "G[0]"
   ]
  },
  {
   "cell_type": "code",
   "execution_count": 7,
   "id": "3374c222",
   "metadata": {},
   "outputs": [
    {
     "data": {
      "text/plain": [
       "'Ganesh'"
      ]
     },
     "execution_count": 7,
     "metadata": {},
     "output_type": "execute_result"
    }
   ],
   "source": [
    "G[4]"
   ]
  },
  {
   "cell_type": "code",
   "execution_count": 8,
   "id": "0f765998",
   "metadata": {},
   "outputs": [],
   "source": [
    "# this is the indexing process of the list ,list also Allows indexing and slicing concpet #"
   ]
  },
  {
   "cell_type": "code",
   "execution_count": 9,
   "id": "f06f9997",
   "metadata": {},
   "outputs": [
    {
     "data": {
      "text/plain": [
       "6"
      ]
     },
     "execution_count": 9,
     "metadata": {},
     "output_type": "execute_result"
    }
   ],
   "source": [
    "G[3]"
   ]
  },
  {
   "cell_type": "code",
   "execution_count": 10,
   "id": "05f1cba1",
   "metadata": {},
   "outputs": [],
   "source": [
    "# l[90] , \"list index out of range\" , we can also store primitive and non primitive data in the list"
   ]
  },
  {
   "cell_type": "code",
   "execution_count": 11,
   "id": "dc4fada7",
   "metadata": {},
   "outputs": [
    {
     "data": {
      "text/plain": [
       "[4.5, 5, 4, 6, 'Ganesh', True, (4+7j)]"
      ]
     },
     "execution_count": 11,
     "metadata": {},
     "output_type": "execute_result"
    }
   ],
   "source": [
    "G"
   ]
  },
  {
   "cell_type": "code",
   "execution_count": 12,
   "id": "4f95c63a",
   "metadata": {},
   "outputs": [
    {
     "data": {
      "text/plain": [
       "[4.5, 5, 4, 6]"
      ]
     },
     "execution_count": 12,
     "metadata": {},
     "output_type": "execute_result"
    }
   ],
   "source": [
    "G[0:4]"
   ]
  },
  {
   "cell_type": "code",
   "execution_count": 13,
   "id": "0f4fe002",
   "metadata": {},
   "outputs": [
    {
     "data": {
      "text/plain": [
       "[(4+7j), True, 'Ganesh', 6, 4, 5, 4.5]"
      ]
     },
     "execution_count": 13,
     "metadata": {},
     "output_type": "execute_result"
    }
   ],
   "source": [
    "G[::-1]"
   ]
  },
  {
   "cell_type": "code",
   "execution_count": 14,
   "id": "8d44d51f",
   "metadata": {},
   "outputs": [
    {
     "data": {
      "text/plain": [
       "True"
      ]
     },
     "execution_count": 14,
     "metadata": {},
     "output_type": "execute_result"
    }
   ],
   "source": [
    "G[-2]"
   ]
  },
  {
   "cell_type": "code",
   "execution_count": 15,
   "id": "a1f5ce8f",
   "metadata": {},
   "outputs": [
    {
     "data": {
      "text/plain": [
       "[4.5, 4, 'Ganesh', (4+7j)]"
      ]
     },
     "execution_count": 15,
     "metadata": {},
     "output_type": "execute_result"
    }
   ],
   "source": [
    "G[0:7:2]"
   ]
  },
  {
   "cell_type": "code",
   "execution_count": 16,
   "id": "66316c9e",
   "metadata": {},
   "outputs": [],
   "source": [
    "# another method for finding the even indexses data #"
   ]
  },
  {
   "cell_type": "code",
   "execution_count": 17,
   "id": "b2b955fe",
   "metadata": {},
   "outputs": [
    {
     "data": {
      "text/plain": [
       "[4.5, 4, 'Ganesh', (4+7j)]"
      ]
     },
     "execution_count": 17,
     "metadata": {},
     "output_type": "execute_result"
    }
   ],
   "source": [
    "G[::2]"
   ]
  },
  {
   "cell_type": "code",
   "execution_count": 18,
   "id": "2b1e9567",
   "metadata": {},
   "outputs": [
    {
     "data": {
      "text/plain": [
       "[4.5, 5, 4, 6, 'Ganesh', True, (4+7j)]"
      ]
     },
     "execution_count": 18,
     "metadata": {},
     "output_type": "execute_result"
    }
   ],
   "source": [
    "G"
   ]
  },
  {
   "cell_type": "code",
   "execution_count": 19,
   "id": "f2bc4a80",
   "metadata": {},
   "outputs": [],
   "source": [
    "g=\"ganesh\""
   ]
  },
  {
   "cell_type": "code",
   "execution_count": 20,
   "id": "79108397",
   "metadata": {},
   "outputs": [],
   "source": [
    "# G + g ,list cannot be concetenate with str in such case we use list as function and pass the str."
   ]
  },
  {
   "cell_type": "code",
   "execution_count": 21,
   "id": "175ecd36",
   "metadata": {},
   "outputs": [
    {
     "data": {
      "text/plain": [
       "['g', 'a', 'n', 'e', 's', 'h', 4.5, 5, 4, 6, 'Ganesh', True, (4+7j)]"
      ]
     },
     "execution_count": 21,
     "metadata": {},
     "output_type": "execute_result"
    }
   ],
   "source": [
    "list(g) + G"
   ]
  },
  {
   "cell_type": "code",
   "execution_count": 22,
   "id": "79c713e5",
   "metadata": {},
   "outputs": [],
   "source": [
    "# this is like a type conversion but techniically it is trying to convert entire str into a list forward by breaking it into a multiple different kind of a character #   "
   ]
  },
  {
   "cell_type": "code",
   "execution_count": 23,
   "id": "dc1adf27",
   "metadata": {},
   "outputs": [],
   "source": [
    "# function called as append is work for such condition #"
   ]
  },
  {
   "cell_type": "code",
   "execution_count": 24,
   "id": "2ad04b79",
   "metadata": {},
   "outputs": [
    {
     "data": {
      "text/plain": [
       "[4.5, 5, 4, 6, 'Ganesh', True, (4+7j)]"
      ]
     },
     "execution_count": 24,
     "metadata": {},
     "output_type": "execute_result"
    }
   ],
   "source": [
    "G"
   ]
  },
  {
   "cell_type": "code",
   "execution_count": 25,
   "id": "3355ef41",
   "metadata": {},
   "outputs": [],
   "source": [
    "# we need to find Gan from \"Ganesh\"#"
   ]
  },
  {
   "cell_type": "code",
   "execution_count": 26,
   "id": "c8707518",
   "metadata": {},
   "outputs": [
    {
     "data": {
      "text/plain": [
       "'Ganesh'"
      ]
     },
     "execution_count": 26,
     "metadata": {},
     "output_type": "execute_result"
    }
   ],
   "source": [
    "G[4]"
   ]
  },
  {
   "cell_type": "code",
   "execution_count": 27,
   "id": "f146ac89",
   "metadata": {},
   "outputs": [
    {
     "data": {
      "text/plain": [
       "str"
      ]
     },
     "execution_count": 27,
     "metadata": {},
     "output_type": "execute_result"
    }
   ],
   "source": [
    "type(G[4])"
   ]
  },
  {
   "cell_type": "code",
   "execution_count": 28,
   "id": "94fcd44d",
   "metadata": {},
   "outputs": [
    {
     "data": {
      "text/plain": [
       "'Gan'"
      ]
     },
     "execution_count": 28,
     "metadata": {},
     "output_type": "execute_result"
    }
   ],
   "source": [
    "G[4][0:3]\n",
    "# by using the slicing operation but for boolean we can't find such case"
   ]
  },
  {
   "cell_type": "code",
   "execution_count": 29,
   "id": "bfb0506e",
   "metadata": {},
   "outputs": [],
   "source": [
    "# for boolean we convert them into a str and then find the character of boolean #"
   ]
  },
  {
   "cell_type": "code",
   "execution_count": 30,
   "id": "5b3d4180",
   "metadata": {},
   "outputs": [
    {
     "data": {
      "text/plain": [
       "'Tru'"
      ]
     },
     "execution_count": 30,
     "metadata": {},
     "output_type": "execute_result"
    }
   ],
   "source": [
    "str(G[5])[0:3]"
   ]
  },
  {
   "cell_type": "code",
   "execution_count": 31,
   "id": "6bb6a1a7",
   "metadata": {},
   "outputs": [],
   "source": [
    "# but is not only the boolean after extracting  #"
   ]
  },
  {
   "cell_type": "code",
   "execution_count": 32,
   "id": "a1187f6f",
   "metadata": {},
   "outputs": [],
   "source": [
    "l1 = [4,5,6,8]"
   ]
  },
  {
   "cell_type": "code",
   "execution_count": 33,
   "id": "89c40c5c",
   "metadata": {},
   "outputs": [],
   "source": [
    "# list can we concetenate we list #"
   ]
  },
  {
   "cell_type": "code",
   "execution_count": 34,
   "id": "30c1f296",
   "metadata": {},
   "outputs": [
    {
     "data": {
      "text/plain": [
       "[4.5, 5, 4, 6, 'Ganesh', True, (4+7j), 4, 5, 6, 8]"
      ]
     },
     "execution_count": 34,
     "metadata": {},
     "output_type": "execute_result"
    }
   ],
   "source": [
    "G + l1"
   ]
  },
  {
   "cell_type": "code",
   "execution_count": 35,
   "id": "27299c75",
   "metadata": {},
   "outputs": [
    {
     "data": {
      "text/plain": [
       "[4, 5, 6, 8, 4, 5, 6, 8, 4, 5, 6, 8]"
      ]
     },
     "execution_count": 35,
     "metadata": {},
     "output_type": "execute_result"
    }
   ],
   "source": [
    "l1 * 3\n",
    "# operation can alsso be done in the list #"
   ]
  },
  {
   "cell_type": "code",
   "execution_count": 36,
   "id": "dffc8c14",
   "metadata": {},
   "outputs": [
    {
     "data": {
      "text/plain": [
       "7"
      ]
     },
     "execution_count": 36,
     "metadata": {},
     "output_type": "execute_result"
    }
   ],
   "source": [
    "len(G)\n",
    "# to find the length of a list ,string and all..  #"
   ]
  },
  {
   "cell_type": "code",
   "execution_count": 37,
   "id": "42082bfd",
   "metadata": {},
   "outputs": [],
   "source": [
    "G.append(6) \n",
    "# append is an inbuilt function  we can we use for append or add in the list #"
   ]
  },
  {
   "cell_type": "code",
   "execution_count": 38,
   "id": "95e9d1be",
   "metadata": {},
   "outputs": [
    {
     "data": {
      "text/plain": [
       "[4.5, 5, 4, 6, 'Ganesh', True, (4+7j), 6]"
      ]
     },
     "execution_count": 38,
     "metadata": {},
     "output_type": "execute_result"
    }
   ],
   "source": [
    "G"
   ]
  },
  {
   "cell_type": "code",
   "execution_count": 39,
   "id": "837e62ef",
   "metadata": {},
   "outputs": [],
   "source": [
    "G.append(g)"
   ]
  },
  {
   "cell_type": "code",
   "execution_count": 40,
   "id": "e4e6ef07",
   "metadata": {},
   "outputs": [
    {
     "data": {
      "text/plain": [
       "[4.5, 5, 4, 6, 'Ganesh', True, (4+7j), 6, 'ganesh']"
      ]
     },
     "execution_count": 40,
     "metadata": {},
     "output_type": "execute_result"
    }
   ],
   "source": [
    "G"
   ]
  },
  {
   "cell_type": "code",
   "execution_count": 41,
   "id": "35d4a371",
   "metadata": {},
   "outputs": [],
   "source": [
    "G.append(l1)"
   ]
  },
  {
   "cell_type": "code",
   "execution_count": 42,
   "id": "3feea6db",
   "metadata": {},
   "outputs": [
    {
     "data": {
      "text/plain": [
       "[4.5, 5, 4, 6, 'Ganesh', True, (4+7j), 6, 'ganesh', [4, 5, 6, 8]]"
      ]
     },
     "execution_count": 42,
     "metadata": {},
     "output_type": "execute_result"
    }
   ],
   "source": [
    "G"
   ]
  },
  {
   "cell_type": "code",
   "execution_count": 43,
   "id": "10ede586",
   "metadata": {},
   "outputs": [],
   "source": [
    "# we can store list into a list # we can store multiple list int o list is  called as nested list"
   ]
  },
  {
   "cell_type": "code",
   "execution_count": 44,
   "id": "39b1b18a",
   "metadata": {},
   "outputs": [
    {
     "data": {
      "text/plain": [
       "[4.5, 5, 4, 6, 'Ganesh', True, (4+7j), 6, 'ganesh', [4, 5, 6, 8]]"
      ]
     },
     "execution_count": 44,
     "metadata": {},
     "output_type": "execute_result"
    }
   ],
   "source": [
    "G"
   ]
  },
  {
   "cell_type": "code",
   "execution_count": 45,
   "id": "f9ab35a1",
   "metadata": {},
   "outputs": [
    {
     "data": {
      "text/plain": [
       "[4, 5, 6, 8]"
      ]
     },
     "execution_count": 45,
     "metadata": {},
     "output_type": "execute_result"
    }
   ],
   "source": [
    "G[9]"
   ]
  },
  {
   "cell_type": "code",
   "execution_count": 46,
   "id": "2980cf45",
   "metadata": {},
   "outputs": [
    {
     "data": {
      "text/plain": [
       "5"
      ]
     },
     "execution_count": 46,
     "metadata": {},
     "output_type": "execute_result"
    }
   ],
   "source": [
    "G[9][1]\n",
    "# we generally gievn the index position of an list for finding the list position using append function  #"
   ]
  },
  {
   "cell_type": "code",
   "execution_count": 47,
   "id": "5e83358f",
   "metadata": {},
   "outputs": [
    {
     "data": {
      "text/plain": [
       "[4.5, 5, 4, 6, 'Ganesh', True, (4+7j), 6, 'ganesh', [4, 5, 6, 8]]"
      ]
     },
     "execution_count": 47,
     "metadata": {},
     "output_type": "execute_result"
    }
   ],
   "source": [
    "G"
   ]
  },
  {
   "cell_type": "code",
   "execution_count": 48,
   "id": "7878fd87",
   "metadata": {},
   "outputs": [],
   "source": [
    "G.extend(\"Gupta\")\n",
    "# add the input by breaking it an dint function cannot be extend ,we pass the data is iterable which means data inside the data #"
   ]
  },
  {
   "cell_type": "code",
   "execution_count": 49,
   "id": "e99ea2ad",
   "metadata": {},
   "outputs": [
    {
     "data": {
      "text/plain": [
       "[4.5,\n",
       " 5,\n",
       " 4,\n",
       " 6,\n",
       " 'Ganesh',\n",
       " True,\n",
       " (4+7j),\n",
       " 6,\n",
       " 'ganesh',\n",
       " [4, 5, 6, 8],\n",
       " 'G',\n",
       " 'u',\n",
       " 'p',\n",
       " 't',\n",
       " 'a']"
      ]
     },
     "execution_count": 49,
     "metadata": {},
     "output_type": "execute_result"
    }
   ],
   "source": [
    "G"
   ]
  },
  {
   "cell_type": "code",
   "execution_count": 50,
   "id": "09a8df57",
   "metadata": {},
   "outputs": [],
   "source": [
    "# extend only the nature of data which is iterable # "
   ]
  },
  {
   "cell_type": "code",
   "execution_count": 51,
   "id": "32861bc4",
   "metadata": {},
   "outputs": [],
   "source": [
    "G.extend([65,78,90])"
   ]
  },
  {
   "cell_type": "code",
   "execution_count": 52,
   "id": "77404098",
   "metadata": {},
   "outputs": [
    {
     "data": {
      "text/plain": [
       "[4.5,\n",
       " 5,\n",
       " 4,\n",
       " 6,\n",
       " 'Ganesh',\n",
       " True,\n",
       " (4+7j),\n",
       " 6,\n",
       " 'ganesh',\n",
       " [4, 5, 6, 8],\n",
       " 'G',\n",
       " 'u',\n",
       " 'p',\n",
       " 't',\n",
       " 'a',\n",
       " 65,\n",
       " 78,\n",
       " 90]"
      ]
     },
     "execution_count": 52,
     "metadata": {},
     "output_type": "execute_result"
    }
   ],
   "source": [
    "G"
   ]
  },
  {
   "cell_type": "code",
   "execution_count": 53,
   "id": "75a016e0",
   "metadata": {},
   "outputs": [],
   "source": [
    "# in extend data is unrap and store it in the list and similarly str can we unrap and store it "
   ]
  },
  {
   "cell_type": "code",
   "execution_count": 54,
   "id": "be0bd559",
   "metadata": {},
   "outputs": [],
   "source": [
    "# append try to keep data as it is whereas the extend unrap data and store it #\n"
   ]
  },
  {
   "cell_type": "code",
   "execution_count": 55,
   "id": "6129a606",
   "metadata": {},
   "outputs": [
    {
     "data": {
      "text/plain": [
       "[4, 5, 6, 8]"
      ]
     },
     "execution_count": 55,
     "metadata": {},
     "output_type": "execute_result"
    }
   ],
   "source": [
    "l1"
   ]
  },
  {
   "cell_type": "code",
   "execution_count": 56,
   "id": "566daa05",
   "metadata": {},
   "outputs": [],
   "source": [
    "# in case of extend and append the data can we fixed on the last position now , lets see for the data which can be fixed in a  first position , using insert inbuilt function "
   ]
  },
  {
   "cell_type": "code",
   "execution_count": 57,
   "id": "9cee5f44",
   "metadata": {},
   "outputs": [],
   "source": [
    "l1.insert(2,\"gupta\")"
   ]
  },
  {
   "cell_type": "code",
   "execution_count": 58,
   "id": "703e51be",
   "metadata": {},
   "outputs": [
    {
     "data": {
      "text/plain": [
       "[4, 5, 'gupta', 6, 8]"
      ]
     },
     "execution_count": 58,
     "metadata": {},
     "output_type": "execute_result"
    }
   ],
   "source": [
    "l1"
   ]
  },
  {
   "cell_type": "code",
   "execution_count": 59,
   "id": "070d3564",
   "metadata": {},
   "outputs": [],
   "source": [
    "l1.insert(3,[4,2,1])"
   ]
  },
  {
   "cell_type": "code",
   "execution_count": 60,
   "id": "2d62ace6",
   "metadata": {},
   "outputs": [
    {
     "data": {
      "text/plain": [
       "[4, 5, 'gupta', [4, 2, 1], 6, 8]"
      ]
     },
     "execution_count": 60,
     "metadata": {},
     "output_type": "execute_result"
    }
   ],
   "source": [
    "l1"
   ]
  },
  {
   "cell_type": "code",
   "execution_count": 61,
   "id": "c4fe9b7e",
   "metadata": {},
   "outputs": [],
   "source": [
    "l1.insert(-1,[55,45])"
   ]
  },
  {
   "cell_type": "code",
   "execution_count": 62,
   "id": "7fe08d5b",
   "metadata": {},
   "outputs": [
    {
     "data": {
      "text/plain": [
       "[4, 5, 'gupta', [4, 2, 1], 6, [55, 45], 8]"
      ]
     },
     "execution_count": 62,
     "metadata": {},
     "output_type": "execute_result"
    }
   ],
   "source": [
    "l1"
   ]
  },
  {
   "cell_type": "code",
   "execution_count": 63,
   "id": "a7aa9343",
   "metadata": {},
   "outputs": [
    {
     "data": {
      "text/plain": [
       "8"
      ]
     },
     "execution_count": 63,
     "metadata": {},
     "output_type": "execute_result"
    }
   ],
   "source": [
    "l1.pop()"
   ]
  },
  {
   "cell_type": "code",
   "execution_count": 64,
   "id": "bada338e",
   "metadata": {},
   "outputs": [
    {
     "data": {
      "text/plain": [
       "[4, 5, 'gupta', [4, 2, 1], 6, [55, 45]]"
      ]
     },
     "execution_count": 64,
     "metadata": {},
     "output_type": "execute_result"
    }
   ],
   "source": [
    "l1"
   ]
  },
  {
   "cell_type": "code",
   "execution_count": 65,
   "id": "b9214a4d",
   "metadata": {},
   "outputs": [],
   "source": [
    "# (-1) pe data insert kiya but 5th position ka data shift ho gaya  ## "
   ]
  },
  {
   "cell_type": "code",
   "execution_count": 66,
   "id": "9760f38d",
   "metadata": {},
   "outputs": [
    {
     "data": {
      "text/plain": [
       "'gupta'"
      ]
     },
     "execution_count": 66,
     "metadata": {},
     "output_type": "execute_result"
    }
   ],
   "source": [
    "l1.pop(2)"
   ]
  },
  {
   "cell_type": "code",
   "execution_count": 67,
   "id": "7d6765d5",
   "metadata": {},
   "outputs": [
    {
     "data": {
      "text/plain": [
       "[4, 5, [4, 2, 1], 6, [55, 45]]"
      ]
     },
     "execution_count": 67,
     "metadata": {},
     "output_type": "execute_result"
    }
   ],
   "source": [
    "l1"
   ]
  },
  {
   "cell_type": "code",
   "execution_count": 68,
   "id": "6b001442",
   "metadata": {},
   "outputs": [],
   "source": [
    "l1.remove(4)"
   ]
  },
  {
   "cell_type": "code",
   "execution_count": 69,
   "id": "0e790717",
   "metadata": {},
   "outputs": [
    {
     "data": {
      "text/plain": [
       "[5, [4, 2, 1], 6, [55, 45]]"
      ]
     },
     "execution_count": 69,
     "metadata": {},
     "output_type": "execute_result"
    }
   ],
   "source": [
    "l1"
   ]
  },
  {
   "cell_type": "code",
   "execution_count": 70,
   "id": "32304728",
   "metadata": {},
   "outputs": [],
   "source": [
    "l1[3].remove(55)"
   ]
  },
  {
   "cell_type": "code",
   "execution_count": 71,
   "id": "06f922fb",
   "metadata": {},
   "outputs": [
    {
     "data": {
      "text/plain": [
       "[5, [4, 2, 1], 6, [45]]"
      ]
     },
     "execution_count": 71,
     "metadata": {},
     "output_type": "execute_result"
    }
   ],
   "source": [
    "l1"
   ]
  },
  {
   "cell_type": "code",
   "execution_count": 72,
   "id": "656365d5",
   "metadata": {},
   "outputs": [],
   "source": [
    "l1[1].remove(2)"
   ]
  },
  {
   "cell_type": "code",
   "execution_count": 73,
   "id": "d73b420f",
   "metadata": {},
   "outputs": [
    {
     "data": {
      "text/plain": [
       "[5, [4, 1], 6, [45]]"
      ]
     },
     "execution_count": 73,
     "metadata": {},
     "output_type": "execute_result"
    }
   ],
   "source": [
    "l1"
   ]
  },
  {
   "cell_type": "code",
   "execution_count": 74,
   "id": "b6000799",
   "metadata": {},
   "outputs": [],
   "source": [
    "# we can remove the data inside a list but only list-data  not a string because str is a non- mutable object # "
   ]
  },
  {
   "cell_type": "code",
   "execution_count": 75,
   "id": "33b427bc",
   "metadata": {},
   "outputs": [
    {
     "data": {
      "text/plain": [
       "[5, [4, 1], 6, [45]]"
      ]
     },
     "execution_count": 75,
     "metadata": {},
     "output_type": "execute_result"
    }
   ],
   "source": [
    "l1"
   ]
  },
  {
   "cell_type": "code",
   "execution_count": 76,
   "id": "b3c4a239",
   "metadata": {},
   "outputs": [],
   "source": [
    "l1.append(5)"
   ]
  },
  {
   "cell_type": "code",
   "execution_count": 77,
   "id": "92c6658c",
   "metadata": {},
   "outputs": [
    {
     "data": {
      "text/plain": [
       "[5, [4, 1], 6, [45], 5]"
      ]
     },
     "execution_count": 77,
     "metadata": {},
     "output_type": "execute_result"
    }
   ],
   "source": [
    "l1"
   ]
  },
  {
   "cell_type": "code",
   "execution_count": 78,
   "id": "0e073797",
   "metadata": {},
   "outputs": [],
   "source": [
    "l1.remove(5)"
   ]
  },
  {
   "cell_type": "code",
   "execution_count": 79,
   "id": "489e136f",
   "metadata": {},
   "outputs": [],
   "source": [
    "# always remove first occurence of an object #"
   ]
  },
  {
   "cell_type": "code",
   "execution_count": 80,
   "id": "a9c56d08",
   "metadata": {},
   "outputs": [
    {
     "data": {
      "text/plain": [
       "[5, [45], 6, [4, 1]]"
      ]
     },
     "execution_count": 80,
     "metadata": {},
     "output_type": "execute_result"
    }
   ],
   "source": [
    "l1[::-1]"
   ]
  },
  {
   "cell_type": "code",
   "execution_count": 81,
   "id": "910bd63a",
   "metadata": {},
   "outputs": [],
   "source": [
    "l1.reverse()"
   ]
  },
  {
   "cell_type": "code",
   "execution_count": 82,
   "id": "7d0e9bd4",
   "metadata": {},
   "outputs": [
    {
     "data": {
      "text/plain": [
       "[5, [45], 6, [4, 1]]"
      ]
     },
     "execution_count": 82,
     "metadata": {},
     "output_type": "execute_result"
    }
   ],
   "source": [
    "l1"
   ]
  },
  {
   "cell_type": "code",
   "execution_count": 83,
   "id": "93d1f8f3",
   "metadata": {},
   "outputs": [],
   "source": [
    "# reverse permamentely for the code _ and also used  reassignation for such case  #"
   ]
  },
  {
   "cell_type": "code",
   "execution_count": 84,
   "id": "e21e663c",
   "metadata": {},
   "outputs": [],
   "source": [
    "l1 = l1[::-1]"
   ]
  },
  {
   "cell_type": "code",
   "execution_count": 85,
   "id": "ecb31152",
   "metadata": {},
   "outputs": [
    {
     "data": {
      "text/plain": [
       "[[4, 1], 6, [45], 5]"
      ]
     },
     "execution_count": 85,
     "metadata": {},
     "output_type": "execute_result"
    }
   ],
   "source": [
    "l1"
   ]
  },
  {
   "cell_type": "code",
   "execution_count": 86,
   "id": "e203f991",
   "metadata": {},
   "outputs": [],
   "source": [
    "l2 = [3,5,6,3,45,32,78]"
   ]
  },
  {
   "cell_type": "code",
   "execution_count": 87,
   "id": "87b84888",
   "metadata": {},
   "outputs": [],
   "source": [
    "l2.sort()"
   ]
  },
  {
   "cell_type": "code",
   "execution_count": 88,
   "id": "a367a3ae",
   "metadata": {},
   "outputs": [
    {
     "data": {
      "text/plain": [
       "[3, 3, 5, 6, 32, 45, 78]"
      ]
     },
     "execution_count": 88,
     "metadata": {},
     "output_type": "execute_result"
    }
   ],
   "source": [
    "l2"
   ]
  },
  {
   "cell_type": "code",
   "execution_count": 89,
   "id": "c5afc72a",
   "metadata": {},
   "outputs": [],
   "source": [
    "# basically sorting in the ascending order #"
   ]
  },
  {
   "cell_type": "code",
   "execution_count": 90,
   "id": "52008dae",
   "metadata": {},
   "outputs": [],
   "source": [
    "# l1.sort() is not happen because there is the list in the list and same for the str also #"
   ]
  },
  {
   "cell_type": "code",
   "execution_count": 91,
   "id": "0b81e108",
   "metadata": {},
   "outputs": [],
   "source": [
    "# for sorting algorithm data type must be a same #"
   ]
  },
  {
   "cell_type": "code",
   "execution_count": 92,
   "id": "4f1526c6",
   "metadata": {},
   "outputs": [
    {
     "data": {
      "text/plain": [
       "[3, 3, 5, 6, 32, 45, 78]"
      ]
     },
     "execution_count": 92,
     "metadata": {},
     "output_type": "execute_result"
    }
   ],
   "source": [
    "l2"
   ]
  },
  {
   "cell_type": "code",
   "execution_count": 93,
   "id": "a43588a3",
   "metadata": {},
   "outputs": [],
   "source": [
    "# it is permanent operation #"
   ]
  },
  {
   "cell_type": "code",
   "execution_count": 94,
   "id": "7f4cba1f",
   "metadata": {},
   "outputs": [],
   "source": [
    "l3 = [\"data scientist\",\"ganesh\",\"gupta\",\"priyanshi\"]"
   ]
  },
  {
   "cell_type": "code",
   "execution_count": 95,
   "id": "872a8558",
   "metadata": {},
   "outputs": [],
   "source": [
    "l3.sort()"
   ]
  },
  {
   "cell_type": "code",
   "execution_count": 96,
   "id": "5549890d",
   "metadata": {},
   "outputs": [
    {
     "data": {
      "text/plain": [
       "['data scientist', 'ganesh', 'gupta', 'priyanshi']"
      ]
     },
     "execution_count": 96,
     "metadata": {},
     "output_type": "execute_result"
    }
   ],
   "source": [
    "l3"
   ]
  },
  {
   "cell_type": "code",
   "execution_count": 97,
   "id": "bd54dfeb",
   "metadata": {},
   "outputs": [],
   "source": [
    "# for sorting in the descending order #"
   ]
  },
  {
   "cell_type": "code",
   "execution_count": 98,
   "id": "c6f7d0af",
   "metadata": {},
   "outputs": [],
   "source": [
    "l3.sort(reverse=True)"
   ]
  },
  {
   "cell_type": "code",
   "execution_count": 99,
   "id": "f6a2b879",
   "metadata": {},
   "outputs": [
    {
     "data": {
      "text/plain": [
       "['priyanshi', 'gupta', 'ganesh', 'data scientist']"
      ]
     },
     "execution_count": 99,
     "metadata": {},
     "output_type": "execute_result"
    }
   ],
   "source": [
    "l3 \n",
    "# it can be done permanently #"
   ]
  },
  {
   "cell_type": "code",
   "execution_count": 100,
   "id": "9d56ab27",
   "metadata": {},
   "outputs": [
    {
     "data": {
      "text/plain": [
       "['priyanshi', 'gupta', 'ganesh', 'data scientist']"
      ]
     },
     "execution_count": 100,
     "metadata": {},
     "output_type": "execute_result"
    }
   ],
   "source": [
    "l3"
   ]
  },
  {
   "cell_type": "code",
   "execution_count": 101,
   "id": "e46463bc",
   "metadata": {},
   "outputs": [],
   "source": [
    "# index operation #"
   ]
  },
  {
   "cell_type": "code",
   "execution_count": 102,
   "id": "85a444d1",
   "metadata": {},
   "outputs": [
    {
     "data": {
      "text/plain": [
       "3"
      ]
     },
     "execution_count": 102,
     "metadata": {},
     "output_type": "execute_result"
    }
   ],
   "source": [
    "l3.index(\"data scientist\")"
   ]
  },
  {
   "cell_type": "code",
   "execution_count": 103,
   "id": "1b2e0931",
   "metadata": {},
   "outputs": [],
   "source": [
    "# basically it defined th index position of the data #"
   ]
  },
  {
   "cell_type": "code",
   "execution_count": 104,
   "id": "d76e7b97",
   "metadata": {},
   "outputs": [
    {
     "data": {
      "text/plain": [
       "1"
      ]
     },
     "execution_count": 104,
     "metadata": {},
     "output_type": "execute_result"
    }
   ],
   "source": [
    "l3.count(\"ganesh\")"
   ]
  },
  {
   "cell_type": "code",
   "execution_count": 105,
   "id": "02f14cdb",
   "metadata": {},
   "outputs": [
    {
     "data": {
      "text/plain": [
       "0"
      ]
     },
     "execution_count": 105,
     "metadata": {},
     "output_type": "execute_result"
    }
   ],
   "source": [
    "l3.count(\"a\")"
   ]
  },
  {
   "cell_type": "code",
   "execution_count": 106,
   "id": "84ac3162",
   "metadata": {},
   "outputs": [],
   "source": [
    "# count basically tell the total number of occurence in the list #"
   ]
  },
  {
   "cell_type": "code",
   "execution_count": 107,
   "id": "20adc897",
   "metadata": {},
   "outputs": [],
   "source": [
    "g = \"Priyanshi\"\n",
    "# let suppose #"
   ]
  },
  {
   "cell_type": "code",
   "execution_count": 108,
   "id": "5a222937",
   "metadata": {},
   "outputs": [],
   "source": [
    "l4 =[5,3,2,4,1]"
   ]
  },
  {
   "cell_type": "code",
   "execution_count": 109,
   "id": "cf7b7ab0",
   "metadata": {},
   "outputs": [],
   "source": [
    "# g[1]=\"a\" str item doesn't support item assignment "
   ]
  },
  {
   "cell_type": "code",
   "execution_count": 110,
   "id": "3bf13979",
   "metadata": {},
   "outputs": [],
   "source": [
    "l4[0] = \"a\""
   ]
  },
  {
   "cell_type": "code",
   "execution_count": 111,
   "id": "781fcead",
   "metadata": {},
   "outputs": [
    {
     "data": {
      "text/plain": [
       "['a', 3, 2, 4, 1]"
      ]
     },
     "execution_count": 111,
     "metadata": {},
     "output_type": "execute_result"
    }
   ],
   "source": [
    "l4"
   ]
  },
  {
   "cell_type": "code",
   "execution_count": 112,
   "id": "60b87173",
   "metadata": {},
   "outputs": [],
   "source": [
    "# mutability : it means the position or the index of acharacter changed "
   ]
  },
  {
   "cell_type": "code",
   "execution_count": 113,
   "id": "fe352e8b",
   "metadata": {},
   "outputs": [],
   "source": [
    "# strings is imutable and list is a mutable object the changes occur which is permanent changes "
   ]
  },
  {
   "cell_type": "code",
   "execution_count": 114,
   "id": "e8309cc5",
   "metadata": {},
   "outputs": [
    {
     "data": {
      "text/plain": [
       "'Paiyanshi'"
      ]
     },
     "execution_count": 114,
     "metadata": {},
     "output_type": "execute_result"
    }
   ],
   "source": [
    "g.replace('r','a')\n",
    "# generating a pure new object bcoz it is notchanged permanently "
   ]
  },
  {
   "cell_type": "code",
   "execution_count": 115,
   "id": "a00da4ee",
   "metadata": {},
   "outputs": [
    {
     "data": {
      "text/plain": [
       "'Priyanshi'"
      ]
     },
     "execution_count": 115,
     "metadata": {},
     "output_type": "execute_result"
    }
   ],
   "source": [
    "g"
   ]
  },
  {
   "cell_type": "markdown",
   "id": "449b06c2",
   "metadata": {},
   "source": [
    "# tuples #"
   ]
  },
  {
   "cell_type": "code",
   "execution_count": 116,
   "id": "285c5fc4",
   "metadata": {},
   "outputs": [],
   "source": [
    "t =(3,56,5.7,5+7j,\"gap\",True)\n",
    "# tuple require normal bracket for storing data and it is a collection like list to store data #"
   ]
  },
  {
   "cell_type": "code",
   "execution_count": 117,
   "id": "f5434705",
   "metadata": {},
   "outputs": [
    {
     "data": {
      "text/plain": [
       "(3, 56, 5.7, (5+7j), 'gap', True)"
      ]
     },
     "execution_count": 117,
     "metadata": {},
     "output_type": "execute_result"
    }
   ],
   "source": [
    "t"
   ]
  },
  {
   "cell_type": "code",
   "execution_count": 118,
   "id": "775bdd37",
   "metadata": {},
   "outputs": [
    {
     "data": {
      "text/plain": [
       "tuple"
      ]
     },
     "execution_count": 118,
     "metadata": {},
     "output_type": "execute_result"
    }
   ],
   "source": [
    "type(t)"
   ]
  },
  {
   "cell_type": "code",
   "execution_count": 119,
   "id": "db37db0e",
   "metadata": {},
   "outputs": [
    {
     "data": {
      "text/plain": [
       "6"
      ]
     },
     "execution_count": 119,
     "metadata": {},
     "output_type": "execute_result"
    }
   ],
   "source": [
    "len(t)"
   ]
  },
  {
   "cell_type": "code",
   "execution_count": 120,
   "id": "f49672a2",
   "metadata": {},
   "outputs": [
    {
     "data": {
      "text/plain": [
       "1"
      ]
     },
     "execution_count": 120,
     "metadata": {},
     "output_type": "execute_result"
    }
   ],
   "source": [
    "t.count(56)"
   ]
  },
  {
   "cell_type": "code",
   "execution_count": 121,
   "id": "9edc8952",
   "metadata": {},
   "outputs": [
    {
     "data": {
      "text/plain": [
       "True"
      ]
     },
     "execution_count": 121,
     "metadata": {},
     "output_type": "execute_result"
    }
   ],
   "source": [
    "t[-1]"
   ]
  },
  {
   "cell_type": "code",
   "execution_count": 122,
   "id": "03beac99",
   "metadata": {},
   "outputs": [
    {
     "data": {
      "text/plain": [
       "(True, 'gap', (5+7j), 5.7, 56, 3)"
      ]
     },
     "execution_count": 122,
     "metadata": {},
     "output_type": "execute_result"
    }
   ],
   "source": [
    "t[::-1]"
   ]
  },
  {
   "cell_type": "code",
   "execution_count": 123,
   "id": "d1be49d9",
   "metadata": {},
   "outputs": [
    {
     "data": {
      "text/plain": [
       "(5+7j)"
      ]
     },
     "execution_count": 123,
     "metadata": {},
     "output_type": "execute_result"
    }
   ],
   "source": [
    "t[3]"
   ]
  },
  {
   "cell_type": "code",
   "execution_count": 124,
   "id": "7fed3ce1",
   "metadata": {},
   "outputs": [],
   "source": [
    "# its work like a list then why used tuples ?\n",
    "# tuples is immutable while list is a mutable object"
   ]
  },
  {
   "cell_type": "code",
   "execution_count": 125,
   "id": "988d3ce4",
   "metadata": {},
   "outputs": [
    {
     "data": {
      "text/plain": [
       "['a', 3, 2, 4, 1]"
      ]
     },
     "execution_count": 125,
     "metadata": {},
     "output_type": "execute_result"
    }
   ],
   "source": [
    "l4"
   ]
  },
  {
   "cell_type": "code",
   "execution_count": 126,
   "id": "c8d120ea",
   "metadata": {},
   "outputs": [],
   "source": [
    "l4[0]=56 \n",
    "# replace 'a' with 56 int"
   ]
  },
  {
   "cell_type": "code",
   "execution_count": 127,
   "id": "a974eb17",
   "metadata": {},
   "outputs": [
    {
     "data": {
      "text/plain": [
       "[56, 3, 2, 4, 1]"
      ]
     },
     "execution_count": 127,
     "metadata": {},
     "output_type": "execute_result"
    }
   ],
   "source": [
    "l4"
   ]
  },
  {
   "cell_type": "code",
   "execution_count": 128,
   "id": "090b3888",
   "metadata": {},
   "outputs": [
    {
     "data": {
      "text/plain": [
       "['priyanshi', 'gupta', 'ganesh', 'data scientist']"
      ]
     },
     "execution_count": 128,
     "metadata": {},
     "output_type": "execute_result"
    }
   ],
   "source": [
    "# example 2 : \n",
    "l3"
   ]
  },
  {
   "cell_type": "code",
   "execution_count": 129,
   "id": "e4cd45f9",
   "metadata": {},
   "outputs": [],
   "source": [
    "l3[0]=45"
   ]
  },
  {
   "cell_type": "code",
   "execution_count": 130,
   "id": "6d3522fa",
   "metadata": {
    "scrolled": true
   },
   "outputs": [
    {
     "data": {
      "text/plain": [
       "[45, 'gupta', 'ganesh', 'data scientist']"
      ]
     },
     "execution_count": 130,
     "metadata": {},
     "output_type": "execute_result"
    }
   ],
   "source": [
    "l3"
   ]
  },
  {
   "cell_type": "code",
   "execution_count": 131,
   "id": "fd43ceee",
   "metadata": {},
   "outputs": [],
   "source": [
    "# t[0]=\"go\" its give error bcoz tuples are immutable "
   ]
  },
  {
   "cell_type": "code",
   "execution_count": 132,
   "id": "ea5b2fe8",
   "metadata": {},
   "outputs": [],
   "source": [
    "# tuples is used when there is no any changes occur for example our password #"
   ]
  },
  {
   "cell_type": "code",
   "execution_count": 133,
   "id": "d44bc087",
   "metadata": {},
   "outputs": [],
   "source": [
    "# for example hame google account banana hai then we can create and the data is stored behind the signing up page so there is no any other person can change the password while login #"
   ]
  },
  {
   "cell_type": "code",
   "execution_count": 134,
   "id": "cd08d5cb",
   "metadata": {},
   "outputs": [],
   "source": [
    "# list is similar to tuples only one difference that is muatability concept #"
   ]
  },
  {
   "cell_type": "code",
   "execution_count": 135,
   "id": "1df2ea80",
   "metadata": {},
   "outputs": [
    {
     "data": {
      "text/plain": [
       "4"
      ]
     },
     "execution_count": 135,
     "metadata": {},
     "output_type": "execute_result"
    }
   ],
   "source": [
    "t.index(\"gap\")"
   ]
  },
  {
   "cell_type": "code",
   "execution_count": 136,
   "id": "23fc350e",
   "metadata": {},
   "outputs": [
    {
     "data": {
      "text/plain": [
       "(3, 56, 5.7, (5+7j), 'gap', True)"
      ]
     },
     "execution_count": 136,
     "metadata": {},
     "output_type": "execute_result"
    }
   ],
   "source": [
    "t"
   ]
  },
  {
   "cell_type": "code",
   "execution_count": 137,
   "id": "e3f67402",
   "metadata": {},
   "outputs": [
    {
     "data": {
      "text/plain": [
       "5"
      ]
     },
     "execution_count": 137,
     "metadata": {},
     "output_type": "execute_result"
    }
   ],
   "source": [
    "t.index(True)"
   ]
  },
  {
   "cell_type": "markdown",
   "id": "07df0e5e",
   "metadata": {},
   "source": [
    "SET"
   ]
  },
  {
   "cell_type": "code",
   "execution_count": 138,
   "id": "e558fb14",
   "metadata": {},
   "outputs": [],
   "source": [
    "# we used curly braceses for set # set is called as dictionaries #"
   ]
  },
  {
   "cell_type": "code",
   "execution_count": 139,
   "id": "874220c8",
   "metadata": {},
   "outputs": [],
   "source": [
    "s1={}"
   ]
  },
  {
   "cell_type": "code",
   "execution_count": 140,
   "id": "c72c79f4",
   "metadata": {},
   "outputs": [
    {
     "data": {
      "text/plain": [
       "dict"
      ]
     },
     "execution_count": 140,
     "metadata": {},
     "output_type": "execute_result"
    }
   ],
   "source": [
    "type(s1)"
   ]
  },
  {
   "cell_type": "code",
   "execution_count": 141,
   "id": "95933deb",
   "metadata": {},
   "outputs": [],
   "source": [
    "s2={3,5,\"gag\"}"
   ]
  },
  {
   "cell_type": "code",
   "execution_count": 142,
   "id": "a45edb9f",
   "metadata": {},
   "outputs": [
    {
     "data": {
      "text/plain": [
       "{3, 5, 'gag'}"
      ]
     },
     "execution_count": 142,
     "metadata": {},
     "output_type": "execute_result"
    }
   ],
   "source": [
    "s2"
   ]
  },
  {
   "cell_type": "code",
   "execution_count": 143,
   "id": "a96bc06e",
   "metadata": {},
   "outputs": [
    {
     "data": {
      "text/plain": [
       "set"
      ]
     },
     "execution_count": 143,
     "metadata": {},
     "output_type": "execute_result"
    }
   ],
   "source": [
    "type(s2)"
   ]
  },
  {
   "cell_type": "code",
   "execution_count": 144,
   "id": "87ae6190",
   "metadata": {},
   "outputs": [],
   "source": [
    "# list cannot we store in the set  while we store tuple it gets in ."
   ]
  },
  {
   "cell_type": "code",
   "execution_count": 145,
   "id": "3a66fcab",
   "metadata": {},
   "outputs": [],
   "source": [
    "# bcoz tuples is immutable it only takes mutable dataset"
   ]
  },
  {
   "cell_type": "code",
   "execution_count": 146,
   "id": "22b74fa9",
   "metadata": {},
   "outputs": [],
   "source": [
    "# for example #\n",
    "s3 = {4,5,12,4.6,\"gag\",\"gg\",(4,5,6,7)}"
   ]
  },
  {
   "cell_type": "code",
   "execution_count": 147,
   "id": "4be5b194",
   "metadata": {},
   "outputs": [
    {
     "data": {
      "text/plain": [
       "{(4, 5, 6, 7), 12, 4, 4.6, 5, 'gag', 'gg'}"
      ]
     },
     "execution_count": 147,
     "metadata": {},
     "output_type": "execute_result"
    }
   ],
   "source": [
    "s3"
   ]
  },
  {
   "cell_type": "code",
   "execution_count": 148,
   "id": "74ff4659",
   "metadata": {},
   "outputs": [],
   "source": [
    "# set is used for removing the duplicates and it cannot arranged the dataset  # # below example .."
   ]
  },
  {
   "cell_type": "code",
   "execution_count": 149,
   "id": "35904702",
   "metadata": {},
   "outputs": [],
   "source": [
    "s4 = {3,3,3,3,2,2,2,4,6,67,23,4554.7,6,3,9,0,12,45,766,43,445,322,5455,545.55,344,\"gg\",\"gg\"}"
   ]
  },
  {
   "cell_type": "code",
   "execution_count": 150,
   "id": "d5f70d4e",
   "metadata": {},
   "outputs": [
    {
     "data": {
      "text/plain": [
       "{0,\n",
       " 12,\n",
       " 2,\n",
       " 23,\n",
       " 3,\n",
       " 322,\n",
       " 344,\n",
       " 4,\n",
       " 43,\n",
       " 445,\n",
       " 45,\n",
       " 4554.7,\n",
       " 545.55,\n",
       " 5455,\n",
       " 6,\n",
       " 67,\n",
       " 766,\n",
       " 9,\n",
       " 'gg'}"
      ]
     },
     "execution_count": 150,
     "metadata": {},
     "output_type": "execute_result"
    }
   ],
   "source": [
    "s4"
   ]
  },
  {
   "cell_type": "code",
   "execution_count": 151,
   "id": "063e4199",
   "metadata": {},
   "outputs": [],
   "source": [
    "l6 = [3,3,3,3,2,2,2,4,6,67,23,4554.7,6,3,9,0,12,45,766,43,445,322,5455,545.55,344,\"gg\",\"gg\"] "
   ]
  },
  {
   "cell_type": "code",
   "execution_count": 152,
   "id": "3527128e",
   "metadata": {},
   "outputs": [
    {
     "data": {
      "text/plain": [
       "[3,\n",
       " 3,\n",
       " 3,\n",
       " 3,\n",
       " 2,\n",
       " 2,\n",
       " 2,\n",
       " 4,\n",
       " 6,\n",
       " 67,\n",
       " 23,\n",
       " 4554.7,\n",
       " 6,\n",
       " 3,\n",
       " 9,\n",
       " 0,\n",
       " 12,\n",
       " 45,\n",
       " 766,\n",
       " 43,\n",
       " 445,\n",
       " 322,\n",
       " 5455,\n",
       " 545.55,\n",
       " 344,\n",
       " 'gg',\n",
       " 'gg']"
      ]
     },
     "execution_count": 152,
     "metadata": {},
     "output_type": "execute_result"
    }
   ],
   "source": [
    "l6"
   ]
  },
  {
   "cell_type": "code",
   "execution_count": 153,
   "id": "d6fef3e0",
   "metadata": {},
   "outputs": [],
   "source": [
    "l6 = (set(l6))"
   ]
  },
  {
   "cell_type": "code",
   "execution_count": 154,
   "id": "4ff8230c",
   "metadata": {},
   "outputs": [
    {
     "data": {
      "text/plain": [
       "{0,\n",
       " 12,\n",
       " 2,\n",
       " 23,\n",
       " 3,\n",
       " 322,\n",
       " 344,\n",
       " 4,\n",
       " 43,\n",
       " 445,\n",
       " 45,\n",
       " 4554.7,\n",
       " 545.55,\n",
       " 5455,\n",
       " 6,\n",
       " 67,\n",
       " 766,\n",
       " 9,\n",
       " 'gg'}"
      ]
     },
     "execution_count": 154,
     "metadata": {},
     "output_type": "execute_result"
    }
   ],
   "source": [
    "l6"
   ]
  },
  {
   "cell_type": "code",
   "execution_count": 155,
   "id": "a9afbbe1",
   "metadata": {},
   "outputs": [],
   "source": [
    "l6 = list((set(l6)))"
   ]
  },
  {
   "cell_type": "code",
   "execution_count": 156,
   "id": "b6f69113",
   "metadata": {},
   "outputs": [
    {
     "data": {
      "text/plain": [
       "[0,\n",
       " 2,\n",
       " 3,\n",
       " 4,\n",
       " 322,\n",
       " 6,\n",
       " 67,\n",
       " 9,\n",
       " 4554.7,\n",
       " 12,\n",
       " 5455,\n",
       " 23,\n",
       " 344,\n",
       " 545.55,\n",
       " 43,\n",
       " 45,\n",
       " 'gg',\n",
       " 445,\n",
       " 766]"
      ]
     },
     "execution_count": 156,
     "metadata": {},
     "output_type": "execute_result"
    }
   ],
   "source": [
    "l6"
   ]
  },
  {
   "cell_type": "code",
   "execution_count": 157,
   "id": "2dbee007",
   "metadata": {},
   "outputs": [],
   "source": [
    "s3= {4,55,56,23,5656,567,23,89,12,\"gr\",434,45,23,34}"
   ]
  },
  {
   "cell_type": "code",
   "execution_count": 158,
   "id": "be2fcc9e",
   "metadata": {},
   "outputs": [
    {
     "data": {
      "text/plain": [
       "{12, 23, 34, 4, 434, 45, 55, 56, 5656, 567, 89, 'gr'}"
      ]
     },
     "execution_count": 158,
     "metadata": {},
     "output_type": "execute_result"
    }
   ],
   "source": [
    "s3"
   ]
  },
  {
   "cell_type": "code",
   "execution_count": 159,
   "id": "fea678af",
   "metadata": {},
   "outputs": [],
   "source": [
    "# s5[0] it is not subsriptable "
   ]
  },
  {
   "cell_type": "code",
   "execution_count": 160,
   "id": "c5edca25",
   "metadata": {},
   "outputs": [],
   "source": [
    "# set does not allows slicingand indexing #"
   ]
  },
  {
   "cell_type": "code",
   "execution_count": 161,
   "id": "d7f95caf",
   "metadata": {},
   "outputs": [],
   "source": [
    "s3.add(4)"
   ]
  },
  {
   "cell_type": "code",
   "execution_count": 162,
   "id": "653a6156",
   "metadata": {},
   "outputs": [
    {
     "data": {
      "text/plain": [
       "{12, 23, 34, 4, 434, 45, 55, 56, 5656, 567, 89, 'gr'}"
      ]
     },
     "execution_count": 162,
     "metadata": {},
     "output_type": "execute_result"
    }
   ],
   "source": [
    "s3"
   ]
  },
  {
   "cell_type": "code",
   "execution_count": 163,
   "id": "b1205204",
   "metadata": {},
   "outputs": [],
   "source": [
    "s3.remove(23)"
   ]
  },
  {
   "cell_type": "code",
   "execution_count": 164,
   "id": "1b1e1e47",
   "metadata": {},
   "outputs": [
    {
     "data": {
      "text/plain": [
       "{12, 34, 4, 434, 45, 55, 56, 5656, 567, 89, 'gr'}"
      ]
     },
     "execution_count": 164,
     "metadata": {},
     "output_type": "execute_result"
    }
   ],
   "source": [
    "s3"
   ]
  },
  {
   "cell_type": "code",
   "execution_count": 165,
   "id": "67ae7218",
   "metadata": {},
   "outputs": [],
   "source": [
    "# hashing is different and indexing is different ...Hashing  = element ko unique rakhne ke liye woh ek key genrate karta hai #  "
   ]
  },
  {
   "cell_type": "code",
   "execution_count": 166,
   "id": "d32f22c0",
   "metadata": {},
   "outputs": [],
   "source": [
    "# we does not add and remove in the position in case of set  #"
   ]
  },
  {
   "cell_type": "code",
   "execution_count": 167,
   "id": "19aa25a0",
   "metadata": {},
   "outputs": [
    {
     "data": {
      "text/plain": [
       "[56, 3, 2, 4, 1]"
      ]
     },
     "execution_count": 167,
     "metadata": {},
     "output_type": "execute_result"
    }
   ],
   "source": [
    "l4"
   ]
  },
  {
   "cell_type": "code",
   "execution_count": 168,
   "id": "735cf5d8",
   "metadata": {},
   "outputs": [
    {
     "data": {
      "text/plain": [
       "[45, 'gupta', 'ganesh', 'data scientist']"
      ]
     },
     "execution_count": 168,
     "metadata": {},
     "output_type": "execute_result"
    }
   ],
   "source": [
    "l3"
   ]
  },
  {
   "cell_type": "code",
   "execution_count": 169,
   "id": "dcdd2e76",
   "metadata": {},
   "outputs": [
    {
     "data": {
      "text/plain": [
       "[45, 'gupta', 'ganesh', 'data scientist', 56, 3, 2, 4, 1]"
      ]
     },
     "execution_count": 169,
     "metadata": {},
     "output_type": "execute_result"
    }
   ],
   "source": [
    "l3+l4\n",
    "# Addition operation occur #"
   ]
  },
  {
   "cell_type": "code",
   "execution_count": 170,
   "id": "3e64e9d3",
   "metadata": {},
   "outputs": [],
   "source": [
    "l4.append(l3)"
   ]
  },
  {
   "cell_type": "code",
   "execution_count": 171,
   "id": "9ded4c88",
   "metadata": {},
   "outputs": [
    {
     "data": {
      "text/plain": [
       "[56, 3, 2, 4, 1, [45, 'gupta', 'ganesh', 'data scientist']]"
      ]
     },
     "execution_count": 171,
     "metadata": {},
     "output_type": "execute_result"
    }
   ],
   "source": [
    "l4"
   ]
  },
  {
   "cell_type": "code",
   "execution_count": 172,
   "id": "eb2bc018",
   "metadata": {},
   "outputs": [
    {
     "data": {
      "text/plain": [
       "[45, 'gupta', 'ganesh', 'data scientist']"
      ]
     },
     "execution_count": 172,
     "metadata": {},
     "output_type": "execute_result"
    }
   ],
   "source": [
    "l4[5]"
   ]
  },
  {
   "cell_type": "code",
   "execution_count": 173,
   "id": "19ef060f",
   "metadata": {},
   "outputs": [
    {
     "data": {
      "text/plain": [
       "'ganesh'"
      ]
     },
     "execution_count": 173,
     "metadata": {},
     "output_type": "execute_result"
    }
   ],
   "source": [
    "l4[5][2]"
   ]
  },
  {
   "cell_type": "code",
   "execution_count": null,
   "id": "766c6596",
   "metadata": {},
   "outputs": [],
   "source": []
  },
  {
   "cell_type": "code",
   "execution_count": null,
   "id": "de462832",
   "metadata": {},
   "outputs": [],
   "source": []
  },
  {
   "cell_type": "code",
   "execution_count": null,
   "id": "c5f5f561",
   "metadata": {},
   "outputs": [],
   "source": []
  },
  {
   "cell_type": "code",
   "execution_count": null,
   "id": "202cfc5b",
   "metadata": {},
   "outputs": [],
   "source": []
  },
  {
   "cell_type": "code",
   "execution_count": null,
   "id": "cef479e4",
   "metadata": {},
   "outputs": [],
   "source": []
  },
  {
   "cell_type": "code",
   "execution_count": null,
   "id": "a7078330",
   "metadata": {},
   "outputs": [],
   "source": []
  }
 ],
 "metadata": {
  "kernelspec": {
   "display_name": "Python 3 (ipykernel)",
   "language": "python",
   "name": "python3"
  },
  "language_info": {
   "codemirror_mode": {
    "name": "ipython",
    "version": 3
   },
   "file_extension": ".py",
   "mimetype": "text/x-python",
   "name": "python",
   "nbconvert_exporter": "python",
   "pygments_lexer": "ipython3",
   "version": "3.9.13"
  }
 },
 "nbformat": 4,
 "nbformat_minor": 5
}
