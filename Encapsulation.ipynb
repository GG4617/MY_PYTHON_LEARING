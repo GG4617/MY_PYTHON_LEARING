{
 "cells": [
  {
   "cell_type": "code",
   "execution_count": 7,
   "id": "41529cbb",
   "metadata": {},
   "outputs": [],
   "source": [
    "class gg:\n",
    "    def __init__(self,a,b):\n",
    "        self.a =a\n",
    "        self.b =b"
   ]
  },
  {
   "cell_type": "code",
   "execution_count": 8,
   "id": "53b4ecc6",
   "metadata": {},
   "outputs": [],
   "source": [
    "G = gg(4,6)"
   ]
  },
  {
   "cell_type": "code",
   "execution_count": 9,
   "id": "66bcb57f",
   "metadata": {},
   "outputs": [],
   "source": [
    "G.a = 343"
   ]
  },
  {
   "cell_type": "code",
   "execution_count": 10,
   "id": "260f2a24",
   "metadata": {},
   "outputs": [
    {
     "data": {
      "text/plain": [
       "343"
      ]
     },
     "execution_count": 10,
     "metadata": {},
     "output_type": "execute_result"
    }
   ],
   "source": [
    "G.a"
   ]
  },
  {
   "cell_type": "code",
   "execution_count": 11,
   "id": "d0fe0de6",
   "metadata": {},
   "outputs": [],
   "source": [
    "# class ke andar ka composite user ko na dikhe is liye encapsulation used kiya jata hai #"
   ]
  },
  {
   "cell_type": "code",
   "execution_count": 44,
   "id": "031f1c5c",
   "metadata": {},
   "outputs": [],
   "source": [
    "class car:\n",
    "    def __init__(self,year,model,speed):\n",
    "        self.__year  = year\n",
    "        self.__model = model\n",
    "        self.__speed = 0\n",
    "    def set_speed(self,speed):\n",
    "        self.__speed = 0 if speed <0 else speed\n",
    "    def get_speed(self):\n",
    "        return self.__speed"
   ]
  },
  {
   "cell_type": "code",
   "execution_count": 45,
   "id": "aebbbf32",
   "metadata": {},
   "outputs": [],
   "source": [
    "# create a object of a car # \n",
    "# we hide the year ,model and speed therefore it cannot shoe the object #"
   ]
  },
  {
   "cell_type": "code",
   "execution_count": 46,
   "id": "2f2f4015",
   "metadata": {},
   "outputs": [],
   "source": [
    "c = car(2024,\"Mercedes\",80)"
   ]
  },
  {
   "cell_type": "code",
   "execution_count": 47,
   "id": "a47483ea",
   "metadata": {},
   "outputs": [
    {
     "data": {
      "text/plain": [
       "2024"
      ]
     },
     "execution_count": 47,
     "metadata": {},
     "output_type": "execute_result"
    }
   ],
   "source": [
    "c._car__year"
   ]
  },
  {
   "cell_type": "code",
   "execution_count": 48,
   "id": "43ea2fe7",
   "metadata": {},
   "outputs": [],
   "source": [
    "# see above #\n",
    "# for defining underscore_classname__object #"
   ]
  },
  {
   "cell_type": "code",
   "execution_count": 49,
   "id": "03bce62f",
   "metadata": {},
   "outputs": [
    {
     "data": {
      "text/plain": [
       "'Mercedes'"
      ]
     },
     "execution_count": 49,
     "metadata": {},
     "output_type": "execute_result"
    }
   ],
   "source": [
    "c._car__model"
   ]
  },
  {
   "cell_type": "code",
   "execution_count": 50,
   "id": "a3e4e5ba",
   "metadata": {},
   "outputs": [],
   "source": [
    "# in general user ko pata bhi nahi chalega .........ham method banake de rahe hai value ko set karo ya fir get karo #"
   ]
  },
  {
   "cell_type": "code",
   "execution_count": 51,
   "id": "9f22cb2a",
   "metadata": {},
   "outputs": [],
   "source": [
    "c.set_speed(-343)"
   ]
  },
  {
   "cell_type": "code",
   "execution_count": 52,
   "id": "d73998d2",
   "metadata": {},
   "outputs": [
    {
     "data": {
      "text/plain": [
       "0"
      ]
     },
     "execution_count": 52,
     "metadata": {},
     "output_type": "execute_result"
    }
   ],
   "source": [
    "c.get_speed()"
   ]
  },
  {
   "cell_type": "code",
   "execution_count": 55,
   "id": "185bf9ab",
   "metadata": {},
   "outputs": [],
   "source": [
    "c.set_speed(3435)"
   ]
  },
  {
   "cell_type": "code",
   "execution_count": 56,
   "id": "155eff12",
   "metadata": {},
   "outputs": [
    {
     "data": {
      "text/plain": [
       "3435"
      ]
     },
     "execution_count": 56,
     "metadata": {},
     "output_type": "execute_result"
    }
   ],
   "source": [
    "c.get_speed()"
   ]
  },
  {
   "cell_type": "code",
   "execution_count": 73,
   "id": "26ad8bbf",
   "metadata": {},
   "outputs": [],
   "source": [
    "# example of bank_transaction #"
   ]
  },
  {
   "cell_type": "code",
   "execution_count": 74,
   "id": "d0d0ae11",
   "metadata": {},
   "outputs": [],
   "source": [
    "class bank_account:\n",
    "    def __init__(self,Balance):\n",
    "        self.__Balance = Balance\n",
    "        \n",
    "    def deposit(self,amount):\n",
    "        self.__Balance = self.__Balance + amount\n",
    "        \n",
    "    def withdraw(self,amount):\n",
    "        if self.__Balance >=amount:\n",
    "            self.__Balance = self.__Balance - amount\n",
    "            return True \n",
    "        else: \n",
    "            return False\n",
    "        \n",
    "    def get_Balance(self):\n",
    "        return self.__Balance"
   ]
  },
  {
   "cell_type": "code",
   "execution_count": 75,
   "id": "3c3b6304",
   "metadata": {},
   "outputs": [],
   "source": [
    "# create a object #"
   ]
  },
  {
   "cell_type": "code",
   "execution_count": 76,
   "id": "2d994b06",
   "metadata": {},
   "outputs": [],
   "source": [
    "Ganesh = bank_account(2000)"
   ]
  },
  {
   "cell_type": "code",
   "execution_count": 77,
   "id": "a94383d2",
   "metadata": {},
   "outputs": [
    {
     "data": {
      "text/plain": [
       "2000"
      ]
     },
     "execution_count": 77,
     "metadata": {},
     "output_type": "execute_result"
    }
   ],
   "source": [
    "Ganesh.get_Balance()"
   ]
  },
  {
   "cell_type": "code",
   "execution_count": 78,
   "id": "db1da487",
   "metadata": {},
   "outputs": [],
   "source": [
    "Ganesh.deposit(4000)"
   ]
  },
  {
   "cell_type": "code",
   "execution_count": 79,
   "id": "d5733f16",
   "metadata": {},
   "outputs": [
    {
     "data": {
      "text/plain": [
       "6000"
      ]
     },
     "execution_count": 79,
     "metadata": {},
     "output_type": "execute_result"
    }
   ],
   "source": [
    "Ganesh.get_Balance()"
   ]
  },
  {
   "cell_type": "code",
   "execution_count": 80,
   "id": "f4f4782a",
   "metadata": {},
   "outputs": [],
   "source": [
    "Ganesh.deposit(5665)"
   ]
  },
  {
   "cell_type": "code",
   "execution_count": 81,
   "id": "f985d199",
   "metadata": {},
   "outputs": [
    {
     "data": {
      "text/plain": [
       "11665"
      ]
     },
     "execution_count": 81,
     "metadata": {},
     "output_type": "execute_result"
    }
   ],
   "source": [
    "Ganesh.get_Balance()"
   ]
  },
  {
   "cell_type": "code",
   "execution_count": 82,
   "id": "4ed9f01d",
   "metadata": {},
   "outputs": [
    {
     "data": {
      "text/plain": [
       "False"
      ]
     },
     "execution_count": 82,
     "metadata": {},
     "output_type": "execute_result"
    }
   ],
   "source": [
    "Ganesh.withdraw(54338)"
   ]
  },
  {
   "cell_type": "code",
   "execution_count": 83,
   "id": "48157b33",
   "metadata": {},
   "outputs": [
    {
     "data": {
      "text/plain": [
       "True"
      ]
     },
     "execution_count": 83,
     "metadata": {},
     "output_type": "execute_result"
    }
   ],
   "source": [
    "Ganesh.withdraw(4566)"
   ]
  },
  {
   "cell_type": "code",
   "execution_count": 72,
   "id": "74308e99",
   "metadata": {},
   "outputs": [
    {
     "data": {
      "text/plain": [
       "1666"
      ]
     },
     "execution_count": 72,
     "metadata": {},
     "output_type": "execute_result"
    }
   ],
   "source": [
    "Ganesh.get_Balance()"
   ]
  },
  {
   "cell_type": "code",
   "execution_count": null,
   "id": "d1a7bba6",
   "metadata": {},
   "outputs": [],
   "source": []
  }
 ],
 "metadata": {
  "kernelspec": {
   "display_name": "Python 3 (ipykernel)",
   "language": "python",
   "name": "python3"
  },
  "language_info": {
   "codemirror_mode": {
    "name": "ipython",
    "version": 3
   },
   "file_extension": ".py",
   "mimetype": "text/x-python",
   "name": "python",
   "nbconvert_exporter": "python",
   "pygments_lexer": "ipython3",
   "version": "3.11.5"
  }
 },
 "nbformat": 4,
 "nbformat_minor": 5
}
