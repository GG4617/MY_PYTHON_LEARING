{
 "cells": [
  {
   "cell_type": "markdown",
   "id": "99f08225",
   "metadata": {},
   "source": [
    "# INHERITANCE"
   ]
  },
  {
   "cell_type": "code",
   "execution_count": 1,
   "id": "81022462",
   "metadata": {},
   "outputs": [],
   "source": [
    "class rx:\n",
    "    def gx_meth(self):\n",
    "        return \"This is my first class\""
   ]
  },
  {
   "cell_type": "code",
   "execution_count": 5,
   "id": "7244054c",
   "metadata": {},
   "outputs": [],
   "source": [
    "class child_rx(rx):\n",
    "    pass\n",
    "# called the class_rx #"
   ]
  },
  {
   "cell_type": "code",
   "execution_count": 6,
   "id": "0b7ae202",
   "metadata": {},
   "outputs": [],
   "source": [
    "child_rx_obj = child_rx()"
   ]
  },
  {
   "cell_type": "code",
   "execution_count": 4,
   "id": "4ab57250",
   "metadata": {},
   "outputs": [
    {
     "data": {
      "text/plain": [
       "'This is my first class'"
      ]
     },
     "execution_count": 4,
     "metadata": {},
     "output_type": "execute_result"
    }
   ],
   "source": [
    "child_rx_obj.gx_meth()"
   ]
  },
  {
   "cell_type": "code",
   "execution_count": 7,
   "id": "4e03c511",
   "metadata": {},
   "outputs": [],
   "source": [
    "# This is called as inheritance #"
   ]
  },
  {
   "cell_type": "code",
   "execution_count": 8,
   "id": "4f253de1",
   "metadata": {},
   "outputs": [],
   "source": [
    "# multiple inheritance and multilevel inheritance #"
   ]
  },
  {
   "cell_type": "code",
   "execution_count": 19,
   "id": "b82a69eb",
   "metadata": {},
   "outputs": [],
   "source": [
    "class gan:\n",
    "    def gg(self):\n",
    "        return \"This is my laptop\""
   ]
  },
  {
   "cell_type": "code",
   "execution_count": 20,
   "id": "c1002e61",
   "metadata": {},
   "outputs": [],
   "source": [
    "class Van_gan(gan):\n",
    "    pass\n",
    "    "
   ]
  },
  {
   "cell_type": "code",
   "execution_count": 22,
   "id": "c8a1aef8",
   "metadata": {},
   "outputs": [],
   "source": [
    "van_gan_obj = Van_gan()"
   ]
  },
  {
   "cell_type": "code",
   "execution_count": 24,
   "id": "73477b15",
   "metadata": {},
   "outputs": [
    {
     "data": {
      "text/plain": [
       "'This is my laptop'"
      ]
     },
     "execution_count": 24,
     "metadata": {},
     "output_type": "execute_result"
    }
   ],
   "source": [
    "van_gan_obj.gg()"
   ]
  },
  {
   "cell_type": "markdown",
   "id": "270233da",
   "metadata": {},
   "source": [
    "# Multilevel inheritance"
   ]
  },
  {
   "cell_type": "code",
   "execution_count": 25,
   "id": "ef29f2a9",
   "metadata": {},
   "outputs": [],
   "source": [
    "class class1:\n",
    "    def test_class1(self):\n",
    "        return \"This is a method from class1\""
   ]
  },
  {
   "cell_type": "code",
   "execution_count": 26,
   "id": "a3ef5348",
   "metadata": {},
   "outputs": [],
   "source": [
    "class class2(class1):\n",
    "    def test_class2(self):\n",
    "        return \"This is a method from class2\""
   ]
  },
  {
   "cell_type": "code",
   "execution_count": 27,
   "id": "c48a05b8",
   "metadata": {},
   "outputs": [],
   "source": [
    "class class3(class2):\n",
    "    pass"
   ]
  },
  {
   "cell_type": "code",
   "execution_count": 29,
   "id": "f8205ea4",
   "metadata": {},
   "outputs": [],
   "source": [
    "# create object of class 3 #"
   ]
  },
  {
   "cell_type": "code",
   "execution_count": 30,
   "id": "0df9d85d",
   "metadata": {},
   "outputs": [],
   "source": [
    "obj_class3 =class3()"
   ]
  },
  {
   "cell_type": "code",
   "execution_count": 35,
   "id": "d784a923",
   "metadata": {},
   "outputs": [
    {
     "data": {
      "text/plain": [
       "'This is a method from class1'"
      ]
     },
     "execution_count": 35,
     "metadata": {},
     "output_type": "execute_result"
    }
   ],
   "source": [
    "obj_class3.test_class1()"
   ]
  },
  {
   "cell_type": "code",
   "execution_count": 36,
   "id": "e6364671",
   "metadata": {},
   "outputs": [
    {
     "data": {
      "text/plain": [
       "'This is a method from class2'"
      ]
     },
     "execution_count": 36,
     "metadata": {},
     "output_type": "execute_result"
    }
   ],
   "source": [
    "obj_class3.test_class2()"
   ]
  },
  {
   "cell_type": "code",
   "execution_count": 38,
   "id": "bdf687e9",
   "metadata": {},
   "outputs": [
    {
     "data": {
      "text/plain": [
       "'This is a method from class1'"
      ]
     },
     "execution_count": 38,
     "metadata": {},
     "output_type": "execute_result"
    }
   ],
   "source": [
    "obj_class3.test_class1()"
   ]
  },
  {
   "cell_type": "markdown",
   "id": "0bcbfda5",
   "metadata": {},
   "source": [
    "# Multiple inheritance "
   ]
  },
  {
   "cell_type": "code",
   "execution_count": 41,
   "id": "ab91feb4",
   "metadata": {},
   "outputs": [],
   "source": [
    "# properties of class1 and class2 will access in class3 is called as multiple inheritance"
   ]
  },
  {
   "cell_type": "code",
   "execution_count": 42,
   "id": "7d6d544e",
   "metadata": {},
   "outputs": [],
   "source": [
    "class class1:\n",
    "    def test_class1(self):\n",
    "        return \"This is class1\""
   ]
  },
  {
   "cell_type": "code",
   "execution_count": 43,
   "id": "abb83377",
   "metadata": {},
   "outputs": [],
   "source": [
    "class class2:\n",
    "    def test_class2(self):\n",
    "        return \"This is class 2\""
   ]
  },
  {
   "cell_type": "code",
   "execution_count": 44,
   "id": "abe3188b",
   "metadata": {},
   "outputs": [],
   "source": [
    "class class3(class1,class2):\n",
    "    pass"
   ]
  },
  {
   "cell_type": "code",
   "execution_count": 46,
   "id": "7c7749b3",
   "metadata": {},
   "outputs": [],
   "source": [
    "obj_class3 = class3()"
   ]
  },
  {
   "cell_type": "code",
   "execution_count": 47,
   "id": "e862e4f5",
   "metadata": {},
   "outputs": [
    {
     "data": {
      "text/plain": [
       "'This is class1'"
      ]
     },
     "execution_count": 47,
     "metadata": {},
     "output_type": "execute_result"
    }
   ],
   "source": [
    "obj_class3.test_class1()"
   ]
  },
  {
   "cell_type": "code",
   "execution_count": 48,
   "id": "ee8c653e",
   "metadata": {},
   "outputs": [
    {
     "data": {
      "text/plain": [
       "'This is class 2'"
      ]
     },
     "execution_count": 48,
     "metadata": {},
     "output_type": "execute_result"
    }
   ],
   "source": [
    "obj_class3.test_class2()"
   ]
  },
  {
   "cell_type": "code",
   "execution_count": null,
   "id": "7dcafd41",
   "metadata": {},
   "outputs": [],
   "source": []
  }
 ],
 "metadata": {
  "kernelspec": {
   "display_name": "Python 3 (ipykernel)",
   "language": "python",
   "name": "python3"
  },
  "language_info": {
   "codemirror_mode": {
    "name": "ipython",
    "version": 3
   },
   "file_extension": ".py",
   "mimetype": "text/x-python",
   "name": "python",
   "nbconvert_exporter": "python",
   "pygments_lexer": "ipython3",
   "version": "3.11.5"
  }
 },
 "nbformat": 4,
 "nbformat_minor": 5
}
