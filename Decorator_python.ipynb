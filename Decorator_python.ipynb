{
 "cells": [
  {
   "cell_type": "code",
   "execution_count": 1,
   "id": "9f08db45",
   "metadata": {},
   "outputs": [],
   "source": [
    "#  contest : we can make a beautiful function using the decorator #"
   ]
  },
  {
   "cell_type": "code",
   "execution_count": 2,
   "id": "5c5789b5",
   "metadata": {},
   "outputs": [],
   "source": [
    "def test():\n",
    "    print(\"This is the start of my function\")\n",
    "    print(\"This is my fun to test\")\n",
    "    print(4*2)\n",
    "    print(\"This is the End of my function\")"
   ]
  },
  {
   "cell_type": "code",
   "execution_count": 3,
   "id": "3b8782a6",
   "metadata": {},
   "outputs": [
    {
     "name": "stdout",
     "output_type": "stream",
     "text": [
      "This is the start of my function\n",
      "This is my fun to test\n",
      "8\n",
      "This is the End of my function\n"
     ]
    }
   ],
   "source": [
    "test()"
   ]
  },
  {
   "cell_type": "code",
   "execution_count": 4,
   "id": "4721477d",
   "metadata": {},
   "outputs": [],
   "source": [
    "# jo bar bar kar rahe hai use ek bar kaise kare bina likhe bhi usse kar sakte hai "
   ]
  },
  {
   "cell_type": "code",
   "execution_count": 5,
   "id": "47455724",
   "metadata": {},
   "outputs": [],
   "source": [
    "def deco(function):\n",
    "    def inner_dec():\n",
    "        print(\"This is the start of my function\")\n",
    "        function()\n",
    "        print(\"This is the End of my function\")\n",
    "    return inner_dec"
   ]
  },
  {
   "cell_type": "code",
   "execution_count": 6,
   "id": "fe35277f",
   "metadata": {},
   "outputs": [],
   "source": [
    "@deco\n",
    "def test1():\n",
    "    print(45+7)"
   ]
  },
  {
   "cell_type": "code",
   "execution_count": 7,
   "id": "65d939c7",
   "metadata": {},
   "outputs": [
    {
     "name": "stdout",
     "output_type": "stream",
     "text": [
      "This is the start of my function\n",
      "52\n",
      "This is the End of my function\n"
     ]
    }
   ],
   "source": [
    "test1()"
   ]
  },
  {
   "cell_type": "code",
   "execution_count": 8,
   "id": "ea093ee7",
   "metadata": {},
   "outputs": [],
   "source": [
    "# time chaiye kitna time laga raha hai ye function use kaise solve karenge #"
   ]
  },
  {
   "cell_type": "code",
   "execution_count": 9,
   "id": "7eefc852",
   "metadata": {},
   "outputs": [],
   "source": [
    "import time\n",
    "def timer_test(func):\n",
    "    def timer_test_inner():\n",
    "        start = time.time()\n",
    "        func()\n",
    "        end = time.time()\n",
    "        print(end-start)\n",
    "    return timer_test_inner\n",
    "# this is external function"
   ]
  },
  {
   "cell_type": "code",
   "execution_count": 10,
   "id": "f2b23d16",
   "metadata": {},
   "outputs": [],
   "source": [
    "def test2():\n",
    "    print(45+57)"
   ]
  },
  {
   "cell_type": "code",
   "execution_count": 11,
   "id": "15b2bd44",
   "metadata": {},
   "outputs": [
    {
     "name": "stdout",
     "output_type": "stream",
     "text": [
      "102\n"
     ]
    }
   ],
   "source": [
    "test2()"
   ]
  },
  {
   "cell_type": "code",
   "execution_count": 12,
   "id": "01c2350e",
   "metadata": {},
   "outputs": [],
   "source": [
    "@timer_test\n",
    "def test2():\n",
    "    print(45+57)"
   ]
  },
  {
   "cell_type": "code",
   "execution_count": 13,
   "id": "0ac53937",
   "metadata": {},
   "outputs": [
    {
     "name": "stdout",
     "output_type": "stream",
     "text": [
      "102\n",
      "0.0\n"
     ]
    }
   ],
   "source": [
    "test2()"
   ]
  },
  {
   "cell_type": "code",
   "execution_count": 14,
   "id": "0c6ab690",
   "metadata": {},
   "outputs": [],
   "source": [
    "@timer_test\n",
    "def test():\n",
    "    for i in range (445643889):\n",
    "        pass\n",
    "    "
   ]
  },
  {
   "cell_type": "code",
   "execution_count": 15,
   "id": "a9bac1b2",
   "metadata": {},
   "outputs": [
    {
     "name": "stdout",
     "output_type": "stream",
     "text": [
      "10.70800495147705\n"
     ]
    }
   ],
   "source": [
    "test()"
   ]
  },
  {
   "cell_type": "code",
   "execution_count": null,
   "id": "fcfd1f98",
   "metadata": {},
   "outputs": [],
   "source": []
  }
 ],
 "metadata": {
  "kernelspec": {
   "display_name": "Python 3 (ipykernel)",
   "language": "python",
   "name": "python3"
  },
  "language_info": {
   "codemirror_mode": {
    "name": "ipython",
    "version": 3
   },
   "file_extension": ".py",
   "mimetype": "text/x-python",
   "name": "python",
   "nbconvert_exporter": "python",
   "pygments_lexer": "ipython3",
   "version": "3.11.5"
  }
 },
 "nbformat": 4,
 "nbformat_minor": 5
}
