{
 "cells": [
  {
   "cell_type": "code",
   "execution_count": 21,
   "id": "8a63fa85",
   "metadata": {},
   "outputs": [],
   "source": [
    "class pwskills:\n",
    "    def __init__(self,course_price,course_name):\n",
    "        self.__course_price = course_price\n",
    "        self.course_name = course_name\n",
    "# double underscore is protected #\n",
    "\n",
    "\n",
    "# accessing for private function #\n",
    "    @property\n",
    "    def course_price_access(self):\n",
    "        return self.__course_price\n",
    "    \n",
    "    \n",
    "#     accessing for set or modified #\n",
    "    @course_price_access.setter\n",
    "    def course_price_set(self,price):\n",
    "        if price <= 3500:\n",
    "            pass\n",
    "        else:\n",
    "            self.__course_price = price\n",
    "            \n",
    "#             accessing for deleting \n",
    "    @course_price_access.deleter\n",
    "    def delete_course_price(self):\n",
    "        del self.__course_price\n",
    "    "
   ]
  },
  {
   "cell_type": "code",
   "execution_count": 22,
   "id": "e8bd87a6",
   "metadata": {},
   "outputs": [],
   "source": [
    "# create an object of pswkills :\n",
    "pw = pwskills(3500,\"Data science Masters\")"
   ]
  },
  {
   "cell_type": "code",
   "execution_count": 23,
   "id": "48cfbed5",
   "metadata": {},
   "outputs": [
    {
     "data": {
      "text/plain": [
       "3500"
      ]
     },
     "execution_count": 23,
     "metadata": {},
     "output_type": "execute_result"
    }
   ],
   "source": [
    "pw.course_price_access"
   ]
  },
  {
   "cell_type": "code",
   "execution_count": 24,
   "id": "40f9f791",
   "metadata": {},
   "outputs": [],
   "source": [
    "del pw.delete_course_price"
   ]
  },
  {
   "cell_type": "code",
   "execution_count": 26,
   "id": "95ffb6a5",
   "metadata": {},
   "outputs": [],
   "source": [
    "# pw.course_price_access\n",
    "# we delete the course_price_access #"
   ]
  },
  {
   "cell_type": "code",
   "execution_count": 19,
   "id": "04560db4",
   "metadata": {},
   "outputs": [],
   "source": [
    "pw.course_price_set = 4500"
   ]
  },
  {
   "cell_type": "code",
   "execution_count": 20,
   "id": "796365e3",
   "metadata": {},
   "outputs": [
    {
     "data": {
      "text/plain": [
       "4500"
      ]
     },
     "execution_count": 20,
     "metadata": {},
     "output_type": "execute_result"
    }
   ],
   "source": [
    "pw.course_price_access"
   ]
  },
  {
   "cell_type": "code",
   "execution_count": 14,
   "id": "8a438a12",
   "metadata": {},
   "outputs": [
    {
     "data": {
      "text/plain": [
       "3500"
      ]
     },
     "execution_count": 14,
     "metadata": {},
     "output_type": "execute_result"
    }
   ],
   "source": [
    "pw.course_price_access\n",
    "# ham access kar pa rahe hai through this method # jo ki private variable tha mere classs ke liye #"
   ]
  },
  {
   "cell_type": "code",
   "execution_count": 3,
   "id": "a5c448f5",
   "metadata": {},
   "outputs": [
    {
     "data": {
      "text/plain": [
       "'Data science Masters'"
      ]
     },
     "execution_count": 3,
     "metadata": {},
     "output_type": "execute_result"
    }
   ],
   "source": [
    "pw.course_name"
   ]
  },
  {
   "cell_type": "code",
   "execution_count": 4,
   "id": "ae535f07",
   "metadata": {},
   "outputs": [
    {
     "data": {
      "text/plain": [
       "3500"
      ]
     },
     "execution_count": 4,
     "metadata": {},
     "output_type": "execute_result"
    }
   ],
   "source": [
    "pw._pwskills__course_price"
   ]
  },
  {
   "cell_type": "code",
   "execution_count": 5,
   "id": "026015d4",
   "metadata": {},
   "outputs": [],
   "source": [
    "# Course_price wala variable user ko nhi dikhega toh usse kaise kare ki woh user ko dikh jay aur woh bhi uksa access le le #"
   ]
  },
  {
   "cell_type": "code",
   "execution_count": 6,
   "id": "4e993da6",
   "metadata": {},
   "outputs": [],
   "source": [
    "# modifying,deleting,accessing for course_price how lets see ? kaise kare dekhte hai by using decorator property"
   ]
  }
 ],
 "metadata": {
  "kernelspec": {
   "display_name": "Python 3 (ipykernel)",
   "language": "python",
   "name": "python3"
  },
  "language_info": {
   "codemirror_mode": {
    "name": "ipython",
    "version": 3
   },
   "file_extension": ".py",
   "mimetype": "text/x-python",
   "name": "python",
   "nbconvert_exporter": "python",
   "pygments_lexer": "ipython3",
   "version": "3.11.5"
  }
 },
 "nbformat": 4,
 "nbformat_minor": 5
}
