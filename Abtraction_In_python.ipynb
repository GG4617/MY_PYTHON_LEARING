{
 "cells": [
  {
   "cell_type": "code",
   "execution_count": 20,
   "id": "5a4a9a9a",
   "metadata": {},
   "outputs": [],
   "source": [
    "# It is used to build a blueprint or skeleton of a outline #"
   ]
  },
  {
   "cell_type": "code",
   "execution_count": 32,
   "id": "d77b73d9",
   "metadata": {},
   "outputs": [],
   "source": [
    "import abc\n",
    "class pwskills:\n",
    "    @abc.abstractmethod\n",
    "    def students_detai(self):\n",
    "        pass\n",
    "    @abc.abstractmethod\n",
    "    def student_assignment(self):\n",
    "        pass\n",
    "    @abc.abstractmethod\n",
    "    def student_marks(self):\n",
    "        pass\n",
    "    "
   ]
  },
  {
   "cell_type": "code",
   "execution_count": 33,
   "id": "6e376663",
   "metadata": {},
   "outputs": [],
   "source": [
    "class student_detail(pwskills):\n",
    "    def students_detai(self):\n",
    "        return \"THIS IS A METHOD FOR TAKING STUDENT DETIALS\"\n",
    "    def student_assignment(self):\n",
    "        return \"THIS IS A METH FOR ASSIGN DETAILS FOR A PARTIULAR STUDENT\""
   ]
  },
  {
   "cell_type": "code",
   "execution_count": 34,
   "id": "42408940",
   "metadata": {},
   "outputs": [],
   "source": [
    "class Data_science_masters(pwskills):\n",
    "    def students_detai(self):\n",
    "        return \"THIS will return a student details for data science masters\"\n",
    "    def student_assignment(self):\n",
    "        return \"this will  give you a student assign details for data science masters\""
   ]
  },
  {
   "cell_type": "code",
   "execution_count": 35,
   "id": "d9e8b60e",
   "metadata": {},
   "outputs": [
    {
     "data": {
      "text/plain": [
       "'THIS will return a student details for data science masters'"
      ]
     },
     "execution_count": 35,
     "metadata": {},
     "output_type": "execute_result"
    }
   ],
   "source": [
    "dsm = Data_science_masters()\n",
    "dsm.students_detai()"
   ]
  },
  {
   "cell_type": "code",
   "execution_count": 31,
   "id": "c5872c17",
   "metadata": {},
   "outputs": [
    {
     "data": {
      "text/plain": [
       "'THIS IS A METHOD FOR TAKING STUDENT DETIALS'"
      ]
     },
     "execution_count": 31,
     "metadata": {},
     "output_type": "execute_result"
    }
   ],
   "source": [
    "sd = student_detail()\n",
    "sd. students_detai()"
   ]
  },
  {
   "cell_type": "code",
   "execution_count": 36,
   "id": "956b2950",
   "metadata": {},
   "outputs": [],
   "source": [
    "# upar wala blueprint hai or ek skeleton hai ab uske basis pe class implement karo isse inherit karo jo isle andar likha hai wahi implement karo in our own definition #"
   ]
  },
  {
   "cell_type": "code",
   "execution_count": 37,
   "id": "e919e078",
   "metadata": {},
   "outputs": [],
   "source": [
    "# abstraction advantage :define karo on the basis of my build method #"
   ]
  },
  {
   "cell_type": "code",
   "execution_count": null,
   "id": "2d9f8bb5",
   "metadata": {},
   "outputs": [],
   "source": []
  }
 ],
 "metadata": {
  "kernelspec": {
   "display_name": "Python 3 (ipykernel)",
   "language": "python",
   "name": "python3"
  },
  "language_info": {
   "codemirror_mode": {
    "name": "ipython",
    "version": 3
   },
   "file_extension": ".py",
   "mimetype": "text/x-python",
   "name": "python",
   "nbconvert_exporter": "python",
   "pygments_lexer": "ipython3",
   "version": "3.11.5"
  }
 },
 "nbformat": 4,
 "nbformat_minor": 5
}
