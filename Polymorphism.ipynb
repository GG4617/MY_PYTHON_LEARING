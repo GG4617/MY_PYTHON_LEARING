{
 "cells": [
  {
   "cell_type": "code",
   "execution_count": 3,
   "id": "31e2670a",
   "metadata": {},
   "outputs": [],
   "source": [
    "def prac(a,b):\n",
    "    return a+b"
   ]
  },
  {
   "cell_type": "code",
   "execution_count": 4,
   "id": "00be724b",
   "metadata": {},
   "outputs": [
    {
     "data": {
      "text/plain": [
       "8"
      ]
     },
     "execution_count": 4,
     "metadata": {},
     "output_type": "execute_result"
    }
   ],
   "source": [
    "prac(3,5)"
   ]
  },
  {
   "cell_type": "code",
   "execution_count": 12,
   "id": "30c6bd83",
   "metadata": {},
   "outputs": [
    {
     "data": {
      "text/plain": [
       "'Ganesh Gupta'"
      ]
     },
     "execution_count": 12,
     "metadata": {},
     "output_type": "execute_result"
    }
   ],
   "source": [
    "prac(\"Ganesh\",\" Gupta\")"
   ]
  },
  {
   "cell_type": "code",
   "execution_count": 13,
   "id": "91044716",
   "metadata": {},
   "outputs": [
    {
     "data": {
      "text/plain": [
       "[445, 546, 32, 334, 654, 3423]"
      ]
     },
     "execution_count": 13,
     "metadata": {},
     "output_type": "execute_result"
    }
   ],
   "source": [
    "prac([445,546,32],[334,654,3423])"
   ]
  },
  {
   "cell_type": "code",
   "execution_count": 14,
   "id": "077f9946",
   "metadata": {},
   "outputs": [],
   "source": [
    "# list append or list concetination karke dega #"
   ]
  },
  {
   "cell_type": "code",
   "execution_count": 15,
   "id": "2f3fbfe6",
   "metadata": {},
   "outputs": [],
   "source": [
    "# now lte's see for class and object"
   ]
  },
  {
   "cell_type": "code",
   "execution_count": 36,
   "id": "d2c2bbfc",
   "metadata": {},
   "outputs": [],
   "source": [
    "class DATA_SCIENCE:\n",
    "    def syllabus(self):\n",
    "        print(\"Thisis syallabus for data science masters course\")"
   ]
  },
  {
   "cell_type": "code",
   "execution_count": 37,
   "id": "1da8b5ea",
   "metadata": {},
   "outputs": [],
   "source": [
    "class web_dev :\n",
    "    def syllabus(self):\n",
    "        print(\"This is my syllabus for web_dev course\")"
   ]
  },
  {
   "cell_type": "code",
   "execution_count": 38,
   "id": "3286109d",
   "metadata": {},
   "outputs": [],
   "source": [
    "# create a external function \n",
    "def class_parcer(class_object):\n",
    "    for i in class_object:\n",
    "        i.syllabus()"
   ]
  },
  {
   "cell_type": "code",
   "execution_count": 39,
   "id": "6cedd7da",
   "metadata": {},
   "outputs": [],
   "source": [
    "# create a object for DATASCIENCE AND web_dev"
   ]
  },
  {
   "cell_type": "code",
   "execution_count": 40,
   "id": "3eef50bd",
   "metadata": {},
   "outputs": [],
   "source": [
    "DATA_SCIENCE = DATA_SCIENCE()"
   ]
  },
  {
   "cell_type": "code",
   "execution_count": 41,
   "id": "4405014c",
   "metadata": {},
   "outputs": [],
   "source": [
    "web_dev = web_dev()"
   ]
  },
  {
   "cell_type": "code",
   "execution_count": 42,
   "id": "4679b257",
   "metadata": {},
   "outputs": [],
   "source": [
    "class_object =[DATA_SCIENCE,web_dev]"
   ]
  },
  {
   "cell_type": "code",
   "execution_count": 43,
   "id": "f0357cf7",
   "metadata": {},
   "outputs": [
    {
     "name": "stdout",
     "output_type": "stream",
     "text": [
      "Thisis syallabus for data science masters course\n",
      "This is my syllabus for web_dev course\n"
     ]
    }
   ],
   "source": [
    "class_parcer(class_object)"
   ]
  },
  {
   "cell_type": "code",
   "execution_count": 44,
   "id": "4cb40aa4",
   "metadata": {},
   "outputs": [],
   "source": [
    "# nature changes depend upon the work culture is called as polymorphism #"
   ]
  },
  {
   "cell_type": "code",
   "execution_count": 46,
   "id": "7caaf2f9",
   "metadata": {},
   "outputs": [],
   "source": [
    "# example:\n",
    "#     mera behaviour alag alag rahega with respect to environment #"
   ]
  },
  {
   "cell_type": "code",
   "execution_count": null,
   "id": "b869b20b",
   "metadata": {},
   "outputs": [],
   "source": []
  }
 ],
 "metadata": {
  "kernelspec": {
   "display_name": "Python 3 (ipykernel)",
   "language": "python",
   "name": "python3"
  },
  "language_info": {
   "codemirror_mode": {
    "name": "ipython",
    "version": 3
   },
   "file_extension": ".py",
   "mimetype": "text/x-python",
   "name": "python",
   "nbconvert_exporter": "python",
   "pygments_lexer": "ipython3",
   "version": "3.11.5"
  }
 },
 "nbformat": 4,
 "nbformat_minor": 5
}
