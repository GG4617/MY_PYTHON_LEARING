{
 "cells": [
  {
   "cell_type": "code",
   "execution_count": 1,
   "id": "ca2f298c-4f72-4925-9f0a-4926bcd2ee7d",
   "metadata": {},
   "outputs": [],
   "source": [
    "# its a special type of function # ek ek karke data ko dete jayega use generator function bolte ahi #..iter ko next next karke dat ko fetch kar sakte hai "
   ]
  },
  {
   "cell_type": "code",
   "execution_count": 2,
   "id": "57eb8302-1006-4af8-a3d6-589d599ab6f6",
   "metadata": {},
   "outputs": [
    {
     "data": {
      "text/plain": [
       "range(0, 10)"
      ]
     },
     "execution_count": 2,
     "metadata": {},
     "output_type": "execute_result"
    }
   ],
   "source": [
    "range(10)"
   ]
  },
  {
   "cell_type": "code",
   "execution_count": 3,
   "id": "db64eab5-bde9-432e-9115-cde41140485c",
   "metadata": {
    "tags": []
   },
   "outputs": [
    {
     "name": "stdout",
     "output_type": "stream",
     "text": [
      "0\n",
      "1\n",
      "2\n",
      "3\n",
      "4\n",
      "5\n",
      "6\n",
      "7\n",
      "8\n",
      "9\n"
     ]
    }
   ],
   "source": [
    "for i in range(10):\n",
    "     print(i)"
   ]
  },
  {
   "cell_type": "code",
   "execution_count": 4,
   "id": "dcc120a2-2173-45c8-b8c1-f40bac185344",
   "metadata": {},
   "outputs": [],
   "source": [
    "# generator function is ued for reducing memory consumption ...optimize karna hai memory utilization #\n"
   ]
  },
  {
   "cell_type": "code",
   "execution_count": 5,
   "id": "90ec66d8-de7d-4a24-851f-a859c81cf2a8",
   "metadata": {},
   "outputs": [],
   "source": [
    "# generating fibinaocci number #  yield is a special reserved keyword which is used for creating generator function #"
   ]
  },
  {
   "cell_type": "code",
   "execution_count": 6,
   "id": "18980c96-d988-4ac9-bb9b-dfe2837cc9ca",
   "metadata": {},
   "outputs": [],
   "source": [
    "def test_fib(n):\n",
    "    a,b = 0,1\n",
    "    for i in range(n):\n",
    "        yield a\n",
    "        a,b = b,a+b"
   ]
  },
  {
   "cell_type": "code",
   "execution_count": 7,
   "id": "096455a8-85a5-45e5-962d-8952bb91529c",
   "metadata": {},
   "outputs": [
    {
     "data": {
      "text/plain": [
       "<generator object test_fib at 0x7f371339d9a0>"
      ]
     },
     "execution_count": 7,
     "metadata": {},
     "output_type": "execute_result"
    }
   ],
   "source": [
    "test_fib(10)"
   ]
  },
  {
   "cell_type": "code",
   "execution_count": 8,
   "id": "c822719d-7f90-40e2-8763-d1af7df415b0",
   "metadata": {},
   "outputs": [
    {
     "name": "stdout",
     "output_type": "stream",
     "text": [
      "0\n",
      "1\n",
      "1\n",
      "2\n",
      "3\n",
      "5\n",
      "8\n",
      "13\n",
      "21\n",
      "34\n"
     ]
    }
   ],
   "source": [
    "#  using for loop we get the outcome #\n",
    "for i in test_fib(10):\n",
    "    print(i)"
   ]
  },
  {
   "cell_type": "code",
   "execution_count": 9,
   "id": "1333657d-9f88-4960-b805-27d524b32a37",
   "metadata": {},
   "outputs": [],
   "source": [
    "# yield used to through the data # ek ek karke dta nikalte ja rahe hai #"
   ]
  },
  {
   "cell_type": "code",
   "execution_count": 10,
   "id": "d9778e34-8662-4a6d-b64e-ed1bda0928f1",
   "metadata": {},
   "outputs": [],
   "source": [
    "# example:2 write using while loop"
   ]
  },
  {
   "cell_type": "code",
   "execution_count": 11,
   "id": "48528774-e0b8-42bf-bda6-e05c25ca9402",
   "metadata": {},
   "outputs": [],
   "source": [
    "def test_fib():\n",
    "    a,b = 0,1\n",
    "    while True :\n",
    "        yield a \n",
    "        a,b =b,a+b"
   ]
  },
  {
   "cell_type": "code",
   "execution_count": 12,
   "id": "7231a9ce-0bf3-4ef0-b854-050d63ff52fd",
   "metadata": {},
   "outputs": [],
   "source": [
    "fib = test_fib()"
   ]
  },
  {
   "cell_type": "code",
   "execution_count": 13,
   "id": "471c7165-4e15-4172-bc14-fd78deac074c",
   "metadata": {},
   "outputs": [
    {
     "data": {
      "text/plain": [
       "generator"
      ]
     },
     "execution_count": 13,
     "metadata": {},
     "output_type": "execute_result"
    }
   ],
   "source": [
    "type(fib)"
   ]
  },
  {
   "cell_type": "code",
   "execution_count": 14,
   "id": "42c7e0f4-c22a-4edb-af62-636de95effc4",
   "metadata": {},
   "outputs": [
    {
     "name": "stdout",
     "output_type": "stream",
     "text": [
      "0\n",
      "1\n",
      "1\n",
      "2\n",
      "3\n",
      "5\n",
      "8\n",
      "13\n",
      "21\n",
      "34\n"
     ]
    }
   ],
   "source": [
    "for i in range(10):\n",
    "    print(next(fib))"
   ]
  },
  {
   "cell_type": "code",
   "execution_count": 15,
   "id": "c06da5a6-3d87-4f58-8635-07444b87124e",
   "metadata": {},
   "outputs": [],
   "source": [
    "g = \"ganesh\""
   ]
  },
  {
   "cell_type": "code",
   "execution_count": 16,
   "id": "32b7a92a-5834-4b24-8e5b-18379bd191c1",
   "metadata": {},
   "outputs": [
    {
     "name": "stdout",
     "output_type": "stream",
     "text": [
      "g\n",
      "a\n",
      "n\n",
      "e\n",
      "s\n",
      "h\n"
     ]
    }
   ],
   "source": [
    "for i in g:\n",
    "    print(i)"
   ]
  },
  {
   "cell_type": "code",
   "execution_count": 17,
   "id": "df3ee9fe-9390-44eb-973c-0f5722d6b0a9",
   "metadata": {},
   "outputs": [],
   "source": [
    "# next(g) \n",
    "# str obj is not a itertor but it is a iterable # phele str iter func ke andar dalenge and then iterate karenge #"
   ]
  },
  {
   "cell_type": "code",
   "execution_count": 18,
   "id": "e4e95e52-5edf-4f95-9ef1-fd3dcd4f11a2",
   "metadata": {},
   "outputs": [],
   "source": [
    "s1 = iter(g)"
   ]
  },
  {
   "cell_type": "code",
   "execution_count": 19,
   "id": "21433989-363a-4e64-af52-3b1f288520f3",
   "metadata": {},
   "outputs": [
    {
     "data": {
      "text/plain": [
       "str_iterator"
      ]
     },
     "execution_count": 19,
     "metadata": {},
     "output_type": "execute_result"
    }
   ],
   "source": [
    "type(s1)"
   ]
  },
  {
   "cell_type": "code",
   "execution_count": 20,
   "id": "3eae4080-d42e-4226-8f9d-70ba780c35d8",
   "metadata": {},
   "outputs": [
    {
     "data": {
      "text/plain": [
       "'g'"
      ]
     },
     "execution_count": 20,
     "metadata": {},
     "output_type": "execute_result"
    }
   ],
   "source": [
    "next(s1)"
   ]
  },
  {
   "cell_type": "code",
   "execution_count": 21,
   "id": "a2f1efc5-357e-4e48-b3b7-1123c763f8fe",
   "metadata": {},
   "outputs": [
    {
     "data": {
      "text/plain": [
       "'a'"
      ]
     },
     "execution_count": 21,
     "metadata": {},
     "output_type": "execute_result"
    }
   ],
   "source": [
    "next(s1)"
   ]
  },
  {
   "cell_type": "code",
   "execution_count": 22,
   "id": "105285e5-f8df-47c9-8c9f-2df22e6b68a9",
   "metadata": {},
   "outputs": [
    {
     "data": {
      "text/plain": [
       "'n'"
      ]
     },
     "execution_count": 22,
     "metadata": {},
     "output_type": "execute_result"
    }
   ],
   "source": [
    "next(s1)"
   ]
  },
  {
   "cell_type": "code",
   "execution_count": 23,
   "id": "29d780f3-7404-4807-9342-afad2e9ad956",
   "metadata": {},
   "outputs": [
    {
     "data": {
      "text/plain": [
       "'e'"
      ]
     },
     "execution_count": 23,
     "metadata": {},
     "output_type": "execute_result"
    }
   ],
   "source": [
    "next(s1)"
   ]
  },
  {
   "cell_type": "code",
   "execution_count": 24,
   "id": "538040a4-39f9-40fd-926f-08bf1d707cbb",
   "metadata": {},
   "outputs": [
    {
     "data": {
      "text/plain": [
       "'s'"
      ]
     },
     "execution_count": 24,
     "metadata": {},
     "output_type": "execute_result"
    }
   ],
   "source": [
    "next(s1)"
   ]
  },
  {
   "cell_type": "code",
   "execution_count": 25,
   "id": "248838bc-e1c1-4dd6-9ffb-112dcbf927e4",
   "metadata": {},
   "outputs": [
    {
     "data": {
      "text/plain": [
       "'h'"
      ]
     },
     "execution_count": 25,
     "metadata": {},
     "output_type": "execute_result"
    }
   ],
   "source": [
    "next(s1)"
   ]
  },
  {
   "cell_type": "code",
   "execution_count": 26,
   "id": "5e283409-45aa-4486-bbd3-8711cf136beb",
   "metadata": {},
   "outputs": [],
   "source": [
    "# for loop work kaiss karega sabse pehele woh data ko lega and iter ke andar dalega and then woh iterator ban gaya next-next karte ja raha hai aur data nikalte ja rah hai"
   ]
  },
  {
   "cell_type": "code",
   "execution_count": 27,
   "id": "6dbb5e7c-1b36-4053-91f4-69bcfbebe6be",
   "metadata": {},
   "outputs": [],
   "source": [
    "# jo iterable hai usi ko iterator kar sakte hai #"
   ]
  },
  {
   "cell_type": "code",
   "execution_count": 28,
   "id": "8181e7fb-bba0-4134-9977-d85a3d09672d",
   "metadata": {},
   "outputs": [],
   "source": [
    "def count_test(n):\n",
    "    count = 1\n",
    "    while count<=n:\n",
    "        yield count\n",
    "        count = count +1 "
   ]
  },
  {
   "cell_type": "code",
   "execution_count": 29,
   "id": "825c2ddc-63af-45a9-92d2-e5b975cccc46",
   "metadata": {},
   "outputs": [],
   "source": [
    "c = count_test(5)"
   ]
  },
  {
   "cell_type": "code",
   "execution_count": 30,
   "id": "a1e60733-989d-4f23-8455-8c369a1084af",
   "metadata": {},
   "outputs": [
    {
     "name": "stdout",
     "output_type": "stream",
     "text": [
      "1\n",
      "2\n",
      "3\n",
      "4\n",
      "5\n"
     ]
    }
   ],
   "source": [
    "for i in c:\n",
    "    print(i)"
   ]
  },
  {
   "cell_type": "code",
   "execution_count": 31,
   "id": "2c861232-3082-40f2-8303-fd9cd520175c",
   "metadata": {},
   "outputs": [
    {
     "data": {
      "text/plain": [
       "generator"
      ]
     },
     "execution_count": 31,
     "metadata": {},
     "output_type": "execute_result"
    }
   ],
   "source": [
    "type(c)"
   ]
  },
  {
   "cell_type": "code",
   "execution_count": null,
   "id": "74a38a00-5ea6-427b-8a9e-bbc5166037a6",
   "metadata": {},
   "outputs": [],
   "source": [
    "# it is genator in nature#"
   ]
  }
 ],
 "metadata": {
  "kernelspec": {
   "display_name": "Python 3 (ipykernel)",
   "language": "python",
   "name": "python3"
  },
  "language_info": {
   "codemirror_mode": {
    "name": "ipython",
    "version": 3
   },
   "file_extension": ".py",
   "mimetype": "text/x-python",
   "name": "python",
   "nbconvert_exporter": "python",
   "pygments_lexer": "ipython3",
   "version": "3.10.8"
  }
 },
 "nbformat": 4,
 "nbformat_minor": 5
}
