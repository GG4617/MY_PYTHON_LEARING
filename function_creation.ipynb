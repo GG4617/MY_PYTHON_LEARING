{
 "cells": [
  {
   "cell_type": "code",
   "execution_count": 1,
   "id": "a166a728",
   "metadata": {},
   "outputs": [
    {
     "name": "stdout",
     "output_type": "stream",
     "text": [
      "this is my laptop\n"
     ]
    }
   ],
   "source": [
    "print(\"this is my laptop\")"
   ]
  },
  {
   "cell_type": "code",
   "execution_count": 2,
   "id": "afdfdc4f",
   "metadata": {},
   "outputs": [],
   "source": [
    "l = [456,68,43,324]"
   ]
  },
  {
   "cell_type": "code",
   "execution_count": 3,
   "id": "57c10c9c",
   "metadata": {},
   "outputs": [
    {
     "data": {
      "text/plain": [
       "[456, 68, 43, 324]"
      ]
     },
     "execution_count": 3,
     "metadata": {},
     "output_type": "execute_result"
    }
   ],
   "source": [
    "l"
   ]
  },
  {
   "cell_type": "code",
   "execution_count": 4,
   "id": "1bf914a3",
   "metadata": {},
   "outputs": [
    {
     "data": {
      "text/plain": [
       "4"
      ]
     },
     "execution_count": 4,
     "metadata": {},
     "output_type": "execute_result"
    }
   ],
   "source": [
    "len(l)"
   ]
  },
  {
   "cell_type": "code",
   "execution_count": 5,
   "id": "1ff5ecad",
   "metadata": {},
   "outputs": [
    {
     "data": {
      "text/plain": [
       "list"
      ]
     },
     "execution_count": 5,
     "metadata": {},
     "output_type": "execute_result"
    }
   ],
   "source": [
    "type(l)"
   ]
  },
  {
   "cell_type": "code",
   "execution_count": 12,
   "id": "e6808cfc",
   "metadata": {},
   "outputs": [],
   "source": [
    "# let's see how to make function it increases the reusibility and modirality so we write code in a structure way # start with def and write the definition"
   ]
  },
  {
   "cell_type": "code",
   "execution_count": 13,
   "id": "35c435f0",
   "metadata": {},
   "outputs": [],
   "source": [
    "def test():\n",
    "    pass"
   ]
  },
  {
   "cell_type": "code",
   "execution_count": 14,
   "id": "f9b8f59a",
   "metadata": {},
   "outputs": [],
   "source": [
    "def test():\n",
    "    print(\"THIS is my laptop\")"
   ]
  },
  {
   "cell_type": "code",
   "execution_count": 15,
   "id": "a8db7766",
   "metadata": {},
   "outputs": [
    {
     "name": "stdout",
     "output_type": "stream",
     "text": [
      "THIS is my laptop\n"
     ]
    }
   ],
   "source": [
    "test()"
   ]
  },
  {
   "cell_type": "code",
   "execution_count": 18,
   "id": "9707a5f8",
   "metadata": {},
   "outputs": [],
   "source": [
    "# test()+\"roni\"\n",
    "# it is notype therfore it is not given any outcome"
   ]
  },
  {
   "cell_type": "code",
   "execution_count": 19,
   "id": "132a8f35",
   "metadata": {},
   "outputs": [],
   "source": [
    "def test1():\n",
    "    return \"this is my function class\""
   ]
  },
  {
   "cell_type": "code",
   "execution_count": 21,
   "id": "3fb1f142",
   "metadata": {},
   "outputs": [
    {
     "data": {
      "text/plain": [
       "'this is my function class'"
      ]
     },
     "execution_count": 21,
     "metadata": {},
     "output_type": "execute_result"
    }
   ],
   "source": [
    "test1()"
   ]
  },
  {
   "cell_type": "code",
   "execution_count": 24,
   "id": "cd6eaf4d",
   "metadata": {},
   "outputs": [
    {
     "data": {
      "text/plain": [
       "'this is my function classof a pw data science course'"
      ]
     },
     "execution_count": 24,
     "metadata": {},
     "output_type": "execute_result"
    }
   ],
   "source": [
    "test1() + \"of a pw data science course\""
   ]
  },
  {
   "cell_type": "code",
   "execution_count": 27,
   "id": "065922b9",
   "metadata": {},
   "outputs": [],
   "source": [
    "#  print always give nontype a whereas return can return the datatype which can we caled "
   ]
  },
  {
   "cell_type": "code",
   "execution_count": 30,
   "id": "6d215f23",
   "metadata": {},
   "outputs": [],
   "source": [
    "def test3():\n",
    "    return \"ice-cream\",45,True,56564,[56,667,34]\n",
    "# return in the form of list"
   ]
  },
  {
   "cell_type": "code",
   "execution_count": 31,
   "id": "27cc1f52",
   "metadata": {},
   "outputs": [
    {
     "data": {
      "text/plain": [
       "('ice-cream', 45, True, 56564, [56, 667, 34])"
      ]
     },
     "execution_count": 31,
     "metadata": {},
     "output_type": "execute_result"
    }
   ],
   "source": [
    "test3()"
   ]
  },
  {
   "cell_type": "code",
   "execution_count": 33,
   "id": "094dd750",
   "metadata": {},
   "outputs": [],
   "source": [
    "a,b,c,d,e = test3()"
   ]
  },
  {
   "cell_type": "code",
   "execution_count": 34,
   "id": "060160c2",
   "metadata": {},
   "outputs": [
    {
     "data": {
      "text/plain": [
       "'ice-cream'"
      ]
     },
     "execution_count": 34,
     "metadata": {},
     "output_type": "execute_result"
    }
   ],
   "source": [
    "a"
   ]
  },
  {
   "cell_type": "code",
   "execution_count": 35,
   "id": "2df068e4",
   "metadata": {},
   "outputs": [
    {
     "data": {
      "text/plain": [
       "45"
      ]
     },
     "execution_count": 35,
     "metadata": {},
     "output_type": "execute_result"
    }
   ],
   "source": [
    "b"
   ]
  },
  {
   "cell_type": "code",
   "execution_count": 36,
   "id": "fa2cacaf",
   "metadata": {},
   "outputs": [
    {
     "data": {
      "text/plain": [
       "True"
      ]
     },
     "execution_count": 36,
     "metadata": {},
     "output_type": "execute_result"
    }
   ],
   "source": [
    "c"
   ]
  },
  {
   "cell_type": "code",
   "execution_count": 37,
   "id": "c8434345",
   "metadata": {},
   "outputs": [
    {
     "data": {
      "text/plain": [
       "56564"
      ]
     },
     "execution_count": 37,
     "metadata": {},
     "output_type": "execute_result"
    }
   ],
   "source": [
    "d"
   ]
  },
  {
   "cell_type": "code",
   "execution_count": 38,
   "id": "ad0d58e6",
   "metadata": {},
   "outputs": [
    {
     "data": {
      "text/plain": [
       "[56, 667, 34]"
      ]
     },
     "execution_count": 38,
     "metadata": {},
     "output_type": "execute_result"
    }
   ],
   "source": [
    "e"
   ]
  },
  {
   "cell_type": "code",
   "execution_count": 42,
   "id": "028e12f8",
   "metadata": {},
   "outputs": [],
   "source": [
    "a,b =1,4\n",
    "# it is similar to variable declartion"
   ]
  },
  {
   "cell_type": "code",
   "execution_count": 40,
   "id": "159cf3fb",
   "metadata": {},
   "outputs": [
    {
     "data": {
      "text/plain": [
       "1"
      ]
     },
     "execution_count": 40,
     "metadata": {},
     "output_type": "execute_result"
    }
   ],
   "source": [
    "a"
   ]
  },
  {
   "cell_type": "code",
   "execution_count": 41,
   "id": "883466fc",
   "metadata": {},
   "outputs": [
    {
     "data": {
      "text/plain": [
       "4"
      ]
     },
     "execution_count": 41,
     "metadata": {},
     "output_type": "execute_result"
    }
   ],
   "source": [
    "b"
   ]
  },
  {
   "cell_type": "code",
   "execution_count": 47,
   "id": "606eadf1",
   "metadata": {},
   "outputs": [],
   "source": [
    "def test4():\n",
    "    a= 4+64/4\n",
    "    return a"
   ]
  },
  {
   "cell_type": "code",
   "execution_count": 48,
   "id": "1f941d55",
   "metadata": {},
   "outputs": [
    {
     "data": {
      "text/plain": [
       "20.0"
      ]
     },
     "execution_count": 48,
     "metadata": {},
     "output_type": "execute_result"
    }
   ],
   "source": [
    "test4()"
   ]
  },
  {
   "cell_type": "code",
   "execution_count": 51,
   "id": "2384fe6d",
   "metadata": {},
   "outputs": [],
   "source": [
    "def test5(a,b,c):\n",
    "    d = a+b/c\n",
    "    return d\n",
    "# here we pass arguments"
   ]
  },
  {
   "cell_type": "code",
   "execution_count": 54,
   "id": "d5a3f7af",
   "metadata": {},
   "outputs": [],
   "source": [
    "# test5() its written error bcoz arguments not given to test5"
   ]
  },
  {
   "cell_type": "code",
   "execution_count": 55,
   "id": "9ea53bae",
   "metadata": {},
   "outputs": [
    {
     "data": {
      "text/plain": [
       "3.8"
      ]
     },
     "execution_count": 55,
     "metadata": {},
     "output_type": "execute_result"
    }
   ],
   "source": [
    "test5(3,4,5)"
   ]
  },
  {
   "cell_type": "code",
   "execution_count": 59,
   "id": "85fa21e3",
   "metadata": {},
   "outputs": [],
   "source": [
    "def test6(a,h):\n",
    "    return a+h"
   ]
  },
  {
   "cell_type": "code",
   "execution_count": 60,
   "id": "f8e95377",
   "metadata": {},
   "outputs": [
    {
     "data": {
      "text/plain": [
       "8"
      ]
     },
     "execution_count": 60,
     "metadata": {},
     "output_type": "execute_result"
    }
   ],
   "source": [
    "test6(3,5)"
   ]
  },
  {
   "cell_type": "code",
   "execution_count": 62,
   "id": "335aed3c",
   "metadata": {},
   "outputs": [
    {
     "data": {
      "text/plain": [
       "'grapes banana'"
      ]
     },
     "execution_count": 62,
     "metadata": {},
     "output_type": "execute_result"
    }
   ],
   "source": [
    "test6(\"grapes\",\" banana\")"
   ]
  },
  {
   "cell_type": "code",
   "execution_count": 63,
   "id": "2e4e2372",
   "metadata": {},
   "outputs": [
    {
     "data": {
      "text/plain": [
       "[4, 565, 5567, 4556, 65, 56]"
      ]
     },
     "execution_count": 63,
     "metadata": {},
     "output_type": "execute_result"
    }
   ],
   "source": [
    "test6([4,565,5567],[4556,65,56])"
   ]
  },
  {
   "cell_type": "code",
   "execution_count": 64,
   "id": "ac9da0d8",
   "metadata": {},
   "outputs": [],
   "source": [
    "# concetinate karke de diya hame "
   ]
  },
  {
   "cell_type": "code",
   "execution_count": 78,
   "id": "fa7d6d88",
   "metadata": {},
   "outputs": [],
   "source": [
    "l = [5,55,56.5,23,6,\"mercedes\",[45,56,True,\"ganesh\",\"priyanshi\"]]"
   ]
  },
  {
   "cell_type": "code",
   "execution_count": 79,
   "id": "2f1bb38c",
   "metadata": {},
   "outputs": [],
   "source": [
    "# integer value ko ek dusre list me nikal kar de de hame aisa code likho"
   ]
  },
  {
   "cell_type": "code",
   "execution_count": 80,
   "id": "894dd63e",
   "metadata": {},
   "outputs": [],
   "source": [
    "# code without function #\n",
    "l1 =[]\n",
    "for i in l:\n",
    "    if type(i)==int or type(i)== float:\n",
    "        l1.append(i)"
   ]
  },
  {
   "cell_type": "code",
   "execution_count": 81,
   "id": "73c532d9",
   "metadata": {},
   "outputs": [
    {
     "data": {
      "text/plain": [
       "[5, 55, 56.5, 23, 6]"
      ]
     },
     "execution_count": 81,
     "metadata": {},
     "output_type": "execute_result"
    }
   ],
   "source": [
    "l1"
   ]
  },
  {
   "cell_type": "code",
   "execution_count": 82,
   "id": "70ba2c54",
   "metadata": {},
   "outputs": [],
   "source": [
    "l1 =[]\n",
    "for i in l:\n",
    "    if type(i) == int or type(i)==float:\n",
    "        l1.append(i)"
   ]
  },
  {
   "cell_type": "code",
   "execution_count": 83,
   "id": "60519b65",
   "metadata": {},
   "outputs": [
    {
     "data": {
      "text/plain": [
       "[5, 55, 56.5, 23, 6]"
      ]
     },
     "execution_count": 83,
     "metadata": {},
     "output_type": "execute_result"
    }
   ],
   "source": [
    "l1"
   ]
  },
  {
   "cell_type": "code",
   "execution_count": 84,
   "id": "708adbe2",
   "metadata": {},
   "outputs": [],
   "source": [
    "def test7(l):\n",
    "    l1 = []\n",
    "    for i in l:\n",
    "        if type(i) == int or type(i)== float :\n",
    "            l1.append(i)\n",
    "    return l1"
   ]
  },
  {
   "cell_type": "code",
   "execution_count": 86,
   "id": "3ccff9c7",
   "metadata": {},
   "outputs": [
    {
     "data": {
      "text/plain": [
       "[5, 55, 56.5, 23, 6]"
      ]
     },
     "execution_count": 86,
     "metadata": {},
     "output_type": "execute_result"
    }
   ],
   "source": [
    "test7(l)"
   ]
  },
  {
   "cell_type": "code",
   "execution_count": 87,
   "id": "7c0b5219",
   "metadata": {},
   "outputs": [
    {
     "data": {
      "text/plain": [
       "[5, 55, 56.5, 23, 6, 'mercedes', [45, 56, True, 'ganesh', 'priyanshi']]"
      ]
     },
     "execution_count": 87,
     "metadata": {},
     "output_type": "execute_result"
    }
   ],
   "source": [
    "l"
   ]
  },
  {
   "cell_type": "code",
   "execution_count": 88,
   "id": "154afdd9",
   "metadata": {},
   "outputs": [
    {
     "data": {
      "text/plain": [
       "[45, 56, True, 'ganesh', 'priyanshi']"
      ]
     },
     "execution_count": 88,
     "metadata": {},
     "output_type": "execute_result"
    }
   ],
   "source": [
    "l[6]"
   ]
  },
  {
   "cell_type": "code",
   "execution_count": 95,
   "id": "c20d6afb",
   "metadata": {},
   "outputs": [],
   "source": [
    "def test8(l):\n",
    "    l2 =[]\n",
    "    for i in l:\n",
    "        if type(i) == list:\n",
    "            for j in i :\n",
    "                l2.append(j)\n",
    "        else:\n",
    "            if type(i) == int or type(i)==float:\n",
    "                l2.append(i)\n",
    "    return l2            \n",
    "            "
   ]
  },
  {
   "cell_type": "code",
   "execution_count": 97,
   "id": "3daa211f",
   "metadata": {},
   "outputs": [
    {
     "data": {
      "text/plain": [
       "[5, 55, 56.5, 23, 6, 45, 56, True, 'ganesh', 'priyanshi']"
      ]
     },
     "execution_count": 97,
     "metadata": {},
     "output_type": "execute_result"
    }
   ],
   "source": [
    "test8(l)"
   ]
  },
  {
   "cell_type": "code",
   "execution_count": 102,
   "id": "1901ae68",
   "metadata": {},
   "outputs": [],
   "source": [
    "def test9(l):\n",
    "    \"\"\"This is my function to extract numeric data from list\"\"\"\n",
    "    \n",
    "    l2 =[]\n",
    "    for i in l:\n",
    "        if type(i) == list:\n",
    "            for j in i :\n",
    "                l2.append(j)\n",
    "        else:\n",
    "            if type(i) == int or type(i)==float:\n",
    "                l2.append(i)\n",
    "    return l2            \n",
    "            "
   ]
  },
  {
   "cell_type": "code",
   "execution_count": 105,
   "id": "826e53e0",
   "metadata": {},
   "outputs": [
    {
     "data": {
      "text/plain": [
       "[5, 55, 56.5, 23, 6, 45, 56, True, 'ganesh', 'priyanshi']"
      ]
     },
     "execution_count": 105,
     "metadata": {},
     "output_type": "execute_result"
    }
   ],
   "source": [
    "test9(l)\n",
    "# now it shows the docstring whichi have created #"
   ]
  },
  {
   "cell_type": "code",
   "execution_count": 106,
   "id": "d3505ad6",
   "metadata": {},
   "outputs": [],
   "source": [
    "def test10(a,b):\n",
    "    return a + b"
   ]
  },
  {
   "cell_type": "code",
   "execution_count": 107,
   "id": "e3e1acb2",
   "metadata": {},
   "outputs": [],
   "source": [
    "# user input computation how ? let's see "
   ]
  },
  {
   "cell_type": "code",
   "execution_count": 108,
   "id": "0c7407cc",
   "metadata": {},
   "outputs": [],
   "source": [
    "def test11(*args):\n",
    "    return args"
   ]
  },
  {
   "cell_type": "code",
   "execution_count": 109,
   "id": "8308dacb",
   "metadata": {},
   "outputs": [
    {
     "data": {
      "text/plain": [
       "()"
      ]
     },
     "execution_count": 109,
     "metadata": {},
     "output_type": "execute_result"
    }
   ],
   "source": [
    "test11()"
   ]
  },
  {
   "cell_type": "code",
   "execution_count": 111,
   "id": "912cf1c9",
   "metadata": {},
   "outputs": [
    {
     "data": {
      "text/plain": [
       "tuple"
      ]
     },
     "execution_count": 111,
     "metadata": {},
     "output_type": "execute_result"
    }
   ],
   "source": [
    "type(test11())"
   ]
  },
  {
   "cell_type": "code",
   "execution_count": 112,
   "id": "b9da451c",
   "metadata": {},
   "outputs": [
    {
     "data": {
      "text/plain": [
       "(2, 4, 45)"
      ]
     },
     "execution_count": 112,
     "metadata": {},
     "output_type": "execute_result"
    }
   ],
   "source": [
    "test11(2,4,45)"
   ]
  },
  {
   "cell_type": "code",
   "execution_count": 113,
   "id": "38663be0",
   "metadata": {},
   "outputs": [
    {
     "data": {
      "text/plain": [
       "(3, 56, 'roni', 57, 'numbers', [45, 67, 34, 89])"
      ]
     },
     "execution_count": 113,
     "metadata": {},
     "output_type": "execute_result"
    }
   ],
   "source": [
    "# now pass unlimited data #\n",
    "test11(3,56,\"roni\",57,\"numbers\",[45,67,34,89])"
   ]
  },
  {
   "cell_type": "code",
   "execution_count": 115,
   "id": "fc777d01",
   "metadata": {},
   "outputs": [],
   "source": [
    "# * means n number of arguments can we pass in it # args is not keyword we can give our name also "
   ]
  },
  {
   "cell_type": "code",
   "execution_count": 117,
   "id": "83132327",
   "metadata": {},
   "outputs": [],
   "source": [
    "#  agrs is an inconvention"
   ]
  },
  {
   "cell_type": "code",
   "execution_count": 118,
   "id": "460d12aa",
   "metadata": {},
   "outputs": [],
   "source": [
    "def test12(*roni):\n",
    "    return roni\n",
    "    "
   ]
  },
  {
   "cell_type": "code",
   "execution_count": 119,
   "id": "f7773401",
   "metadata": {},
   "outputs": [
    {
     "data": {
      "text/plain": [
       "(4, 56, 76, 45)"
      ]
     },
     "execution_count": 119,
     "metadata": {},
     "output_type": "execute_result"
    }
   ],
   "source": [
    "test12(4,56,76,45)"
   ]
  },
  {
   "cell_type": "code",
   "execution_count": 120,
   "id": "880bf67c",
   "metadata": {},
   "outputs": [],
   "source": [
    "def test13(*args,a):\n",
    "    return args ,a "
   ]
  },
  {
   "cell_type": "code",
   "execution_count": 121,
   "id": "f7b6f8b1",
   "metadata": {},
   "outputs": [],
   "source": [
    "# test13(23,4,3442,6) ...\n",
    "# it give error bcoz it does'nt understand that the argumrnts given is agrs or a # \n",
    "#  To overcome this problem we can define separtely #"
   ]
  },
  {
   "cell_type": "code",
   "execution_count": 122,
   "id": "3c45bcfa",
   "metadata": {},
   "outputs": [
    {
     "data": {
      "text/plain": [
       "((3, 34, 243, 54, 53), 45)"
      ]
     },
     "execution_count": 122,
     "metadata": {},
     "output_type": "execute_result"
    }
   ],
   "source": [
    "test13(3,34,243,54,53,a=45)"
   ]
  },
  {
   "cell_type": "code",
   "execution_count": 123,
   "id": "efd7fd7c",
   "metadata": {},
   "outputs": [],
   "source": [
    "def reg(c,d,a=45,b=6):\n",
    "    return a,b,c,d"
   ]
  },
  {
   "cell_type": "code",
   "execution_count": 125,
   "id": "7c2b2b41",
   "metadata": {},
   "outputs": [],
   "source": [
    "# reg() # error bcoz c and d are not defined #"
   ]
  },
  {
   "cell_type": "code",
   "execution_count": 126,
   "id": "c9c9a453",
   "metadata": {},
   "outputs": [
    {
     "data": {
      "text/plain": [
       "(45, 6, 4, 5)"
      ]
     },
     "execution_count": 126,
     "metadata": {},
     "output_type": "execute_result"
    }
   ],
   "source": [
    "reg(4,5)"
   ]
  },
  {
   "cell_type": "code",
   "execution_count": 129,
   "id": "761afaaa",
   "metadata": {},
   "outputs": [
    {
     "data": {
      "text/plain": [
       "(4, 7, 5, 6)"
      ]
     },
     "execution_count": 129,
     "metadata": {},
     "output_type": "execute_result"
    }
   ],
   "source": [
    "reg(5,6,a=4,b=7)\n",
    "#  overwrite the default value #"
   ]
  },
  {
   "cell_type": "code",
   "execution_count": 131,
   "id": "eea48a54",
   "metadata": {},
   "outputs": [],
   "source": [
    "#  user ko n number of data chaiye  in a dict format #\n",
    "# key:value"
   ]
  },
  {
   "cell_type": "code",
   "execution_count": 133,
   "id": "ea94679e",
   "metadata": {},
   "outputs": [],
   "source": [
    "def gep(**kwargs):\n",
    "    return kwargs"
   ]
  },
  {
   "cell_type": "code",
   "execution_count": 134,
   "id": "3dc39e03",
   "metadata": {},
   "outputs": [
    {
     "data": {
      "text/plain": [
       "{}"
      ]
     },
     "execution_count": 134,
     "metadata": {},
     "output_type": "execute_result"
    }
   ],
   "source": [
    "gep()"
   ]
  },
  {
   "cell_type": "code",
   "execution_count": 135,
   "id": "6f477565",
   "metadata": {},
   "outputs": [
    {
     "data": {
      "text/plain": [
       "dict"
      ]
     },
     "execution_count": 135,
     "metadata": {},
     "output_type": "execute_result"
    }
   ],
   "source": [
    "type(gep())"
   ]
  },
  {
   "cell_type": "code",
   "execution_count": 136,
   "id": "e7a46150",
   "metadata": {},
   "outputs": [
    {
     "data": {
      "text/plain": [
       "{'a': [4, 56, 54, 34], 'b': 'gan', 'c': 5.6}"
      ]
     },
     "execution_count": 136,
     "metadata": {},
     "output_type": "execute_result"
    }
   ],
   "source": [
    "gep(a = [4,56,54,34],b=\"gan\",c=5.6)"
   ]
  },
  {
   "cell_type": "code",
   "execution_count": 138,
   "id": "ad388b11",
   "metadata": {},
   "outputs": [],
   "source": [
    "# so we get the key value pair # we can pass n numbers of arguemnts in it ...."
   ]
  },
  {
   "cell_type": "code",
   "execution_count": null,
   "id": "ab96f3b6",
   "metadata": {},
   "outputs": [],
   "source": []
  }
 ],
 "metadata": {
  "kernelspec": {
   "display_name": "Python 3 (ipykernel)",
   "language": "python",
   "name": "python3"
  },
  "language_info": {
   "codemirror_mode": {
    "name": "ipython",
    "version": 3
   },
   "file_extension": ".py",
   "mimetype": "text/x-python",
   "name": "python",
   "nbconvert_exporter": "python",
   "pygments_lexer": "ipython3",
   "version": "3.11.5"
  }
 },
 "nbformat": 4,
 "nbformat_minor": 5
}
