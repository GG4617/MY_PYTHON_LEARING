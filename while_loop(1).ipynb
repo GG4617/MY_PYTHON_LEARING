{
 "cells": [
  {
   "cell_type": "code",
   "execution_count": 1,
   "id": "d55cc135",
   "metadata": {},
   "outputs": [],
   "source": [
    "a = 1\n",
    "# while loop check first condition and find the condition become true then it only print # if condition become false it cannot be execute"
   ]
  },
  {
   "cell_type": "code",
   "execution_count": 2,
   "id": "a4aa9b0e",
   "metadata": {},
   "outputs": [
    {
     "name": "stdout",
     "output_type": "stream",
     "text": [
      "1\n",
      "2\n",
      "3\n",
      "4\n",
      "5\n",
      "6\n",
      "7\n",
      "8\n",
      "9\n",
      "10\n"
     ]
    }
   ],
   "source": [
    "while a <= 10:\n",
    "    print(a)\n",
    "    a = a+1"
   ]
  },
  {
   "cell_type": "raw",
   "id": "5963f9e3",
   "metadata": {},
   "source": [
    "# sum up the no. till point #"
   ]
  },
  {
   "cell_type": "code",
   "execution_count": 4,
   "id": "65e1bf4a",
   "metadata": {},
   "outputs": [
    {
     "name": "stdout",
     "output_type": "stream",
     "text": [
      "Enter your Limit 45\n"
     ]
    },
    {
     "data": {
      "text/plain": [
       "1035"
      ]
     },
     "execution_count": 4,
     "metadata": {},
     "output_type": "execute_result"
    }
   ],
   "source": [
    "n = int(input(\"Enter your Limit \"))\n",
    "starting_point = 0 \n",
    "counter = 1\n",
    "\n",
    "while counter <= n:\n",
    "    starting_point = starting_point + counter\n",
    "    counter = counter +1 \n",
    "starting_point"
   ]
  },
  {
   "cell_type": "code",
   "execution_count": 5,
   "id": "5d45da77",
   "metadata": {},
   "outputs": [],
   "source": [
    "l=[1,2,3,4,5]\n",
    "# for checking #"
   ]
  },
  {
   "cell_type": "code",
   "execution_count": 6,
   "id": "704a4359",
   "metadata": {},
   "outputs": [
    {
     "data": {
      "text/plain": [
       "15"
      ]
     },
     "execution_count": 6,
     "metadata": {},
     "output_type": "execute_result"
    }
   ],
   "source": [
    "sum(l)"
   ]
  },
  {
   "cell_type": "code",
   "execution_count": 7,
   "id": "d74e0184",
   "metadata": {},
   "outputs": [
    {
     "name": "stdout",
     "output_type": "stream",
     "text": [
      "Enter your no.10\n",
      "3628800\n"
     ]
    }
   ],
   "source": [
    "# to find the factorial :#\n",
    "number = int(input(\"Enter your no.\"))\n",
    "factorial = 1\n",
    "while number > 0:\n",
    "    factorial = factorial * number\n",
    "    number = number -1\n",
    "print(factorial)"
   ]
  },
  {
   "cell_type": "code",
   "execution_count": 8,
   "id": "eb4bcf6e",
   "metadata": {},
   "outputs": [],
   "source": [
    "# Finonacci series # next no. is summation of previous no."
   ]
  },
  {
   "cell_type": "code",
   "execution_count": 9,
   "id": "a8106f53",
   "metadata": {},
   "outputs": [
    {
     "name": "stdout",
     "output_type": "stream",
     "text": [
      "Enter the no. of element you are looking for 10\n",
      "0\n",
      "1\n",
      "1\n",
      "2\n",
      "3\n",
      "5\n",
      "8\n",
      "13\n",
      "21\n",
      "34\n"
     ]
    }
   ],
   "source": [
    "number = int(input(\"Enter the no. of element you are looking for \"))\n",
    "a,b = 0,1\n",
    "counter = 0\n",
    "while counter < number :\n",
    "    print(a)\n",
    "    c = a+b\n",
    "    a = b\n",
    "    b = c\n",
    "    counter = counter + 1"
   ]
  },
  {
   "cell_type": "code",
   "execution_count": 10,
   "id": "6cddabbd",
   "metadata": {},
   "outputs": [],
   "source": [
    "# same code can be written by for loop #"
   ]
  },
  {
   "cell_type": "code",
   "execution_count": 11,
   "id": "94d90e4b",
   "metadata": {},
   "outputs": [
    {
     "name": "stdout",
     "output_type": "stream",
     "text": [
      "0\n",
      "1\n",
      "1\n",
      "2\n",
      "3\n",
      "5\n",
      "8\n",
      "13\n",
      "21\n",
      "34\n"
     ]
    }
   ],
   "source": [
    "a,b =0,1\n",
    "for i in range(10):\n",
    "    print(a)\n",
    "    c = a+b\n",
    "    a = b\n",
    "    b = c\n",
    "    "
   ]
  },
  {
   "cell_type": "code",
   "execution_count": 12,
   "id": "0af83ea2",
   "metadata": {},
   "outputs": [],
   "source": [
    "# example #\n",
    "g = \"Group\""
   ]
  },
  {
   "cell_type": "code",
   "execution_count": 13,
   "id": "9cb6a4d9",
   "metadata": {},
   "outputs": [
    {
     "data": {
      "text/plain": [
       "'puorG'"
      ]
     },
     "execution_count": 13,
     "metadata": {},
     "output_type": "execute_result"
    }
   ],
   "source": [
    "g[::-1]"
   ]
  },
  {
   "cell_type": "code",
   "execution_count": 14,
   "id": "a5448840",
   "metadata": {},
   "outputs": [
    {
     "name": "stdout",
     "output_type": "stream",
     "text": [
      "Enter your string for reversalGroup\n",
      "puorG\n"
     ]
    }
   ],
   "source": [
    "# reverse through while loop #\n",
    "word = input(\"Enter your string for reversal\")\n",
    "reverse =\"\"\n",
    "length = len(word)\n",
    "while length > 0:\n",
    "    reverse = reverse + word[length -1 ]\n",
    "    length = length -1\n",
    "print(reverse)\n",
    "    "
   ]
  },
  {
   "cell_type": "code",
   "execution_count": 15,
   "id": "fc0a6711",
   "metadata": {},
   "outputs": [
    {
     "name": "stdout",
     "output_type": "stream",
     "text": [
      "Enter your Limit 3\n"
     ]
    },
    {
     "data": {
      "text/plain": [
       "6"
      ]
     },
     "execution_count": 15,
     "metadata": {},
     "output_type": "execute_result"
    }
   ],
   "source": [
    "n = int(input(\"Enter your Limit \"))\n",
    "starting_point = 0 \n",
    "counter = 1\n",
    "\n",
    "while counter <= n:\n",
    "    starting_point = starting_point + counter\n",
    "    counter = counter +1 \n",
    "starting_point"
   ]
  },
  {
   "cell_type": "code",
   "execution_count": 16,
   "id": "64eca44a",
   "metadata": {},
   "outputs": [],
   "source": [
    "# Generate table of number #"
   ]
  },
  {
   "cell_type": "code",
   "execution_count": 17,
   "id": "62c0eac1",
   "metadata": {},
   "outputs": [
    {
     "name": "stdout",
     "output_type": "stream",
     "text": [
      "Enter your number5\n",
      "5 * 1 = 5\n",
      "5 * 2 = 10\n",
      "5 * 3 = 15\n",
      "5 * 4 = 20\n",
      "5 * 5 = 25\n",
      "5 * 6 = 30\n",
      "5 * 7 = 35\n",
      "5 * 8 = 40\n",
      "5 * 9 = 45\n",
      "5 * 10 = 50\n",
      "5 * 11 = 55\n",
      "5 * 12 = 60\n",
      "5 * 13 = 65\n",
      "5 * 14 = 70\n",
      "5 * 15 = 75\n",
      "5 * 16 = 80\n",
      "5 * 17 = 85\n",
      "5 * 18 = 90\n",
      "5 * 19 = 95\n",
      "5 * 20 = 100\n"
     ]
    }
   ],
   "source": [
    "n = int(input(\"Enter your number\"))\n",
    "i =1 \n",
    "while i<=20:\n",
    "    result = n*i\n",
    "    print(n,\"*\",i,\"=\",result)\n",
    "    i = i+1"
   ]
  },
  {
   "cell_type": "code",
   "execution_count": 18,
   "id": "ed3a7fe0",
   "metadata": {},
   "outputs": [],
   "source": [
    "# Using else with while #"
   ]
  },
  {
   "cell_type": "code",
   "execution_count": 19,
   "id": "d3fc08a9",
   "metadata": {},
   "outputs": [
    {
     "name": "stdout",
     "output_type": "stream",
     "text": [
      "1\n",
      "2\n",
      "3\n"
     ]
    }
   ],
   "source": [
    "n = 5\n",
    "i = 1\n",
    "while i <n:\n",
    "    print(i)\n",
    "    if i ==3:\n",
    "        break\n",
    "    i=i+1\n",
    "else:\n",
    "    print(\"This will be executed once your while will complete it successfully\")"
   ]
  },
  {
   "cell_type": "code",
   "execution_count": null,
   "id": "4f9329a4",
   "metadata": {},
   "outputs": [],
   "source": []
  }
 ],
 "metadata": {
  "kernelspec": {
   "display_name": "Python 3 (ipykernel)",
   "language": "python",
   "name": "python3"
  },
  "language_info": {
   "codemirror_mode": {
    "name": "ipython",
    "version": 3
   },
   "file_extension": ".py",
   "mimetype": "text/x-python",
   "name": "python",
   "nbconvert_exporter": "python",
   "pygments_lexer": "ipython3",
   "version": "3.11.5"
  }
 },
 "nbformat": 4,
 "nbformat_minor": 5
}
